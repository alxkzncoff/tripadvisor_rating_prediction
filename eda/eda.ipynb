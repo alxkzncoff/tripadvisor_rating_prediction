{
 "cells": [
  {
   "cell_type": "markdown",
   "id": "through-pixel",
   "metadata": {},
   "source": [
    "# IMPORT"
   ]
  },
  {
   "cell_type": "code",
   "execution_count": 400,
   "id": "fallen-florida",
   "metadata": {
    "ExecuteTime": {
     "end_time": "2021-07-25T12:23:01.856206Z",
     "start_time": "2021-07-25T12:23:01.845143Z"
    }
   },
   "outputs": [],
   "source": [
    "from tqdm import tqdm\n",
    "\n",
    "import pandas as pd\n",
    "import numpy as np\n",
    "import matplotlib.pyplot as plt\n",
    "import seaborn as sns\n",
    "import missingno as msno\n",
    "\n",
    "from ipywidgets import widgets\n",
    "\n",
    "from pandas_profiling import ProfileReport\n",
    "import sweetviz as sv"
   ]
  },
  {
   "cell_type": "markdown",
   "id": "automated-intake",
   "metadata": {},
   "source": [
    "# DEFINE"
   ]
  },
  {
   "cell_type": "code",
   "execution_count": 401,
   "id": "analyzed-convention",
   "metadata": {
    "ExecuteTime": {
     "end_time": "2021-07-25T12:23:01.871726Z",
     "start_time": "2021-07-25T12:23:01.859726Z"
    }
   },
   "outputs": [],
   "source": [
    "DATA_PATH = '../data/'"
   ]
  },
  {
   "cell_type": "markdown",
   "id": "surprised-corruption",
   "metadata": {},
   "source": [
    "# PREPARATION"
   ]
  },
  {
   "cell_type": "code",
   "execution_count": 402,
   "id": "adjustable-fifth",
   "metadata": {
    "ExecuteTime": {
     "end_time": "2021-07-25T12:23:02.266584Z",
     "start_time": "2021-07-25T12:23:01.874719Z"
    }
   },
   "outputs": [],
   "source": [
    "train = pd.read_csv(DATA_PATH+'train.csv')\n",
    "test = pd.read_csv(DATA_PATH+'test.csv')"
   ]
  },
  {
   "cell_type": "markdown",
   "id": "complicated-visibility",
   "metadata": {},
   "source": [
    "- **Restaurant_id** — идентификационный номер ресторана / сети ресторанов;\n",
    "- **City** — город, в котором находится ресторан;\n",
    "- **Cuisine Style** — кухня или кухни, к которым можно отнести блюда, предлагаемые в ресторане;\n",
    "- **Ranking** — место, которое занимает данный ресторан среди всех ресторанов своего города;\n",
    "- **Rating (target)** — рейтинг ресторана по данным TripAdvisor (именно это значение должна будет предсказывать модель);\n",
    "- **Price Range** — диапазон цен в ресторане;\n",
    "- **Number of Reviews** — количество отзывов о ресторане;\n",
    "- **Reviews** — данные о двух отзывах, которые отображаются на сайте ресторана;\n",
    "- **URL_TA** — URL страницы ресторана на TripAdvosor;\n",
    "- **ID_TA** — идентификатор ресторана в базе данных TripAdvisor."
   ]
  },
  {
   "cell_type": "markdown",
   "id": "removed-stake",
   "metadata": {},
   "source": [
    "## TRAIN"
   ]
  },
  {
   "cell_type": "code",
   "execution_count": 403,
   "id": "emerging-november",
   "metadata": {
    "ExecuteTime": {
     "end_time": "2021-07-25T12:23:02.298539Z",
     "start_time": "2021-07-25T12:23:02.269582Z"
    }
   },
   "outputs": [
    {
     "data": {
      "text/html": [
       "<div>\n",
       "<style scoped>\n",
       "    .dataframe tbody tr th:only-of-type {\n",
       "        vertical-align: middle;\n",
       "    }\n",
       "\n",
       "    .dataframe tbody tr th {\n",
       "        vertical-align: top;\n",
       "    }\n",
       "\n",
       "    .dataframe thead th {\n",
       "        text-align: right;\n",
       "    }\n",
       "</style>\n",
       "<table border=\"1\" class=\"dataframe\">\n",
       "  <thead>\n",
       "    <tr style=\"text-align: right;\">\n",
       "      <th></th>\n",
       "      <th>Restaurant_id</th>\n",
       "      <th>City</th>\n",
       "      <th>Cuisine Style</th>\n",
       "      <th>Ranking</th>\n",
       "      <th>Rating</th>\n",
       "      <th>Price Range</th>\n",
       "      <th>Number of Reviews</th>\n",
       "      <th>Reviews</th>\n",
       "      <th>URL_TA</th>\n",
       "      <th>ID_TA</th>\n",
       "    </tr>\n",
       "  </thead>\n",
       "  <tbody>\n",
       "    <tr>\n",
       "      <th>0</th>\n",
       "      <td>id_5569</td>\n",
       "      <td>Paris</td>\n",
       "      <td>['European', 'French', 'International']</td>\n",
       "      <td>5570.0</td>\n",
       "      <td>3.5</td>\n",
       "      <td>$$ - $$$</td>\n",
       "      <td>194.0</td>\n",
       "      <td>[['Good food at your doorstep', 'A good hotel ...</td>\n",
       "      <td>/Restaurant_Review-g187147-d1912643-Reviews-R_...</td>\n",
       "      <td>d1912643</td>\n",
       "    </tr>\n",
       "    <tr>\n",
       "      <th>1</th>\n",
       "      <td>id_1535</td>\n",
       "      <td>Stockholm</td>\n",
       "      <td>NaN</td>\n",
       "      <td>1537.0</td>\n",
       "      <td>4.0</td>\n",
       "      <td>NaN</td>\n",
       "      <td>10.0</td>\n",
       "      <td>[['Unique cuisine', 'Delicious Nepalese food']...</td>\n",
       "      <td>/Restaurant_Review-g189852-d7992032-Reviews-Bu...</td>\n",
       "      <td>d7992032</td>\n",
       "    </tr>\n",
       "    <tr>\n",
       "      <th>2</th>\n",
       "      <td>id_352</td>\n",
       "      <td>London</td>\n",
       "      <td>['Japanese', 'Sushi', 'Asian', 'Grill', 'Veget...</td>\n",
       "      <td>353.0</td>\n",
       "      <td>4.5</td>\n",
       "      <td>$$$$</td>\n",
       "      <td>688.0</td>\n",
       "      <td>[['Catch up with friends', 'Not exceptional'],...</td>\n",
       "      <td>/Restaurant_Review-g186338-d8632781-Reviews-RO...</td>\n",
       "      <td>d8632781</td>\n",
       "    </tr>\n",
       "    <tr>\n",
       "      <th>3</th>\n",
       "      <td>id_3456</td>\n",
       "      <td>Berlin</td>\n",
       "      <td>NaN</td>\n",
       "      <td>3458.0</td>\n",
       "      <td>5.0</td>\n",
       "      <td>NaN</td>\n",
       "      <td>3.0</td>\n",
       "      <td>[[], []]</td>\n",
       "      <td>/Restaurant_Review-g187323-d1358776-Reviews-Es...</td>\n",
       "      <td>d1358776</td>\n",
       "    </tr>\n",
       "    <tr>\n",
       "      <th>4</th>\n",
       "      <td>id_615</td>\n",
       "      <td>Munich</td>\n",
       "      <td>['German', 'Central European', 'Vegetarian Fri...</td>\n",
       "      <td>621.0</td>\n",
       "      <td>4.0</td>\n",
       "      <td>$$ - $$$</td>\n",
       "      <td>84.0</td>\n",
       "      <td>[['Best place to try a Bavarian food', 'Nice b...</td>\n",
       "      <td>/Restaurant_Review-g187309-d6864963-Reviews-Au...</td>\n",
       "      <td>d6864963</td>\n",
       "    </tr>\n",
       "    <tr>\n",
       "      <th>5</th>\n",
       "      <td>id_1418</td>\n",
       "      <td>Oporto</td>\n",
       "      <td>NaN</td>\n",
       "      <td>1419.0</td>\n",
       "      <td>3.0</td>\n",
       "      <td>NaN</td>\n",
       "      <td>2.0</td>\n",
       "      <td>[['There are better 3 star hotel bars', 'Amazi...</td>\n",
       "      <td>/Restaurant_Review-g189180-d12503536-Reviews-D...</td>\n",
       "      <td>d12503536</td>\n",
       "    </tr>\n",
       "    <tr>\n",
       "      <th>6</th>\n",
       "      <td>id_1720</td>\n",
       "      <td>Milan</td>\n",
       "      <td>['Italian', 'Pizza']</td>\n",
       "      <td>1722.0</td>\n",
       "      <td>4.0</td>\n",
       "      <td>$</td>\n",
       "      <td>50.0</td>\n",
       "      <td>[['Excellent simple local eatery.', 'Excellent...</td>\n",
       "      <td>/Restaurant_Review-g187849-d5808504-Reviews-Pi...</td>\n",
       "      <td>d5808504</td>\n",
       "    </tr>\n",
       "    <tr>\n",
       "      <th>7</th>\n",
       "      <td>id_825</td>\n",
       "      <td>Bratislava</td>\n",
       "      <td>['Italian']</td>\n",
       "      <td>826.0</td>\n",
       "      <td>3.0</td>\n",
       "      <td>NaN</td>\n",
       "      <td>9.0</td>\n",
       "      <td>[['Wasting of money', 'excellent cuisine'], ['...</td>\n",
       "      <td>/Restaurant_Review-g274924-d3199765-Reviews-Ri...</td>\n",
       "      <td>d3199765</td>\n",
       "    </tr>\n",
       "    <tr>\n",
       "      <th>8</th>\n",
       "      <td>id_2690</td>\n",
       "      <td>Vienna</td>\n",
       "      <td>NaN</td>\n",
       "      <td>2692.0</td>\n",
       "      <td>4.0</td>\n",
       "      <td>NaN</td>\n",
       "      <td>NaN</td>\n",
       "      <td>[[], []]</td>\n",
       "      <td>/Restaurant_Review-g190454-d12845029-Reviews-G...</td>\n",
       "      <td>d12845029</td>\n",
       "    </tr>\n",
       "    <tr>\n",
       "      <th>9</th>\n",
       "      <td>id_4209</td>\n",
       "      <td>Rome</td>\n",
       "      <td>['Italian', 'Pizza', 'Fast Food']</td>\n",
       "      <td>4210.0</td>\n",
       "      <td>4.0</td>\n",
       "      <td>$</td>\n",
       "      <td>55.0</td>\n",
       "      <td>[['Clean efficient staff', 'Nice little pizza ...</td>\n",
       "      <td>/Restaurant_Review-g187791-d8020681-Reviews-Qu...</td>\n",
       "      <td>d8020681</td>\n",
       "    </tr>\n",
       "  </tbody>\n",
       "</table>\n",
       "</div>"
      ],
      "text/plain": [
       "  Restaurant_id        City  \\\n",
       "0       id_5569       Paris   \n",
       "1       id_1535   Stockholm   \n",
       "2        id_352      London   \n",
       "3       id_3456      Berlin   \n",
       "4        id_615      Munich   \n",
       "5       id_1418      Oporto   \n",
       "6       id_1720       Milan   \n",
       "7        id_825  Bratislava   \n",
       "8       id_2690      Vienna   \n",
       "9       id_4209        Rome   \n",
       "\n",
       "                                       Cuisine Style  Ranking  Rating  \\\n",
       "0            ['European', 'French', 'International']   5570.0     3.5   \n",
       "1                                                NaN   1537.0     4.0   \n",
       "2  ['Japanese', 'Sushi', 'Asian', 'Grill', 'Veget...    353.0     4.5   \n",
       "3                                                NaN   3458.0     5.0   \n",
       "4  ['German', 'Central European', 'Vegetarian Fri...    621.0     4.0   \n",
       "5                                                NaN   1419.0     3.0   \n",
       "6                               ['Italian', 'Pizza']   1722.0     4.0   \n",
       "7                                        ['Italian']    826.0     3.0   \n",
       "8                                                NaN   2692.0     4.0   \n",
       "9                  ['Italian', 'Pizza', 'Fast Food']   4210.0     4.0   \n",
       "\n",
       "  Price Range  Number of Reviews  \\\n",
       "0    $$ - $$$              194.0   \n",
       "1         NaN               10.0   \n",
       "2        $$$$              688.0   \n",
       "3         NaN                3.0   \n",
       "4    $$ - $$$               84.0   \n",
       "5         NaN                2.0   \n",
       "6           $               50.0   \n",
       "7         NaN                9.0   \n",
       "8         NaN                NaN   \n",
       "9           $               55.0   \n",
       "\n",
       "                                             Reviews  \\\n",
       "0  [['Good food at your doorstep', 'A good hotel ...   \n",
       "1  [['Unique cuisine', 'Delicious Nepalese food']...   \n",
       "2  [['Catch up with friends', 'Not exceptional'],...   \n",
       "3                                           [[], []]   \n",
       "4  [['Best place to try a Bavarian food', 'Nice b...   \n",
       "5  [['There are better 3 star hotel bars', 'Amazi...   \n",
       "6  [['Excellent simple local eatery.', 'Excellent...   \n",
       "7  [['Wasting of money', 'excellent cuisine'], ['...   \n",
       "8                                           [[], []]   \n",
       "9  [['Clean efficient staff', 'Nice little pizza ...   \n",
       "\n",
       "                                              URL_TA      ID_TA  \n",
       "0  /Restaurant_Review-g187147-d1912643-Reviews-R_...   d1912643  \n",
       "1  /Restaurant_Review-g189852-d7992032-Reviews-Bu...   d7992032  \n",
       "2  /Restaurant_Review-g186338-d8632781-Reviews-RO...   d8632781  \n",
       "3  /Restaurant_Review-g187323-d1358776-Reviews-Es...   d1358776  \n",
       "4  /Restaurant_Review-g187309-d6864963-Reviews-Au...   d6864963  \n",
       "5  /Restaurant_Review-g189180-d12503536-Reviews-D...  d12503536  \n",
       "6  /Restaurant_Review-g187849-d5808504-Reviews-Pi...   d5808504  \n",
       "7  /Restaurant_Review-g274924-d3199765-Reviews-Ri...   d3199765  \n",
       "8  /Restaurant_Review-g190454-d12845029-Reviews-G...  d12845029  \n",
       "9  /Restaurant_Review-g187791-d8020681-Reviews-Qu...   d8020681  "
      ]
     },
     "execution_count": 403,
     "metadata": {},
     "output_type": "execute_result"
    }
   ],
   "source": [
    "train.head(10)"
   ]
  },
  {
   "cell_type": "code",
   "execution_count": 404,
   "id": "constant-burner",
   "metadata": {
    "ExecuteTime": {
     "end_time": "2021-07-25T12:23:02.330453Z",
     "start_time": "2021-07-25T12:23:02.300499Z"
    }
   },
   "outputs": [
    {
     "data": {
      "text/html": [
       "<div>\n",
       "<style scoped>\n",
       "    .dataframe tbody tr th:only-of-type {\n",
       "        vertical-align: middle;\n",
       "    }\n",
       "\n",
       "    .dataframe tbody tr th {\n",
       "        vertical-align: top;\n",
       "    }\n",
       "\n",
       "    .dataframe thead th {\n",
       "        text-align: right;\n",
       "    }\n",
       "</style>\n",
       "<table border=\"1\" class=\"dataframe\">\n",
       "  <thead>\n",
       "    <tr style=\"text-align: right;\">\n",
       "      <th></th>\n",
       "      <th>Restaurant_id</th>\n",
       "      <th>City</th>\n",
       "      <th>Cuisine Style</th>\n",
       "      <th>Ranking</th>\n",
       "      <th>Rating</th>\n",
       "      <th>Price Range</th>\n",
       "      <th>Number of Reviews</th>\n",
       "      <th>Reviews</th>\n",
       "      <th>URL_TA</th>\n",
       "      <th>ID_TA</th>\n",
       "    </tr>\n",
       "  </thead>\n",
       "  <tbody>\n",
       "    <tr>\n",
       "      <th>39990</th>\n",
       "      <td>id_1187</td>\n",
       "      <td>Oporto</td>\n",
       "      <td>['European', 'Portuguese']</td>\n",
       "      <td>1188.0</td>\n",
       "      <td>4.5</td>\n",
       "      <td>NaN</td>\n",
       "      <td>14.0</td>\n",
       "      <td>[['Traditional \"home cooked\" food for an \"eco....</td>\n",
       "      <td>/Restaurant_Review-g189180-d3612719-Reviews-D_...</td>\n",
       "      <td>d3612719</td>\n",
       "    </tr>\n",
       "    <tr>\n",
       "      <th>39991</th>\n",
       "      <td>id_6655</td>\n",
       "      <td>Paris</td>\n",
       "      <td>['French', 'Contemporary', 'Fusion', 'Gastropub']</td>\n",
       "      <td>6656.0</td>\n",
       "      <td>5.0</td>\n",
       "      <td>$$ - $$$</td>\n",
       "      <td>5.0</td>\n",
       "      <td>[[], []]</td>\n",
       "      <td>/Restaurant_Review-g187147-d13224611-Reviews-L...</td>\n",
       "      <td>d13224611</td>\n",
       "    </tr>\n",
       "    <tr>\n",
       "      <th>39992</th>\n",
       "      <td>id_13</td>\n",
       "      <td>Stockholm</td>\n",
       "      <td>['Swedish', 'Scandinavian', 'Vegetarian Friend...</td>\n",
       "      <td>14.0</td>\n",
       "      <td>4.5</td>\n",
       "      <td>$$ - $$$</td>\n",
       "      <td>1162.0</td>\n",
       "      <td>[['Great Viking Dinner', 'A foot stompingly go...</td>\n",
       "      <td>/Restaurant_Review-g189852-d2560559-Reviews-Ai...</td>\n",
       "      <td>d2560559</td>\n",
       "    </tr>\n",
       "    <tr>\n",
       "      <th>39993</th>\n",
       "      <td>id_6057</td>\n",
       "      <td>Paris</td>\n",
       "      <td>NaN</td>\n",
       "      <td>6058.0</td>\n",
       "      <td>4.0</td>\n",
       "      <td>NaN</td>\n",
       "      <td>16.0</td>\n",
       "      <td>[['Naught but VERY nice', 'Yum'], ['01/23/2017...</td>\n",
       "      <td>/Restaurant_Review-g187147-d10532509-Reviews-B...</td>\n",
       "      <td>d10532509</td>\n",
       "    </tr>\n",
       "    <tr>\n",
       "      <th>39994</th>\n",
       "      <td>id_7074</td>\n",
       "      <td>Paris</td>\n",
       "      <td>['French', 'Fast Food', 'Mediterranean', 'Heal...</td>\n",
       "      <td>7075.0</td>\n",
       "      <td>4.5</td>\n",
       "      <td>$$ - $$$</td>\n",
       "      <td>6.0</td>\n",
       "      <td>[[], []]</td>\n",
       "      <td>/Restaurant_Review-g187147-d12621988-Reviews-C...</td>\n",
       "      <td>d12621988</td>\n",
       "    </tr>\n",
       "    <tr>\n",
       "      <th>39995</th>\n",
       "      <td>id_499</td>\n",
       "      <td>Milan</td>\n",
       "      <td>['Italian', 'Vegetarian Friendly', 'Vegan Opti...</td>\n",
       "      <td>500.0</td>\n",
       "      <td>4.5</td>\n",
       "      <td>$$ - $$$</td>\n",
       "      <td>79.0</td>\n",
       "      <td>[['The real Italian experience!', 'Wonderful f...</td>\n",
       "      <td>/Restaurant_Review-g187849-d2104414-Reviews-Ro...</td>\n",
       "      <td>d2104414</td>\n",
       "    </tr>\n",
       "    <tr>\n",
       "      <th>39996</th>\n",
       "      <td>id_6340</td>\n",
       "      <td>Paris</td>\n",
       "      <td>['French', 'American', 'Bar', 'European', 'Veg...</td>\n",
       "      <td>6341.0</td>\n",
       "      <td>3.5</td>\n",
       "      <td>$$ - $$$</td>\n",
       "      <td>542.0</td>\n",
       "      <td>[['Parisian atmosphere', 'Bit pricey but inter...</td>\n",
       "      <td>/Restaurant_Review-g187147-d1800036-Reviews-La...</td>\n",
       "      <td>d1800036</td>\n",
       "    </tr>\n",
       "    <tr>\n",
       "      <th>39997</th>\n",
       "      <td>id_1649</td>\n",
       "      <td>Stockholm</td>\n",
       "      <td>['Japanese', 'Sushi']</td>\n",
       "      <td>1652.0</td>\n",
       "      <td>4.5</td>\n",
       "      <td>NaN</td>\n",
       "      <td>4.0</td>\n",
       "      <td>[['Good by swedish standards', 'A hidden jewel...</td>\n",
       "      <td>/Restaurant_Review-g189852-d947615-Reviews-Sus...</td>\n",
       "      <td>d947615</td>\n",
       "    </tr>\n",
       "    <tr>\n",
       "      <th>39998</th>\n",
       "      <td>id_640</td>\n",
       "      <td>Warsaw</td>\n",
       "      <td>['Polish', 'European', 'Eastern European', 'Ce...</td>\n",
       "      <td>641.0</td>\n",
       "      <td>4.0</td>\n",
       "      <td>$$ - $$$</td>\n",
       "      <td>70.0</td>\n",
       "      <td>[['Underground restaurant', 'Oldest Restaurant...</td>\n",
       "      <td>/Restaurant_Review-g274856-d1100838-Reviews-Ho...</td>\n",
       "      <td>d1100838</td>\n",
       "    </tr>\n",
       "    <tr>\n",
       "      <th>39999</th>\n",
       "      <td>id_4824</td>\n",
       "      <td>Milan</td>\n",
       "      <td>['Spanish']</td>\n",
       "      <td>4827.0</td>\n",
       "      <td>3.0</td>\n",
       "      <td>$$ - $$$</td>\n",
       "      <td>260.0</td>\n",
       "      <td>[['Average', 'Nice an informal'], ['01/31/2016...</td>\n",
       "      <td>/Restaurant_Review-g187849-d1109020-Reviews-Ta...</td>\n",
       "      <td>d1109020</td>\n",
       "    </tr>\n",
       "  </tbody>\n",
       "</table>\n",
       "</div>"
      ],
      "text/plain": [
       "      Restaurant_id       City  \\\n",
       "39990       id_1187     Oporto   \n",
       "39991       id_6655      Paris   \n",
       "39992         id_13  Stockholm   \n",
       "39993       id_6057      Paris   \n",
       "39994       id_7074      Paris   \n",
       "39995        id_499      Milan   \n",
       "39996       id_6340      Paris   \n",
       "39997       id_1649  Stockholm   \n",
       "39998        id_640     Warsaw   \n",
       "39999       id_4824      Milan   \n",
       "\n",
       "                                           Cuisine Style  Ranking  Rating  \\\n",
       "39990                         ['European', 'Portuguese']   1188.0     4.5   \n",
       "39991  ['French', 'Contemporary', 'Fusion', 'Gastropub']   6656.0     5.0   \n",
       "39992  ['Swedish', 'Scandinavian', 'Vegetarian Friend...     14.0     4.5   \n",
       "39993                                                NaN   6058.0     4.0   \n",
       "39994  ['French', 'Fast Food', 'Mediterranean', 'Heal...   7075.0     4.5   \n",
       "39995  ['Italian', 'Vegetarian Friendly', 'Vegan Opti...    500.0     4.5   \n",
       "39996  ['French', 'American', 'Bar', 'European', 'Veg...   6341.0     3.5   \n",
       "39997                              ['Japanese', 'Sushi']   1652.0     4.5   \n",
       "39998  ['Polish', 'European', 'Eastern European', 'Ce...    641.0     4.0   \n",
       "39999                                        ['Spanish']   4827.0     3.0   \n",
       "\n",
       "      Price Range  Number of Reviews  \\\n",
       "39990         NaN               14.0   \n",
       "39991    $$ - $$$                5.0   \n",
       "39992    $$ - $$$             1162.0   \n",
       "39993         NaN               16.0   \n",
       "39994    $$ - $$$                6.0   \n",
       "39995    $$ - $$$               79.0   \n",
       "39996    $$ - $$$              542.0   \n",
       "39997         NaN                4.0   \n",
       "39998    $$ - $$$               70.0   \n",
       "39999    $$ - $$$              260.0   \n",
       "\n",
       "                                                 Reviews  \\\n",
       "39990  [['Traditional \"home cooked\" food for an \"eco....   \n",
       "39991                                           [[], []]   \n",
       "39992  [['Great Viking Dinner', 'A foot stompingly go...   \n",
       "39993  [['Naught but VERY nice', 'Yum'], ['01/23/2017...   \n",
       "39994                                           [[], []]   \n",
       "39995  [['The real Italian experience!', 'Wonderful f...   \n",
       "39996  [['Parisian atmosphere', 'Bit pricey but inter...   \n",
       "39997  [['Good by swedish standards', 'A hidden jewel...   \n",
       "39998  [['Underground restaurant', 'Oldest Restaurant...   \n",
       "39999  [['Average', 'Nice an informal'], ['01/31/2016...   \n",
       "\n",
       "                                                  URL_TA      ID_TA  \n",
       "39990  /Restaurant_Review-g189180-d3612719-Reviews-D_...   d3612719  \n",
       "39991  /Restaurant_Review-g187147-d13224611-Reviews-L...  d13224611  \n",
       "39992  /Restaurant_Review-g189852-d2560559-Reviews-Ai...   d2560559  \n",
       "39993  /Restaurant_Review-g187147-d10532509-Reviews-B...  d10532509  \n",
       "39994  /Restaurant_Review-g187147-d12621988-Reviews-C...  d12621988  \n",
       "39995  /Restaurant_Review-g187849-d2104414-Reviews-Ro...   d2104414  \n",
       "39996  /Restaurant_Review-g187147-d1800036-Reviews-La...   d1800036  \n",
       "39997  /Restaurant_Review-g189852-d947615-Reviews-Sus...    d947615  \n",
       "39998  /Restaurant_Review-g274856-d1100838-Reviews-Ho...   d1100838  \n",
       "39999  /Restaurant_Review-g187849-d1109020-Reviews-Ta...   d1109020  "
      ]
     },
     "execution_count": 404,
     "metadata": {},
     "output_type": "execute_result"
    }
   ],
   "source": [
    "train.tail(10)"
   ]
  },
  {
   "cell_type": "code",
   "execution_count": 405,
   "id": "independent-toyota",
   "metadata": {
    "ExecuteTime": {
     "end_time": "2021-07-25T12:23:02.377330Z",
     "start_time": "2021-07-25T12:23:02.332414Z"
    }
   },
   "outputs": [
    {
     "name": "stdout",
     "output_type": "stream",
     "text": [
      "<class 'pandas.core.frame.DataFrame'>\n",
      "RangeIndex: 40000 entries, 0 to 39999\n",
      "Data columns (total 10 columns):\n",
      " #   Column             Non-Null Count  Dtype  \n",
      "---  ------             --------------  -----  \n",
      " 0   Restaurant_id      40000 non-null  object \n",
      " 1   City               40000 non-null  object \n",
      " 2   Cuisine Style      30717 non-null  object \n",
      " 3   Ranking            40000 non-null  float64\n",
      " 4   Rating             40000 non-null  float64\n",
      " 5   Price Range        26114 non-null  object \n",
      " 6   Number of Reviews  37457 non-null  float64\n",
      " 7   Reviews            40000 non-null  object \n",
      " 8   URL_TA             40000 non-null  object \n",
      " 9   ID_TA              40000 non-null  object \n",
      "dtypes: float64(3), object(7)\n",
      "memory usage: 3.1+ MB\n"
     ]
    }
   ],
   "source": [
    "train.info()"
   ]
  },
  {
   "cell_type": "code",
   "execution_count": 406,
   "id": "exact-arrow",
   "metadata": {
    "ExecuteTime": {
     "end_time": "2021-07-25T12:23:02.424204Z",
     "start_time": "2021-07-25T12:23:02.381318Z"
    }
   },
   "outputs": [
    {
     "data": {
      "text/html": [
       "<div>\n",
       "<style scoped>\n",
       "    .dataframe tbody tr th:only-of-type {\n",
       "        vertical-align: middle;\n",
       "    }\n",
       "\n",
       "    .dataframe tbody tr th {\n",
       "        vertical-align: top;\n",
       "    }\n",
       "\n",
       "    .dataframe thead th {\n",
       "        text-align: right;\n",
       "    }\n",
       "</style>\n",
       "<table border=\"1\" class=\"dataframe\">\n",
       "  <thead>\n",
       "    <tr style=\"text-align: right;\">\n",
       "      <th></th>\n",
       "      <th>count</th>\n",
       "      <th>mean</th>\n",
       "      <th>std</th>\n",
       "      <th>min</th>\n",
       "      <th>25%</th>\n",
       "      <th>50%</th>\n",
       "      <th>75%</th>\n",
       "      <th>max</th>\n",
       "    </tr>\n",
       "  </thead>\n",
       "  <tbody>\n",
       "    <tr>\n",
       "      <th>Ranking</th>\n",
       "      <td>40000.0</td>\n",
       "      <td>3676.028525</td>\n",
       "      <td>3708.749567</td>\n",
       "      <td>1.0</td>\n",
       "      <td>973.0</td>\n",
       "      <td>2285.0</td>\n",
       "      <td>5260.0</td>\n",
       "      <td>16444.0</td>\n",
       "    </tr>\n",
       "    <tr>\n",
       "      <th>Rating</th>\n",
       "      <td>40000.0</td>\n",
       "      <td>3.993037</td>\n",
       "      <td>0.668417</td>\n",
       "      <td>1.0</td>\n",
       "      <td>3.5</td>\n",
       "      <td>4.0</td>\n",
       "      <td>4.5</td>\n",
       "      <td>5.0</td>\n",
       "    </tr>\n",
       "    <tr>\n",
       "      <th>Number of Reviews</th>\n",
       "      <td>37457.0</td>\n",
       "      <td>124.825480</td>\n",
       "      <td>295.666352</td>\n",
       "      <td>2.0</td>\n",
       "      <td>9.0</td>\n",
       "      <td>33.0</td>\n",
       "      <td>115.0</td>\n",
       "      <td>9660.0</td>\n",
       "    </tr>\n",
       "  </tbody>\n",
       "</table>\n",
       "</div>"
      ],
      "text/plain": [
       "                     count         mean          std  min    25%     50%  \\\n",
       "Ranking            40000.0  3676.028525  3708.749567  1.0  973.0  2285.0   \n",
       "Rating             40000.0     3.993037     0.668417  1.0    3.5     4.0   \n",
       "Number of Reviews  37457.0   124.825480   295.666352  2.0    9.0    33.0   \n",
       "\n",
       "                      75%      max  \n",
       "Ranking            5260.0  16444.0  \n",
       "Rating                4.5      5.0  \n",
       "Number of Reviews   115.0   9660.0  "
      ]
     },
     "execution_count": 406,
     "metadata": {},
     "output_type": "execute_result"
    }
   ],
   "source": [
    "train.describe().T"
   ]
  },
  {
   "cell_type": "code",
   "execution_count": 407,
   "id": "stylish-appeal",
   "metadata": {
    "ExecuteTime": {
     "end_time": "2021-07-25T12:23:02.612773Z",
     "start_time": "2021-07-25T12:23:02.427162Z"
    }
   },
   "outputs": [
    {
     "data": {
      "text/html": [
       "<div>\n",
       "<style scoped>\n",
       "    .dataframe tbody tr th:only-of-type {\n",
       "        vertical-align: middle;\n",
       "    }\n",
       "\n",
       "    .dataframe tbody tr th {\n",
       "        vertical-align: top;\n",
       "    }\n",
       "\n",
       "    .dataframe thead th {\n",
       "        text-align: right;\n",
       "    }\n",
       "</style>\n",
       "<table border=\"1\" class=\"dataframe\">\n",
       "  <thead>\n",
       "    <tr style=\"text-align: right;\">\n",
       "      <th></th>\n",
       "      <th>count</th>\n",
       "      <th>unique</th>\n",
       "      <th>top</th>\n",
       "      <th>freq</th>\n",
       "    </tr>\n",
       "  </thead>\n",
       "  <tbody>\n",
       "    <tr>\n",
       "      <th>Restaurant_id</th>\n",
       "      <td>40000</td>\n",
       "      <td>11909</td>\n",
       "      <td>id_871</td>\n",
       "      <td>18</td>\n",
       "    </tr>\n",
       "    <tr>\n",
       "      <th>City</th>\n",
       "      <td>40000</td>\n",
       "      <td>31</td>\n",
       "      <td>London</td>\n",
       "      <td>5757</td>\n",
       "    </tr>\n",
       "    <tr>\n",
       "      <th>Cuisine Style</th>\n",
       "      <td>30717</td>\n",
       "      <td>9007</td>\n",
       "      <td>['Italian']</td>\n",
       "      <td>1032</td>\n",
       "    </tr>\n",
       "    <tr>\n",
       "      <th>Price Range</th>\n",
       "      <td>26114</td>\n",
       "      <td>3</td>\n",
       "      <td>$$ - $$$</td>\n",
       "      <td>18412</td>\n",
       "    </tr>\n",
       "    <tr>\n",
       "      <th>Reviews</th>\n",
       "      <td>40000</td>\n",
       "      <td>33516</td>\n",
       "      <td>[[], []]</td>\n",
       "      <td>6471</td>\n",
       "    </tr>\n",
       "    <tr>\n",
       "      <th>URL_TA</th>\n",
       "      <td>40000</td>\n",
       "      <td>39980</td>\n",
       "      <td>/Restaurant_Review-g187514-d11698990-Reviews-V...</td>\n",
       "      <td>2</td>\n",
       "    </tr>\n",
       "    <tr>\n",
       "      <th>ID_TA</th>\n",
       "      <td>40000</td>\n",
       "      <td>39980</td>\n",
       "      <td>d11698990</td>\n",
       "      <td>2</td>\n",
       "    </tr>\n",
       "  </tbody>\n",
       "</table>\n",
       "</div>"
      ],
      "text/plain": [
       "               count unique  \\\n",
       "Restaurant_id  40000  11909   \n",
       "City           40000     31   \n",
       "Cuisine Style  30717   9007   \n",
       "Price Range    26114      3   \n",
       "Reviews        40000  33516   \n",
       "URL_TA         40000  39980   \n",
       "ID_TA          40000  39980   \n",
       "\n",
       "                                                             top   freq  \n",
       "Restaurant_id                                             id_871     18  \n",
       "City                                                      London   5757  \n",
       "Cuisine Style                                        ['Italian']   1032  \n",
       "Price Range                                             $$ - $$$  18412  \n",
       "Reviews                                                 [[], []]   6471  \n",
       "URL_TA         /Restaurant_Review-g187514-d11698990-Reviews-V...      2  \n",
       "ID_TA                                                  d11698990      2  "
      ]
     },
     "execution_count": 407,
     "metadata": {},
     "output_type": "execute_result"
    }
   ],
   "source": [
    "train.describe(include=['O']).T"
   ]
  },
  {
   "cell_type": "code",
   "execution_count": 408,
   "id": "overall-while",
   "metadata": {
    "ExecuteTime": {
     "end_time": "2021-07-25T12:23:03.104804Z",
     "start_time": "2021-07-25T12:23:02.615657Z"
    }
   },
   "outputs": [
    {
     "data": {
      "text/plain": [
       "<AxesSubplot:>"
      ]
     },
     "execution_count": 408,
     "metadata": {},
     "output_type": "execute_result"
    },
    {
     "data": {
      "image/png": "[encoded data removed]",
      "text/plain": [
       "<Figure size 1800x720 with 2 Axes>"
      ]
     },
     "metadata": {
      "needs_background": "light"
     },
     "output_type": "display_data"
    }
   ],
   "source": [
    "# Missing values\n",
    "msno.matrix(train)"
   ]
  },
  {
   "cell_type": "markdown",
   "id": "dried-accountability",
   "metadata": {},
   "source": [
    "## TEST"
   ]
  },
  {
   "cell_type": "code",
   "execution_count": 409,
   "id": "figured-signal",
   "metadata": {
    "ExecuteTime": {
     "end_time": "2021-07-25T12:23:03.136743Z",
     "start_time": "2021-07-25T12:23:03.105801Z"
    }
   },
   "outputs": [
    {
     "data": {
      "text/html": [
       "<div>\n",
       "<style scoped>\n",
       "    .dataframe tbody tr th:only-of-type {\n",
       "        vertical-align: middle;\n",
       "    }\n",
       "\n",
       "    .dataframe tbody tr th {\n",
       "        vertical-align: top;\n",
       "    }\n",
       "\n",
       "    .dataframe thead th {\n",
       "        text-align: right;\n",
       "    }\n",
       "</style>\n",
       "<table border=\"1\" class=\"dataframe\">\n",
       "  <thead>\n",
       "    <tr style=\"text-align: right;\">\n",
       "      <th></th>\n",
       "      <th>Restaurant_id</th>\n",
       "      <th>City</th>\n",
       "      <th>Cuisine Style</th>\n",
       "      <th>Ranking</th>\n",
       "      <th>Price Range</th>\n",
       "      <th>Number of Reviews</th>\n",
       "      <th>Reviews</th>\n",
       "      <th>URL_TA</th>\n",
       "      <th>ID_TA</th>\n",
       "    </tr>\n",
       "  </thead>\n",
       "  <tbody>\n",
       "    <tr>\n",
       "      <th>0</th>\n",
       "      <td>id_0</td>\n",
       "      <td>Paris</td>\n",
       "      <td>['Bar', 'Pub']</td>\n",
       "      <td>12963.0</td>\n",
       "      <td>$$ - $$$</td>\n",
       "      <td>4.0</td>\n",
       "      <td>[[], []]</td>\n",
       "      <td>/Restaurant_Review-g187147-d10746918-Reviews-L...</td>\n",
       "      <td>d10746918</td>\n",
       "    </tr>\n",
       "    <tr>\n",
       "      <th>1</th>\n",
       "      <td>id_1</td>\n",
       "      <td>Helsinki</td>\n",
       "      <td>['European', 'Scandinavian', 'Gluten Free Opti...</td>\n",
       "      <td>106.0</td>\n",
       "      <td>$$ - $$$</td>\n",
       "      <td>97.0</td>\n",
       "      <td>[['Very good reviews!', 'Fine dining in Hakani...</td>\n",
       "      <td>/Restaurant_Review-g189934-d6674944-Reviews-Ra...</td>\n",
       "      <td>d6674944</td>\n",
       "    </tr>\n",
       "    <tr>\n",
       "      <th>2</th>\n",
       "      <td>id_2</td>\n",
       "      <td>Edinburgh</td>\n",
       "      <td>['Vegetarian Friendly']</td>\n",
       "      <td>810.0</td>\n",
       "      <td>$$ - $$$</td>\n",
       "      <td>28.0</td>\n",
       "      <td>[['Better than the Links', 'Ivy Black'], ['12/...</td>\n",
       "      <td>/Restaurant_Review-g186525-d13129638-Reviews-B...</td>\n",
       "      <td>d13129638</td>\n",
       "    </tr>\n",
       "    <tr>\n",
       "      <th>3</th>\n",
       "      <td>id_3</td>\n",
       "      <td>London</td>\n",
       "      <td>['Italian', 'Mediterranean', 'European', 'Vege...</td>\n",
       "      <td>1669.0</td>\n",
       "      <td>$$$$</td>\n",
       "      <td>202.0</td>\n",
       "      <td>[['Most exquisite', 'Delicious and authentic']...</td>\n",
       "      <td>/Restaurant_Review-g186338-d680417-Reviews-Qui...</td>\n",
       "      <td>d680417</td>\n",
       "    </tr>\n",
       "    <tr>\n",
       "      <th>4</th>\n",
       "      <td>id_4</td>\n",
       "      <td>Bratislava</td>\n",
       "      <td>['Italian', 'Mediterranean', 'European', 'Seaf...</td>\n",
       "      <td>37.0</td>\n",
       "      <td>$$$$</td>\n",
       "      <td>162.0</td>\n",
       "      <td>[['Always the best in bratislava', 'Very good ...</td>\n",
       "      <td>/Restaurant_Review-g274924-d1112354-Reviews-Ma...</td>\n",
       "      <td>d1112354</td>\n",
       "    </tr>\n",
       "    <tr>\n",
       "      <th>5</th>\n",
       "      <td>id_5</td>\n",
       "      <td>Paris</td>\n",
       "      <td>['French', 'Cafe', 'Fast Food']</td>\n",
       "      <td>5093.0</td>\n",
       "      <td>$</td>\n",
       "      <td>24.0</td>\n",
       "      <td>[['Lunch Break', 'Good to Quick Bite'], ['09/0...</td>\n",
       "      <td>/Restaurant_Review-g187147-d8458643-Reviews-Le...</td>\n",
       "      <td>d8458643</td>\n",
       "    </tr>\n",
       "    <tr>\n",
       "      <th>6</th>\n",
       "      <td>id_6</td>\n",
       "      <td>Lisbon</td>\n",
       "      <td>['European', 'Portuguese']</td>\n",
       "      <td>3704.0</td>\n",
       "      <td>$</td>\n",
       "      <td>2.0</td>\n",
       "      <td>[[], []]</td>\n",
       "      <td>/Restaurant_Review-g189158-d8758873-Reviews-Li...</td>\n",
       "      <td>d8758873</td>\n",
       "    </tr>\n",
       "    <tr>\n",
       "      <th>7</th>\n",
       "      <td>id_7</td>\n",
       "      <td>Budapest</td>\n",
       "      <td>NaN</td>\n",
       "      <td>2330.0</td>\n",
       "      <td>NaN</td>\n",
       "      <td>NaN</td>\n",
       "      <td>[[], []]</td>\n",
       "      <td>/Restaurant_Review-g274887-d8286886-Reviews-Be...</td>\n",
       "      <td>d8286886</td>\n",
       "    </tr>\n",
       "    <tr>\n",
       "      <th>8</th>\n",
       "      <td>id_8</td>\n",
       "      <td>Helsinki</td>\n",
       "      <td>['European', 'Scandinavian']</td>\n",
       "      <td>771.0</td>\n",
       "      <td>NaN</td>\n",
       "      <td>2.0</td>\n",
       "      <td>[['Big group supper', 'Good food but very slow...</td>\n",
       "      <td>/Restaurant_Review-g189934-d12947542-Reviews-B...</td>\n",
       "      <td>d12947542</td>\n",
       "    </tr>\n",
       "    <tr>\n",
       "      <th>9</th>\n",
       "      <td>id_9</td>\n",
       "      <td>Stockholm</td>\n",
       "      <td>['Italian']</td>\n",
       "      <td>605.0</td>\n",
       "      <td>NaN</td>\n",
       "      <td>13.0</td>\n",
       "      <td>[['Good food', 'Good pizza'], ['12/02/2017', '...</td>\n",
       "      <td>/Restaurant_Review-g189852-d12716384-Reviews-I...</td>\n",
       "      <td>d12716384</td>\n",
       "    </tr>\n",
       "  </tbody>\n",
       "</table>\n",
       "</div>"
      ],
      "text/plain": [
       "  Restaurant_id        City  \\\n",
       "0          id_0       Paris   \n",
       "1          id_1    Helsinki   \n",
       "2          id_2   Edinburgh   \n",
       "3          id_3      London   \n",
       "4          id_4  Bratislava   \n",
       "5          id_5       Paris   \n",
       "6          id_6      Lisbon   \n",
       "7          id_7    Budapest   \n",
       "8          id_8    Helsinki   \n",
       "9          id_9   Stockholm   \n",
       "\n",
       "                                       Cuisine Style  Ranking Price Range  \\\n",
       "0                                     ['Bar', 'Pub']  12963.0    $$ - $$$   \n",
       "1  ['European', 'Scandinavian', 'Gluten Free Opti...    106.0    $$ - $$$   \n",
       "2                            ['Vegetarian Friendly']    810.0    $$ - $$$   \n",
       "3  ['Italian', 'Mediterranean', 'European', 'Vege...   1669.0        $$$$   \n",
       "4  ['Italian', 'Mediterranean', 'European', 'Seaf...     37.0        $$$$   \n",
       "5                    ['French', 'Cafe', 'Fast Food']   5093.0           $   \n",
       "6                         ['European', 'Portuguese']   3704.0           $   \n",
       "7                                                NaN   2330.0         NaN   \n",
       "8                       ['European', 'Scandinavian']    771.0         NaN   \n",
       "9                                        ['Italian']    605.0         NaN   \n",
       "\n",
       "   Number of Reviews                                            Reviews  \\\n",
       "0                4.0                                           [[], []]   \n",
       "1               97.0  [['Very good reviews!', 'Fine dining in Hakani...   \n",
       "2               28.0  [['Better than the Links', 'Ivy Black'], ['12/...   \n",
       "3              202.0  [['Most exquisite', 'Delicious and authentic']...   \n",
       "4              162.0  [['Always the best in bratislava', 'Very good ...   \n",
       "5               24.0  [['Lunch Break', 'Good to Quick Bite'], ['09/0...   \n",
       "6                2.0                                           [[], []]   \n",
       "7                NaN                                           [[], []]   \n",
       "8                2.0  [['Big group supper', 'Good food but very slow...   \n",
       "9               13.0  [['Good food', 'Good pizza'], ['12/02/2017', '...   \n",
       "\n",
       "                                              URL_TA      ID_TA  \n",
       "0  /Restaurant_Review-g187147-d10746918-Reviews-L...  d10746918  \n",
       "1  /Restaurant_Review-g189934-d6674944-Reviews-Ra...   d6674944  \n",
       "2  /Restaurant_Review-g186525-d13129638-Reviews-B...  d13129638  \n",
       "3  /Restaurant_Review-g186338-d680417-Reviews-Qui...    d680417  \n",
       "4  /Restaurant_Review-g274924-d1112354-Reviews-Ma...   d1112354  \n",
       "5  /Restaurant_Review-g187147-d8458643-Reviews-Le...   d8458643  \n",
       "6  /Restaurant_Review-g189158-d8758873-Reviews-Li...   d8758873  \n",
       "7  /Restaurant_Review-g274887-d8286886-Reviews-Be...   d8286886  \n",
       "8  /Restaurant_Review-g189934-d12947542-Reviews-B...  d12947542  \n",
       "9  /Restaurant_Review-g189852-d12716384-Reviews-I...  d12716384  "
      ]
     },
     "execution_count": 409,
     "metadata": {},
     "output_type": "execute_result"
    }
   ],
   "source": [
    "test.head(10)"
   ]
  },
  {
   "cell_type": "code",
   "execution_count": 410,
   "id": "christian-blink",
   "metadata": {
    "ExecuteTime": {
     "end_time": "2021-07-25T12:23:03.168658Z",
     "start_time": "2021-07-25T12:23:03.138738Z"
    }
   },
   "outputs": [
    {
     "data": {
      "text/html": [
       "<div>\n",
       "<style scoped>\n",
       "    .dataframe tbody tr th:only-of-type {\n",
       "        vertical-align: middle;\n",
       "    }\n",
       "\n",
       "    .dataframe tbody tr th {\n",
       "        vertical-align: top;\n",
       "    }\n",
       "\n",
       "    .dataframe thead th {\n",
       "        text-align: right;\n",
       "    }\n",
       "</style>\n",
       "<table border=\"1\" class=\"dataframe\">\n",
       "  <thead>\n",
       "    <tr style=\"text-align: right;\">\n",
       "      <th></th>\n",
       "      <th>Restaurant_id</th>\n",
       "      <th>City</th>\n",
       "      <th>Cuisine Style</th>\n",
       "      <th>Ranking</th>\n",
       "      <th>Price Range</th>\n",
       "      <th>Number of Reviews</th>\n",
       "      <th>Reviews</th>\n",
       "      <th>URL_TA</th>\n",
       "      <th>ID_TA</th>\n",
       "    </tr>\n",
       "  </thead>\n",
       "  <tbody>\n",
       "    <tr>\n",
       "      <th>9990</th>\n",
       "      <td>id_9990</td>\n",
       "      <td>Rome</td>\n",
       "      <td>['Italian', 'Pizza', 'Mediterranean', 'Fast Fo...</td>\n",
       "      <td>1307.0</td>\n",
       "      <td>$</td>\n",
       "      <td>67.0</td>\n",
       "      <td>[['When in Rome you must visit', 'Amazing!!'],...</td>\n",
       "      <td>/Restaurant_Review-g187791-d10109492-Reviews-P...</td>\n",
       "      <td>d10109492</td>\n",
       "    </tr>\n",
       "    <tr>\n",
       "      <th>9991</th>\n",
       "      <td>id_9991</td>\n",
       "      <td>London</td>\n",
       "      <td>['American', 'Bar']</td>\n",
       "      <td>8663.0</td>\n",
       "      <td>$$ - $$$</td>\n",
       "      <td>57.0</td>\n",
       "      <td>[['It’s a generation thing', \"It's good\"], ['1...</td>\n",
       "      <td>/Restaurant_Review-g186338-d720745-Reviews-Laz...</td>\n",
       "      <td>d720745</td>\n",
       "    </tr>\n",
       "    <tr>\n",
       "      <th>9992</th>\n",
       "      <td>id_9992</td>\n",
       "      <td>London</td>\n",
       "      <td>['Bar', 'British', 'Pub', 'Gastropub', 'Vegeta...</td>\n",
       "      <td>4425.0</td>\n",
       "      <td>$$ - $$$</td>\n",
       "      <td>53.0</td>\n",
       "      <td>[['Great venue for celebrations and events, v....</td>\n",
       "      <td>/Restaurant_Review-g186338-d8125462-Reviews-Th...</td>\n",
       "      <td>d8125462</td>\n",
       "    </tr>\n",
       "    <tr>\n",
       "      <th>9993</th>\n",
       "      <td>id_9993</td>\n",
       "      <td>Oporto</td>\n",
       "      <td>['European', 'Portuguese']</td>\n",
       "      <td>742.0</td>\n",
       "      <td>$$ - $$$</td>\n",
       "      <td>5.0</td>\n",
       "      <td>[['Must Go!', \"Go see these guys, they're grea...</td>\n",
       "      <td>/Restaurant_Review-g189180-d12447202-Reviews-S...</td>\n",
       "      <td>d12447202</td>\n",
       "    </tr>\n",
       "    <tr>\n",
       "      <th>9994</th>\n",
       "      <td>id_9994</td>\n",
       "      <td>Lisbon</td>\n",
       "      <td>['Mediterranean', 'European', 'Portuguese']</td>\n",
       "      <td>813.0</td>\n",
       "      <td>$$ - $$$</td>\n",
       "      <td>119.0</td>\n",
       "      <td>[['Waiting horror', 'Perfect Destination Weddi...</td>\n",
       "      <td>/Restaurant_Review-g189158-d6976663-Reviews-Pa...</td>\n",
       "      <td>d6976663</td>\n",
       "    </tr>\n",
       "    <tr>\n",
       "      <th>9995</th>\n",
       "      <td>id_9995</td>\n",
       "      <td>London</td>\n",
       "      <td>['Caribbean', 'Barbecue', 'Jamaican', 'Vegetar...</td>\n",
       "      <td>4367.0</td>\n",
       "      <td>$</td>\n",
       "      <td>28.0</td>\n",
       "      <td>[['By far best Chicken burgers and wings in L....</td>\n",
       "      <td>/Restaurant_Review-g186338-d11916827-Reviews-C...</td>\n",
       "      <td>d11916827</td>\n",
       "    </tr>\n",
       "    <tr>\n",
       "      <th>9996</th>\n",
       "      <td>id_9996</td>\n",
       "      <td>Lisbon</td>\n",
       "      <td>['Indian', 'Asian', 'Nepali', 'Bangladeshi']</td>\n",
       "      <td>2612.0</td>\n",
       "      <td>$$ - $$$</td>\n",
       "      <td>2.0</td>\n",
       "      <td>[['Ok indian food'], ['11/25/2017']]</td>\n",
       "      <td>/Restaurant_Review-g189158-d12701633-Reviews-C...</td>\n",
       "      <td>d12701633</td>\n",
       "    </tr>\n",
       "    <tr>\n",
       "      <th>9997</th>\n",
       "      <td>id_9997</td>\n",
       "      <td>Milan</td>\n",
       "      <td>NaN</td>\n",
       "      <td>5562.0</td>\n",
       "      <td>NaN</td>\n",
       "      <td>2.0</td>\n",
       "      <td>[[], []]</td>\n",
       "      <td>/Restaurant_Review-g187849-d13198194-Reviews-Q...</td>\n",
       "      <td>d13198194</td>\n",
       "    </tr>\n",
       "    <tr>\n",
       "      <th>9998</th>\n",
       "      <td>id_9998</td>\n",
       "      <td>Milan</td>\n",
       "      <td>['Italian']</td>\n",
       "      <td>4010.0</td>\n",
       "      <td>NaN</td>\n",
       "      <td>2.0</td>\n",
       "      <td>[[], []]</td>\n",
       "      <td>/Restaurant_Review-g187849-d3862815-Reviews-La...</td>\n",
       "      <td>d3862815</td>\n",
       "    </tr>\n",
       "    <tr>\n",
       "      <th>9999</th>\n",
       "      <td>id_9999</td>\n",
       "      <td>Paris</td>\n",
       "      <td>NaN</td>\n",
       "      <td>6791.0</td>\n",
       "      <td>NaN</td>\n",
       "      <td>14.0</td>\n",
       "      <td>[['Ethiopian Dining in Pleasant Space'], ['07/...</td>\n",
       "      <td>/Restaurant_Review-g187147-d10342814-Reviews-L...</td>\n",
       "      <td>d10342814</td>\n",
       "    </tr>\n",
       "  </tbody>\n",
       "</table>\n",
       "</div>"
      ],
      "text/plain": [
       "     Restaurant_id    City                                      Cuisine Style  \\\n",
       "9990       id_9990    Rome  ['Italian', 'Pizza', 'Mediterranean', 'Fast Fo...   \n",
       "9991       id_9991  London                                ['American', 'Bar']   \n",
       "9992       id_9992  London  ['Bar', 'British', 'Pub', 'Gastropub', 'Vegeta...   \n",
       "9993       id_9993  Oporto                         ['European', 'Portuguese']   \n",
       "9994       id_9994  Lisbon        ['Mediterranean', 'European', 'Portuguese']   \n",
       "9995       id_9995  London  ['Caribbean', 'Barbecue', 'Jamaican', 'Vegetar...   \n",
       "9996       id_9996  Lisbon       ['Indian', 'Asian', 'Nepali', 'Bangladeshi']   \n",
       "9997       id_9997   Milan                                                NaN   \n",
       "9998       id_9998   Milan                                        ['Italian']   \n",
       "9999       id_9999   Paris                                                NaN   \n",
       "\n",
       "      Ranking Price Range  Number of Reviews  \\\n",
       "9990   1307.0           $               67.0   \n",
       "9991   8663.0    $$ - $$$               57.0   \n",
       "9992   4425.0    $$ - $$$               53.0   \n",
       "9993    742.0    $$ - $$$                5.0   \n",
       "9994    813.0    $$ - $$$              119.0   \n",
       "9995   4367.0           $               28.0   \n",
       "9996   2612.0    $$ - $$$                2.0   \n",
       "9997   5562.0         NaN                2.0   \n",
       "9998   4010.0         NaN                2.0   \n",
       "9999   6791.0         NaN               14.0   \n",
       "\n",
       "                                                Reviews  \\\n",
       "9990  [['When in Rome you must visit', 'Amazing!!'],...   \n",
       "9991  [['It’s a generation thing', \"It's good\"], ['1...   \n",
       "9992  [['Great venue for celebrations and events, v....   \n",
       "9993  [['Must Go!', \"Go see these guys, they're grea...   \n",
       "9994  [['Waiting horror', 'Perfect Destination Weddi...   \n",
       "9995  [['By far best Chicken burgers and wings in L....   \n",
       "9996               [['Ok indian food'], ['11/25/2017']]   \n",
       "9997                                           [[], []]   \n",
       "9998                                           [[], []]   \n",
       "9999  [['Ethiopian Dining in Pleasant Space'], ['07/...   \n",
       "\n",
       "                                                 URL_TA      ID_TA  \n",
       "9990  /Restaurant_Review-g187791-d10109492-Reviews-P...  d10109492  \n",
       "9991  /Restaurant_Review-g186338-d720745-Reviews-Laz...    d720745  \n",
       "9992  /Restaurant_Review-g186338-d8125462-Reviews-Th...   d8125462  \n",
       "9993  /Restaurant_Review-g189180-d12447202-Reviews-S...  d12447202  \n",
       "9994  /Restaurant_Review-g189158-d6976663-Reviews-Pa...   d6976663  \n",
       "9995  /Restaurant_Review-g186338-d11916827-Reviews-C...  d11916827  \n",
       "9996  /Restaurant_Review-g189158-d12701633-Reviews-C...  d12701633  \n",
       "9997  /Restaurant_Review-g187849-d13198194-Reviews-Q...  d13198194  \n",
       "9998  /Restaurant_Review-g187849-d3862815-Reviews-La...   d3862815  \n",
       "9999  /Restaurant_Review-g187147-d10342814-Reviews-L...  d10342814  "
      ]
     },
     "execution_count": 410,
     "metadata": {},
     "output_type": "execute_result"
    }
   ],
   "source": [
    "test.tail(10)"
   ]
  },
  {
   "cell_type": "code",
   "execution_count": 411,
   "id": "irish-morning",
   "metadata": {
    "ExecuteTime": {
     "end_time": "2021-07-25T12:23:03.200610Z",
     "start_time": "2021-07-25T12:23:03.170653Z"
    }
   },
   "outputs": [
    {
     "data": {
      "text/html": [
       "<div>\n",
       "<style scoped>\n",
       "    .dataframe tbody tr th:only-of-type {\n",
       "        vertical-align: middle;\n",
       "    }\n",
       "\n",
       "    .dataframe tbody tr th {\n",
       "        vertical-align: top;\n",
       "    }\n",
       "\n",
       "    .dataframe thead th {\n",
       "        text-align: right;\n",
       "    }\n",
       "</style>\n",
       "<table border=\"1\" class=\"dataframe\">\n",
       "  <thead>\n",
       "    <tr style=\"text-align: right;\">\n",
       "      <th></th>\n",
       "      <th>count</th>\n",
       "      <th>mean</th>\n",
       "      <th>std</th>\n",
       "      <th>min</th>\n",
       "      <th>25%</th>\n",
       "      <th>50%</th>\n",
       "      <th>75%</th>\n",
       "      <th>max</th>\n",
       "    </tr>\n",
       "  </thead>\n",
       "  <tbody>\n",
       "    <tr>\n",
       "      <th>Ranking</th>\n",
       "      <td>10000.0</td>\n",
       "      <td>3618.02350</td>\n",
       "      <td>3665.076451</td>\n",
       "      <td>2.0</td>\n",
       "      <td>966.0</td>\n",
       "      <td>2257.0</td>\n",
       "      <td>5137.0</td>\n",
       "      <td>16443.0</td>\n",
       "    </tr>\n",
       "    <tr>\n",
       "      <th>Number of Reviews</th>\n",
       "      <td>9343.0</td>\n",
       "      <td>123.05084</td>\n",
       "      <td>287.819368</td>\n",
       "      <td>2.0</td>\n",
       "      <td>9.0</td>\n",
       "      <td>32.0</td>\n",
       "      <td>114.0</td>\n",
       "      <td>6437.0</td>\n",
       "    </tr>\n",
       "  </tbody>\n",
       "</table>\n",
       "</div>"
      ],
      "text/plain": [
       "                     count        mean          std  min    25%     50%  \\\n",
       "Ranking            10000.0  3618.02350  3665.076451  2.0  966.0  2257.0   \n",
       "Number of Reviews   9343.0   123.05084   287.819368  2.0    9.0    32.0   \n",
       "\n",
       "                      75%      max  \n",
       "Ranking            5137.0  16443.0  \n",
       "Number of Reviews   114.0   6437.0  "
      ]
     },
     "execution_count": 411,
     "metadata": {},
     "output_type": "execute_result"
    }
   ],
   "source": [
    "test.describe().T"
   ]
  },
  {
   "cell_type": "code",
   "execution_count": 412,
   "id": "several-semiconductor",
   "metadata": {
    "ExecuteTime": {
     "end_time": "2021-07-25T12:23:03.278225Z",
     "start_time": "2021-07-25T12:23:03.202567Z"
    }
   },
   "outputs": [
    {
     "data": {
      "text/html": [
       "<div>\n",
       "<style scoped>\n",
       "    .dataframe tbody tr th:only-of-type {\n",
       "        vertical-align: middle;\n",
       "    }\n",
       "\n",
       "    .dataframe tbody tr th {\n",
       "        vertical-align: top;\n",
       "    }\n",
       "\n",
       "    .dataframe thead th {\n",
       "        text-align: right;\n",
       "    }\n",
       "</style>\n",
       "<table border=\"1\" class=\"dataframe\">\n",
       "  <thead>\n",
       "    <tr style=\"text-align: right;\">\n",
       "      <th></th>\n",
       "      <th>count</th>\n",
       "      <th>unique</th>\n",
       "      <th>top</th>\n",
       "      <th>freq</th>\n",
       "    </tr>\n",
       "  </thead>\n",
       "  <tbody>\n",
       "    <tr>\n",
       "      <th>Restaurant_id</th>\n",
       "      <td>10000</td>\n",
       "      <td>10000</td>\n",
       "      <td>id_1351</td>\n",
       "      <td>1</td>\n",
       "    </tr>\n",
       "    <tr>\n",
       "      <th>City</th>\n",
       "      <td>10000</td>\n",
       "      <td>31</td>\n",
       "      <td>London</td>\n",
       "      <td>1436</td>\n",
       "    </tr>\n",
       "    <tr>\n",
       "      <th>Cuisine Style</th>\n",
       "      <td>7693</td>\n",
       "      <td>3128</td>\n",
       "      <td>['Italian']</td>\n",
       "      <td>300</td>\n",
       "    </tr>\n",
       "    <tr>\n",
       "      <th>Price Range</th>\n",
       "      <td>6525</td>\n",
       "      <td>3</td>\n",
       "      <td>$$ - $$$</td>\n",
       "      <td>4629</td>\n",
       "    </tr>\n",
       "    <tr>\n",
       "      <th>Reviews</th>\n",
       "      <td>9998</td>\n",
       "      <td>8358</td>\n",
       "      <td>[[], []]</td>\n",
       "      <td>1641</td>\n",
       "    </tr>\n",
       "    <tr>\n",
       "      <th>URL_TA</th>\n",
       "      <td>10000</td>\n",
       "      <td>10000</td>\n",
       "      <td>/Restaurant_Review-g187147-d7619569-Reviews-Ur...</td>\n",
       "      <td>1</td>\n",
       "    </tr>\n",
       "    <tr>\n",
       "      <th>ID_TA</th>\n",
       "      <td>10000</td>\n",
       "      <td>10000</td>\n",
       "      <td>d7934212</td>\n",
       "      <td>1</td>\n",
       "    </tr>\n",
       "  </tbody>\n",
       "</table>\n",
       "</div>"
      ],
      "text/plain": [
       "               count unique  \\\n",
       "Restaurant_id  10000  10000   \n",
       "City           10000     31   \n",
       "Cuisine Style   7693   3128   \n",
       "Price Range     6525      3   \n",
       "Reviews         9998   8358   \n",
       "URL_TA         10000  10000   \n",
       "ID_TA          10000  10000   \n",
       "\n",
       "                                                             top  freq  \n",
       "Restaurant_id                                            id_1351     1  \n",
       "City                                                      London  1436  \n",
       "Cuisine Style                                        ['Italian']   300  \n",
       "Price Range                                             $$ - $$$  4629  \n",
       "Reviews                                                 [[], []]  1641  \n",
       "URL_TA         /Restaurant_Review-g187147-d7619569-Reviews-Ur...     1  \n",
       "ID_TA                                                   d7934212     1  "
      ]
     },
     "execution_count": 412,
     "metadata": {},
     "output_type": "execute_result"
    }
   ],
   "source": [
    "test.describe(include=['O']).T"
   ]
  },
  {
   "cell_type": "code",
   "execution_count": 413,
   "id": "crazy-prize",
   "metadata": {
    "ExecuteTime": {
     "end_time": "2021-07-25T12:23:03.675199Z",
     "start_time": "2021-07-25T12:23:03.280220Z"
    }
   },
   "outputs": [
    {
     "data": {
      "text/plain": [
       "<AxesSubplot:>"
      ]
     },
     "execution_count": 413,
     "metadata": {},
     "output_type": "execute_result"
    },
    {
     "data": {
      "image/png": "[encoded data removed]",
      "text/plain": [
       "<Figure size 1800x720 with 2 Axes>"
      ]
     },
     "metadata": {
      "needs_background": "light"
     },
     "output_type": "display_data"
    }
   ],
   "source": [
    "# Missing values\n",
    "msno.matrix(test)"
   ]
  },
  {
   "cell_type": "code",
   "execution_count": 414,
   "id": "outside-rescue",
   "metadata": {
    "ExecuteTime": {
     "end_time": "2021-07-25T12:23:03.690723Z",
     "start_time": "2021-07-25T12:23:03.676161Z"
    }
   },
   "outputs": [],
   "source": [
    "def concat_data(train, test):\n",
    "    \n",
    "    train['sample'] = 1\n",
    "    test['sample'] = 0\n",
    "    \n",
    "    data = pd.concat([train, test], sort=False)\n",
    "    \n",
    "    data = data.rename(columns={'Number of Reviews': 'Number_of_Reviews',\n",
    "                            'Price Range': 'Price_Range',\n",
    "                            'Cuisine Style': 'Cuisine_Style'})\n",
    "    \n",
    "    return data"
   ]
  },
  {
   "cell_type": "code",
   "execution_count": 415,
   "id": "enabling-thousand",
   "metadata": {
    "ExecuteTime": {
     "end_time": "2021-07-25T12:23:03.738558Z",
     "start_time": "2021-07-25T12:23:03.692681Z"
    }
   },
   "outputs": [],
   "source": [
    "data = concat_data(train, test)"
   ]
  },
  {
   "cell_type": "markdown",
   "id": "median-wayne",
   "metadata": {},
   "source": [
    "# FEATURES"
   ]
  },
  {
   "cell_type": "markdown",
   "id": "operational-burton",
   "metadata": {},
   "source": [
    "## Restaurant_id"
   ]
  },
  {
   "cell_type": "code",
   "execution_count": 416,
   "id": "eastern-technical",
   "metadata": {
    "ExecuteTime": {
     "end_time": "2021-07-25T12:23:03.754515Z",
     "start_time": "2021-07-25T12:23:03.741551Z"
    }
   },
   "outputs": [
    {
     "data": {
      "text/plain": [
       "0       id_5569\n",
       "1       id_1535\n",
       "2        id_352\n",
       "3       id_3456\n",
       "4        id_615\n",
       "         ...   \n",
       "9995    id_9995\n",
       "9996    id_9996\n",
       "9997    id_9997\n",
       "9998    id_9998\n",
       "9999    id_9999\n",
       "Name: Restaurant_id, Length: 50000, dtype: object"
      ]
     },
     "execution_count": 416,
     "metadata": {},
     "output_type": "execute_result"
    }
   ],
   "source": [
    "data['Restaurant_id']"
   ]
  },
  {
   "cell_type": "markdown",
   "id": "competent-saver",
   "metadata": {},
   "source": [
    "## City"
   ]
  },
  {
   "cell_type": "code",
   "execution_count": 417,
   "id": "classical-antarctica",
   "metadata": {
    "ExecuteTime": {
     "end_time": "2021-07-25T12:23:03.770475Z",
     "start_time": "2021-07-25T12:23:03.760499Z"
    }
   },
   "outputs": [
    {
     "data": {
      "text/plain": [
       "0           Paris\n",
       "1       Stockholm\n",
       "2          London\n",
       "3          Berlin\n",
       "4          Munich\n",
       "          ...    \n",
       "9995       London\n",
       "9996       Lisbon\n",
       "9997        Milan\n",
       "9998        Milan\n",
       "9999        Paris\n",
       "Name: City, Length: 50000, dtype: object"
      ]
     },
     "execution_count": 417,
     "metadata": {},
     "output_type": "execute_result"
    }
   ],
   "source": [
    "data['City']"
   ]
  },
  {
   "cell_type": "code",
   "execution_count": 418,
   "id": "bizarre-delay",
   "metadata": {
    "ExecuteTime": {
     "end_time": "2021-07-25T12:23:03.802388Z",
     "start_time": "2021-07-25T12:23:03.775495Z"
    }
   },
   "outputs": [
    {
     "data": {
      "text/plain": [
       "London        7193\n",
       "Paris         6108\n",
       "Madrid        3813\n",
       "Barcelona     3395\n",
       "Berlin        2705\n",
       "Milan         2694\n",
       "Rome          2589\n",
       "Prague        1816\n",
       "Lisbon        1647\n",
       "Vienna        1443\n",
       "Amsterdam     1372\n",
       "Brussels      1314\n",
       "Hamburg       1186\n",
       "Munich        1145\n",
       "Lyon          1126\n",
       "Stockholm     1033\n",
       "Budapest      1021\n",
       "Warsaw         925\n",
       "Dublin         836\n",
       "Copenhagen     819\n",
       "Athens         776\n",
       "Edinburgh      745\n",
       "Zurich         685\n",
       "Oporto         642\n",
       "Geneva         590\n",
       "Krakow         554\n",
       "Oslo           488\n",
       "Helsinki       475\n",
       "Bratislava     380\n",
       "Luxembourg     263\n",
       "Ljubljana      222\n",
       "Name: City, dtype: int64"
      ]
     },
     "execution_count": 418,
     "metadata": {},
     "output_type": "execute_result"
    }
   ],
   "source": [
    "data['City'].value_counts()"
   ]
  },
  {
   "cell_type": "code",
   "execution_count": 419,
   "id": "surprised-engine",
   "metadata": {
    "ExecuteTime": {
     "end_time": "2021-07-25T12:23:03.818346Z",
     "start_time": "2021-07-25T12:23:03.804383Z"
    }
   },
   "outputs": [
    {
     "data": {
      "text/plain": [
       "array(['Paris', 'Stockholm', 'London', 'Berlin', 'Munich', 'Oporto',\n",
       "       'Milan', 'Bratislava', 'Vienna', 'Rome', 'Barcelona', 'Madrid',\n",
       "       'Dublin', 'Brussels', 'Zurich', 'Warsaw', 'Budapest', 'Copenhagen',\n",
       "       'Amsterdam', 'Lyon', 'Hamburg', 'Lisbon', 'Prague', 'Oslo',\n",
       "       'Helsinki', 'Edinburgh', 'Geneva', 'Ljubljana', 'Athens',\n",
       "       'Luxembourg', 'Krakow'], dtype=object)"
      ]
     },
     "execution_count": 419,
     "metadata": {},
     "output_type": "execute_result"
    }
   ],
   "source": [
    "data['City'].unique()"
   ]
  },
  {
   "cell_type": "markdown",
   "id": "biblical-strength",
   "metadata": {},
   "source": [
    "## Cuisine Style"
   ]
  },
  {
   "cell_type": "code",
   "execution_count": 420,
   "id": "assumed-house",
   "metadata": {
    "ExecuteTime": {
     "end_time": "2021-07-25T12:23:03.834336Z",
     "start_time": "2021-07-25T12:23:03.821340Z"
    }
   },
   "outputs": [
    {
     "data": {
      "text/plain": [
       "0                 ['European', 'French', 'International']\n",
       "1                                                     NaN\n",
       "2       ['Japanese', 'Sushi', 'Asian', 'Grill', 'Veget...\n",
       "3                                                     NaN\n",
       "4       ['German', 'Central European', 'Vegetarian Fri...\n",
       "                              ...                        \n",
       "9995    ['Caribbean', 'Barbecue', 'Jamaican', 'Vegetar...\n",
       "9996         ['Indian', 'Asian', 'Nepali', 'Bangladeshi']\n",
       "9997                                                  NaN\n",
       "9998                                          ['Italian']\n",
       "9999                                                  NaN\n",
       "Name: Cuisine_Style, Length: 50000, dtype: object"
      ]
     },
     "execution_count": 420,
     "metadata": {},
     "output_type": "execute_result"
    }
   ],
   "source": [
    "data['Cuisine_Style']"
   ]
  },
  {
   "cell_type": "code",
   "execution_count": 421,
   "id": "loaded-calgary",
   "metadata": {
    "ExecuteTime": {
     "end_time": "2021-07-25T12:23:03.850261Z",
     "start_time": "2021-07-25T12:23:03.836298Z"
    }
   },
   "outputs": [
    {
     "data": {
      "text/plain": [
       "False    38410\n",
       "True     11590\n",
       "Name: Cuisine_Style, dtype: int64"
      ]
     },
     "execution_count": 421,
     "metadata": {},
     "output_type": "execute_result"
    }
   ],
   "source": [
    "data['Cuisine_Style'].isnull().value_counts()"
   ]
  },
  {
   "cell_type": "code",
   "execution_count": 422,
   "id": "nonprofit-shanghai",
   "metadata": {
    "ExecuteTime": {
     "end_time": "2021-07-25T12:23:03.912134Z",
     "start_time": "2021-07-25T12:23:03.852254Z"
    }
   },
   "outputs": [
    {
     "data": {
      "text/html": [
       "<div>\n",
       "<style scoped>\n",
       "    .dataframe tbody tr th:only-of-type {\n",
       "        vertical-align: middle;\n",
       "    }\n",
       "\n",
       "    .dataframe tbody tr th {\n",
       "        vertical-align: top;\n",
       "    }\n",
       "\n",
       "    .dataframe thead th {\n",
       "        text-align: right;\n",
       "    }\n",
       "</style>\n",
       "<table border=\"1\" class=\"dataframe\">\n",
       "  <thead>\n",
       "    <tr style=\"text-align: right;\">\n",
       "      <th></th>\n",
       "      <th>Restaurant_id</th>\n",
       "      <th>City</th>\n",
       "      <th>Cuisine_Style</th>\n",
       "      <th>Ranking</th>\n",
       "      <th>Rating</th>\n",
       "      <th>Price_Range</th>\n",
       "      <th>Number_of_Reviews</th>\n",
       "      <th>Reviews</th>\n",
       "      <th>URL_TA</th>\n",
       "      <th>ID_TA</th>\n",
       "      <th>sample</th>\n",
       "    </tr>\n",
       "  </thead>\n",
       "  <tbody>\n",
       "    <tr>\n",
       "      <th>1</th>\n",
       "      <td>id_1535</td>\n",
       "      <td>Stockholm</td>\n",
       "      <td>NaN</td>\n",
       "      <td>1537.0</td>\n",
       "      <td>4.0</td>\n",
       "      <td>NaN</td>\n",
       "      <td>10.0</td>\n",
       "      <td>[['Unique cuisine', 'Delicious Nepalese food']...</td>\n",
       "      <td>/Restaurant_Review-g189852-d7992032-Reviews-Bu...</td>\n",
       "      <td>d7992032</td>\n",
       "      <td>1</td>\n",
       "    </tr>\n",
       "    <tr>\n",
       "      <th>3</th>\n",
       "      <td>id_3456</td>\n",
       "      <td>Berlin</td>\n",
       "      <td>NaN</td>\n",
       "      <td>3458.0</td>\n",
       "      <td>5.0</td>\n",
       "      <td>NaN</td>\n",
       "      <td>3.0</td>\n",
       "      <td>[[], []]</td>\n",
       "      <td>/Restaurant_Review-g187323-d1358776-Reviews-Es...</td>\n",
       "      <td>d1358776</td>\n",
       "      <td>1</td>\n",
       "    </tr>\n",
       "    <tr>\n",
       "      <th>5</th>\n",
       "      <td>id_1418</td>\n",
       "      <td>Oporto</td>\n",
       "      <td>NaN</td>\n",
       "      <td>1419.0</td>\n",
       "      <td>3.0</td>\n",
       "      <td>NaN</td>\n",
       "      <td>2.0</td>\n",
       "      <td>[['There are better 3 star hotel bars', 'Amazi...</td>\n",
       "      <td>/Restaurant_Review-g189180-d12503536-Reviews-D...</td>\n",
       "      <td>d12503536</td>\n",
       "      <td>1</td>\n",
       "    </tr>\n",
       "    <tr>\n",
       "      <th>8</th>\n",
       "      <td>id_2690</td>\n",
       "      <td>Vienna</td>\n",
       "      <td>NaN</td>\n",
       "      <td>2692.0</td>\n",
       "      <td>4.0</td>\n",
       "      <td>NaN</td>\n",
       "      <td>NaN</td>\n",
       "      <td>[[], []]</td>\n",
       "      <td>/Restaurant_Review-g190454-d12845029-Reviews-G...</td>\n",
       "      <td>d12845029</td>\n",
       "      <td>1</td>\n",
       "    </tr>\n",
       "    <tr>\n",
       "      <th>10</th>\n",
       "      <td>id_6578</td>\n",
       "      <td>Barcelona</td>\n",
       "      <td>NaN</td>\n",
       "      <td>6579.0</td>\n",
       "      <td>3.0</td>\n",
       "      <td>NaN</td>\n",
       "      <td>6.0</td>\n",
       "      <td>[[], []]</td>\n",
       "      <td>/Restaurant_Review-g187497-d10696479-Reviews-R...</td>\n",
       "      <td>d10696479</td>\n",
       "      <td>1</td>\n",
       "    </tr>\n",
       "    <tr>\n",
       "      <th>...</th>\n",
       "      <td>...</td>\n",
       "      <td>...</td>\n",
       "      <td>...</td>\n",
       "      <td>...</td>\n",
       "      <td>...</td>\n",
       "      <td>...</td>\n",
       "      <td>...</td>\n",
       "      <td>...</td>\n",
       "      <td>...</td>\n",
       "      <td>...</td>\n",
       "      <td>...</td>\n",
       "    </tr>\n",
       "    <tr>\n",
       "      <th>9982</th>\n",
       "      <td>id_9982</td>\n",
       "      <td>Berlin</td>\n",
       "      <td>NaN</td>\n",
       "      <td>5500.0</td>\n",
       "      <td>NaN</td>\n",
       "      <td>NaN</td>\n",
       "      <td>9.0</td>\n",
       "      <td>[['Excellent doner', 'The best dönerkebab in B...</td>\n",
       "      <td>/Restaurant_Review-g187323-d5826612-Reviews-Gr...</td>\n",
       "      <td>d5826612</td>\n",
       "      <td>0</td>\n",
       "    </tr>\n",
       "    <tr>\n",
       "      <th>9983</th>\n",
       "      <td>id_9983</td>\n",
       "      <td>Paris</td>\n",
       "      <td>NaN</td>\n",
       "      <td>9597.0</td>\n",
       "      <td>NaN</td>\n",
       "      <td>NaN</td>\n",
       "      <td>24.0</td>\n",
       "      <td>[['Local Dining Experience', 'Great traditiona...</td>\n",
       "      <td>/Restaurant_Review-g187147-d6509800-Reviews-Le...</td>\n",
       "      <td>d6509800</td>\n",
       "      <td>0</td>\n",
       "    </tr>\n",
       "    <tr>\n",
       "      <th>9986</th>\n",
       "      <td>id_9986</td>\n",
       "      <td>Warsaw</td>\n",
       "      <td>NaN</td>\n",
       "      <td>2018.0</td>\n",
       "      <td>NaN</td>\n",
       "      <td>NaN</td>\n",
       "      <td>24.0</td>\n",
       "      <td>[['Good Lunch Place', 'That was a tasty burger...</td>\n",
       "      <td>/Restaurant_Review-g274856-d8484936-Reviews-Bo...</td>\n",
       "      <td>d8484936</td>\n",
       "      <td>0</td>\n",
       "    </tr>\n",
       "    <tr>\n",
       "      <th>9997</th>\n",
       "      <td>id_9997</td>\n",
       "      <td>Milan</td>\n",
       "      <td>NaN</td>\n",
       "      <td>5562.0</td>\n",
       "      <td>NaN</td>\n",
       "      <td>NaN</td>\n",
       "      <td>2.0</td>\n",
       "      <td>[[], []]</td>\n",
       "      <td>/Restaurant_Review-g187849-d13198194-Reviews-Q...</td>\n",
       "      <td>d13198194</td>\n",
       "      <td>0</td>\n",
       "    </tr>\n",
       "    <tr>\n",
       "      <th>9999</th>\n",
       "      <td>id_9999</td>\n",
       "      <td>Paris</td>\n",
       "      <td>NaN</td>\n",
       "      <td>6791.0</td>\n",
       "      <td>NaN</td>\n",
       "      <td>NaN</td>\n",
       "      <td>14.0</td>\n",
       "      <td>[['Ethiopian Dining in Pleasant Space'], ['07/...</td>\n",
       "      <td>/Restaurant_Review-g187147-d10342814-Reviews-L...</td>\n",
       "      <td>d10342814</td>\n",
       "      <td>0</td>\n",
       "    </tr>\n",
       "  </tbody>\n",
       "</table>\n",
       "<p>11590 rows × 11 columns</p>\n",
       "</div>"
      ],
      "text/plain": [
       "     Restaurant_id       City Cuisine_Style  Ranking  Rating Price_Range  \\\n",
       "1          id_1535  Stockholm           NaN   1537.0     4.0         NaN   \n",
       "3          id_3456     Berlin           NaN   3458.0     5.0         NaN   \n",
       "5          id_1418     Oporto           NaN   1419.0     3.0         NaN   \n",
       "8          id_2690     Vienna           NaN   2692.0     4.0         NaN   \n",
       "10         id_6578  Barcelona           NaN   6579.0     3.0         NaN   \n",
       "...            ...        ...           ...      ...     ...         ...   \n",
       "9982       id_9982     Berlin           NaN   5500.0     NaN         NaN   \n",
       "9983       id_9983      Paris           NaN   9597.0     NaN         NaN   \n",
       "9986       id_9986     Warsaw           NaN   2018.0     NaN         NaN   \n",
       "9997       id_9997      Milan           NaN   5562.0     NaN         NaN   \n",
       "9999       id_9999      Paris           NaN   6791.0     NaN         NaN   \n",
       "\n",
       "      Number_of_Reviews                                            Reviews  \\\n",
       "1                  10.0  [['Unique cuisine', 'Delicious Nepalese food']...   \n",
       "3                   3.0                                           [[], []]   \n",
       "5                   2.0  [['There are better 3 star hotel bars', 'Amazi...   \n",
       "8                   NaN                                           [[], []]   \n",
       "10                  6.0                                           [[], []]   \n",
       "...                 ...                                                ...   \n",
       "9982                9.0  [['Excellent doner', 'The best dönerkebab in B...   \n",
       "9983               24.0  [['Local Dining Experience', 'Great traditiona...   \n",
       "9986               24.0  [['Good Lunch Place', 'That was a tasty burger...   \n",
       "9997                2.0                                           [[], []]   \n",
       "9999               14.0  [['Ethiopian Dining in Pleasant Space'], ['07/...   \n",
       "\n",
       "                                                 URL_TA      ID_TA  sample  \n",
       "1     /Restaurant_Review-g189852-d7992032-Reviews-Bu...   d7992032       1  \n",
       "3     /Restaurant_Review-g187323-d1358776-Reviews-Es...   d1358776       1  \n",
       "5     /Restaurant_Review-g189180-d12503536-Reviews-D...  d12503536       1  \n",
       "8     /Restaurant_Review-g190454-d12845029-Reviews-G...  d12845029       1  \n",
       "10    /Restaurant_Review-g187497-d10696479-Reviews-R...  d10696479       1  \n",
       "...                                                 ...        ...     ...  \n",
       "9982  /Restaurant_Review-g187323-d5826612-Reviews-Gr...   d5826612       0  \n",
       "9983  /Restaurant_Review-g187147-d6509800-Reviews-Le...   d6509800       0  \n",
       "9986  /Restaurant_Review-g274856-d8484936-Reviews-Bo...   d8484936       0  \n",
       "9997  /Restaurant_Review-g187849-d13198194-Reviews-Q...  d13198194       0  \n",
       "9999  /Restaurant_Review-g187147-d10342814-Reviews-L...  d10342814       0  \n",
       "\n",
       "[11590 rows x 11 columns]"
      ]
     },
     "execution_count": 422,
     "metadata": {},
     "output_type": "execute_result"
    }
   ],
   "source": [
    "data[data['Cuisine_Style'].isnull()]"
   ]
  },
  {
   "cell_type": "markdown",
   "id": "demographic-nudist",
   "metadata": {},
   "source": [
    "## Ranking"
   ]
  },
  {
   "cell_type": "code",
   "execution_count": 423,
   "id": "concrete-consumption",
   "metadata": {
    "ExecuteTime": {
     "end_time": "2021-07-25T12:23:03.928086Z",
     "start_time": "2021-07-25T12:23:03.914089Z"
    }
   },
   "outputs": [
    {
     "data": {
      "text/plain": [
       "count    50000.000000\n",
       "mean      3664.427520\n",
       "std       3700.092452\n",
       "min          1.000000\n",
       "25%        972.000000\n",
       "50%       2278.000000\n",
       "75%       5241.000000\n",
       "max      16444.000000\n",
       "Name: Ranking, dtype: float64"
      ]
     },
     "execution_count": 423,
     "metadata": {},
     "output_type": "execute_result"
    }
   ],
   "source": [
    "data['Ranking'].describe()"
   ]
  },
  {
   "cell_type": "markdown",
   "id": "obvious-intermediate",
   "metadata": {},
   "source": [
    "## Price Range"
   ]
  },
  {
   "cell_type": "code",
   "execution_count": 424,
   "id": "crazy-cardiff",
   "metadata": {
    "ExecuteTime": {
     "end_time": "2021-07-25T12:23:03.944009Z",
     "start_time": "2021-07-25T12:23:03.930084Z"
    }
   },
   "outputs": [
    {
     "data": {
      "text/plain": [
       "$$ - $$$    23041\n",
       "$            7816\n",
       "$$$$         1782\n",
       "Name: Price_Range, dtype: int64"
      ]
     },
     "execution_count": 424,
     "metadata": {},
     "output_type": "execute_result"
    }
   ],
   "source": [
    "data['Price_Range'].value_counts()"
   ]
  },
  {
   "cell_type": "code",
   "execution_count": 425,
   "id": "vocal-sessions",
   "metadata": {
    "ExecuteTime": {
     "end_time": "2021-07-25T12:23:03.974961Z",
     "start_time": "2021-07-25T12:23:03.947001Z"
    }
   },
   "outputs": [
    {
     "data": {
      "text/plain": [
       "False    32639\n",
       "True     17361\n",
       "Name: Price_Range, dtype: int64"
      ]
     },
     "execution_count": 425,
     "metadata": {},
     "output_type": "execute_result"
    }
   ],
   "source": [
    "data['Price_Range'].isnull().value_counts()"
   ]
  },
  {
   "cell_type": "markdown",
   "id": "advance-bundle",
   "metadata": {},
   "source": [
    "## Number_of_Reviews"
   ]
  },
  {
   "cell_type": "code",
   "execution_count": 426,
   "id": "certified-valley",
   "metadata": {
    "ExecuteTime": {
     "end_time": "2021-07-25T12:23:03.990917Z",
     "start_time": "2021-07-25T12:23:03.976922Z"
    }
   },
   "outputs": [
    {
     "data": {
      "text/plain": [
       "False    46800\n",
       "True      3200\n",
       "Name: Number_of_Reviews, dtype: int64"
      ]
     },
     "execution_count": 426,
     "metadata": {},
     "output_type": "execute_result"
    }
   ],
   "source": [
    "data['Number_of_Reviews'].isnull().value_counts()"
   ]
  },
  {
   "cell_type": "code",
   "execution_count": 427,
   "id": "noticed-cornell",
   "metadata": {
    "ExecuteTime": {
     "end_time": "2021-07-25T12:23:04.006874Z",
     "start_time": "2021-07-25T12:23:03.992912Z"
    },
    "scrolled": true
   },
   "outputs": [
    {
     "data": {
      "text/plain": [
       "count    46800.000000\n",
       "mean       124.471197\n",
       "std        294.114345\n",
       "min          2.000000\n",
       "25%          9.000000\n",
       "50%         33.000000\n",
       "75%        115.000000\n",
       "max       9660.000000\n",
       "Name: Number_of_Reviews, dtype: float64"
      ]
     },
     "execution_count": 427,
     "metadata": {},
     "output_type": "execute_result"
    }
   ],
   "source": [
    "data['Number_of_Reviews'].describe()"
   ]
  },
  {
   "cell_type": "markdown",
   "id": "convenient-timothy",
   "metadata": {},
   "source": [
    "## Rating"
   ]
  },
  {
   "cell_type": "code",
   "execution_count": 428,
   "id": "stuck-recipe",
   "metadata": {
    "ExecuteTime": {
     "end_time": "2021-07-25T12:23:04.022840Z",
     "start_time": "2021-07-25T12:23:04.008835Z"
    }
   },
   "outputs": [
    {
     "data": {
      "text/plain": [
       "4.0    13692\n",
       "4.5    10929\n",
       "3.5     6824\n",
       "5.0     3879\n",
       "3.0     2955\n",
       "2.5      915\n",
       "2.0      466\n",
       "1.0      201\n",
       "1.5      139\n",
       "Name: Rating, dtype: int64"
      ]
     },
     "execution_count": 428,
     "metadata": {},
     "output_type": "execute_result"
    }
   ],
   "source": [
    "data['Rating'].value_counts()"
   ]
  },
  {
   "cell_type": "code",
   "execution_count": 429,
   "id": "roman-defeat",
   "metadata": {
    "ExecuteTime": {
     "end_time": "2021-07-25T12:23:04.054746Z",
     "start_time": "2021-07-25T12:23:04.024793Z"
    }
   },
   "outputs": [],
   "source": [
    "def data_preproc(data):\n",
    "    \n",
    "    # =============== City ===============\n",
    "    \n",
    "    city_country = {\n",
    "        'London': 'UK',\n",
    "        'Paris': 'France',\n",
    "        'Madrid': 'Spain',\n",
    "        'Barcelona': 'Spain',\n",
    "        'Berlin': 'Germany',\n",
    "        'Milan': 'Italy',\n",
    "        'Rome': 'Italy',\n",
    "        'Prague': 'Czech',\n",
    "        'Lisbon': 'Portugalia',\n",
    "        'Vienna': 'Austria',\n",
    "        'Amsterdam': 'Nederlands',\n",
    "        'Brussels': '144784 ',\n",
    "        'Hamburg': 'Germany',\n",
    "        'Munich': 'Germany',\n",
    "        'Lyon': 'France',\n",
    "        'Stockholm': 'Sweden',\n",
    "        'Budapest': 'Hungary',\n",
    "        'Warsaw': 'Poland',\n",
    "        'Dublin': 'Ireland',\n",
    "        'Copenhagen': 'Denmark',\n",
    "        'Athens': 'Greece',\n",
    "        'Edinburgh': 'Schotland',\n",
    "        'Zurich': 'Switzerland',\n",
    "        'Oporto': 'Portugalia',\n",
    "        'Geneva': 'Switzerland',\n",
    "        'Krakow': 'Poland',\n",
    "        'Oslo': 'Norway',\n",
    "        'Helsinki': 'Finland',\n",
    "        'Bratislava': 'Slovakia',\n",
    "        'Luxembourg': 'Luxembourg',\n",
    "        'Ljubljana': 'Slovenija'\n",
    "    }\n",
    "    \n",
    "    capitals = [\n",
    "        'London', 'Paris', 'Madrid', 'Berlin', 'Rome', 'Prague', 'Lisbon',\n",
    "        'Vienna', 'Amsterdam', 'Brussels', 'Stockholm', 'Budapest', 'Warsaw',\n",
    "        'Dublin', 'Copenhagen', 'Athens', 'Oslo', 'Helsinki', 'Bratislava',\n",
    "        'Luxembourg', 'Ljubljana', 'Edinburgh'\n",
    "    ]\n",
    "    \n",
    "    population = {\n",
    "        'Paris': 2190327,\n",
    "        'Stockholm': 961609,\n",
    "        'London': 8908081,\n",
    "        'Berlin': 3644826,\n",
    "        'Munich': 1456039,\n",
    "        'Oporto': 237591,\n",
    "        'Milan': 1378689,\n",
    "        'Bratislava': 432864,\n",
    "        'Vienna': 1821582,\n",
    "        'Rome': 4355725,\n",
    "        'Barcelona': 1620343,\n",
    "        'Madrid': 3223334,\n",
    "        'Dublin': 1173179,\n",
    "        'Brussels': 179277,\n",
    "        'Zurich': 428737,\n",
    "        'Warsaw': 1758143,\n",
    "        'Budapest': 1752286,\n",
    "        'Copenhagen': 615993,\n",
    "        'Amsterdam': 857713,\n",
    "        'Lyon': 506615,\n",
    "        'Hamburg': 1841179,\n",
    "        'Lisbon': 505526,\n",
    "        'Prague': 1301132,\n",
    "        'Oslo': 673469,\n",
    "        'Helsinki': 643272,\n",
    "        'Edinburgh': 488100,\n",
    "        'Geneva': 200548,\n",
    "        'Ljubljana': 284355,\n",
    "        'Athens': 664046,\n",
    "        'Luxembourg': 115227,\n",
    "        'Krakow': 769498\n",
    "    }\n",
    "    \n",
    "    # New feature 'Country'\n",
    "    data['County'] = data['City'].map(city_country)\n",
    "    \n",
    "    # New feature 'Population'\n",
    "    data['Population'] = data['City'].map(population)\n",
    "    \n",
    "    # New feature 'Capital'\n",
    "    data['Capital'] = data['City'].apply(lambda x: 1 if x in capitals else 0)\n",
    "    \n",
    "    # =============== Cuisine Style ===============\n",
    "    \n",
    "    cuisine_styles = []\n",
    "\n",
    "    for row in data['Cuisine_Style']:\n",
    "\n",
    "        if type(row) == float:\n",
    "            pass\n",
    "\n",
    "        else:\n",
    "            for style in row[2:-2].split(\"', '\"):\n",
    "                cuisine_styles.append(style)\n",
    "\n",
    "    cuisine_styles_unique = set(cuisine_styles)\n",
    "    \n",
    "    data['num_of_cuisine_styles'] = data['Cuisine_Style'].apply(lambda x: 1 if type(x) == float else len(x[2:-2].split(\"', '\")))\n",
    "    \n",
    "    def new_cuisines_col(df):\n",
    "        if type(df) != float:\n",
    "            if cuisine in df:\n",
    "                return 1\n",
    "        return 0\n",
    "   \n",
    "    for cuisine in tqdm(cuisine_styles_unique):\n",
    "        data[cuisine] = data['Cuisine_Style'].apply(new_cuisines_col)\n",
    "\n",
    "    data.drop(columns=['Cuisine_Style'], inplace=True)\n",
    "    \n",
    "    # =============== Price Range ===============\n",
    "    \n",
    "    price_range = {'$': 1, '$$ - $$$': 2, '$$$$': 3}\n",
    "    \n",
    "    data['Price'] = data['Price_Range'].map(price_range)\n",
    "    data['Price'].fillna(2, inplace=True)\n",
    "    \n",
    "    data.drop(columns=['Price_Range'], inplace=True)\n",
    "    \n",
    "    # =============== Number_of_Reviews ===============\n",
    "    \n",
    "    data['Number_of_Reviews'] = data['Number_of_Reviews'].fillna(0)\n",
    "    \n",
    "    data.drop(columns=['Restaurant_id', 'Reviews', 'URL_TA', 'ID_TA'], inplace=True)\n",
    "    \n",
    "    return data, cuisine_styles_unique"
   ]
  },
  {
   "cell_type": "code",
   "execution_count": 430,
   "id": "owned-portrait",
   "metadata": {
    "ExecuteTime": {
     "end_time": "2021-07-25T12:23:07.794146Z",
     "start_time": "2021-07-25T12:23:04.056708Z"
    }
   },
   "outputs": [
    {
     "name": "stderr",
     "output_type": "stream",
     "text": [
      "100%|██████████| 125/125 [00:03<00:00, 36.59it/s]\n"
     ]
    }
   ],
   "source": [
    "data, cuisine_styles_unique = data_preproc(data)"
   ]
  },
  {
   "cell_type": "code",
   "execution_count": 431,
   "id": "established-heaven",
   "metadata": {
    "ExecuteTime": {
     "end_time": "2021-07-25T12:23:10.300272Z",
     "start_time": "2021-07-25T12:23:10.223245Z"
    }
   },
   "outputs": [
    {
     "data": {
      "text/html": [
       "<div>\n",
       "<style scoped>\n",
       "    .dataframe tbody tr th:only-of-type {\n",
       "        vertical-align: middle;\n",
       "    }\n",
       "\n",
       "    .dataframe tbody tr th {\n",
       "        vertical-align: top;\n",
       "    }\n",
       "\n",
       "    .dataframe thead th {\n",
       "        text-align: right;\n",
       "    }\n",
       "</style>\n",
       "<table border=\"1\" class=\"dataframe\">\n",
       "  <thead>\n",
       "    <tr style=\"text-align: right;\">\n",
       "      <th></th>\n",
       "      <th>City</th>\n",
       "      <th>Ranking</th>\n",
       "      <th>Rating</th>\n",
       "      <th>Number_of_Reviews</th>\n",
       "      <th>sample</th>\n",
       "      <th>County</th>\n",
       "      <th>Population</th>\n",
       "      <th>Capital</th>\n",
       "      <th>num_of_cuisine_styles</th>\n",
       "      <th>Pakistani</th>\n",
       "      <th>...</th>\n",
       "      <th>Azerbaijani</th>\n",
       "      <th>Lebanese</th>\n",
       "      <th>Argentinean</th>\n",
       "      <th>Nepali</th>\n",
       "      <th>Pizza</th>\n",
       "      <th>Mexican</th>\n",
       "      <th>New Zealand</th>\n",
       "      <th>Taiwanese</th>\n",
       "      <th>Contemporary</th>\n",
       "      <th>Price</th>\n",
       "    </tr>\n",
       "  </thead>\n",
       "  <tbody>\n",
       "    <tr>\n",
       "      <th>0</th>\n",
       "      <td>Paris</td>\n",
       "      <td>5570.0</td>\n",
       "      <td>3.5</td>\n",
       "      <td>194.0</td>\n",
       "      <td>1</td>\n",
       "      <td>France</td>\n",
       "      <td>2190327</td>\n",
       "      <td>1</td>\n",
       "      <td>3</td>\n",
       "      <td>0</td>\n",
       "      <td>...</td>\n",
       "      <td>0</td>\n",
       "      <td>0</td>\n",
       "      <td>0</td>\n",
       "      <td>0</td>\n",
       "      <td>0</td>\n",
       "      <td>0</td>\n",
       "      <td>0</td>\n",
       "      <td>0</td>\n",
       "      <td>0</td>\n",
       "      <td>2.0</td>\n",
       "    </tr>\n",
       "    <tr>\n",
       "      <th>1</th>\n",
       "      <td>Stockholm</td>\n",
       "      <td>1537.0</td>\n",
       "      <td>4.0</td>\n",
       "      <td>10.0</td>\n",
       "      <td>1</td>\n",
       "      <td>Sweden</td>\n",
       "      <td>961609</td>\n",
       "      <td>1</td>\n",
       "      <td>1</td>\n",
       "      <td>0</td>\n",
       "      <td>...</td>\n",
       "      <td>0</td>\n",
       "      <td>0</td>\n",
       "      <td>0</td>\n",
       "      <td>0</td>\n",
       "      <td>0</td>\n",
       "      <td>0</td>\n",
       "      <td>0</td>\n",
       "      <td>0</td>\n",
       "      <td>0</td>\n",
       "      <td>2.0</td>\n",
       "    </tr>\n",
       "    <tr>\n",
       "      <th>2</th>\n",
       "      <td>London</td>\n",
       "      <td>353.0</td>\n",
       "      <td>4.5</td>\n",
       "      <td>688.0</td>\n",
       "      <td>1</td>\n",
       "      <td>UK</td>\n",
       "      <td>8908081</td>\n",
       "      <td>1</td>\n",
       "      <td>7</td>\n",
       "      <td>0</td>\n",
       "      <td>...</td>\n",
       "      <td>0</td>\n",
       "      <td>0</td>\n",
       "      <td>0</td>\n",
       "      <td>0</td>\n",
       "      <td>0</td>\n",
       "      <td>0</td>\n",
       "      <td>0</td>\n",
       "      <td>0</td>\n",
       "      <td>0</td>\n",
       "      <td>3.0</td>\n",
       "    </tr>\n",
       "    <tr>\n",
       "      <th>3</th>\n",
       "      <td>Berlin</td>\n",
       "      <td>3458.0</td>\n",
       "      <td>5.0</td>\n",
       "      <td>3.0</td>\n",
       "      <td>1</td>\n",
       "      <td>Germany</td>\n",
       "      <td>3644826</td>\n",
       "      <td>1</td>\n",
       "      <td>1</td>\n",
       "      <td>0</td>\n",
       "      <td>...</td>\n",
       "      <td>0</td>\n",
       "      <td>0</td>\n",
       "      <td>0</td>\n",
       "      <td>0</td>\n",
       "      <td>0</td>\n",
       "      <td>0</td>\n",
       "      <td>0</td>\n",
       "      <td>0</td>\n",
       "      <td>0</td>\n",
       "      <td>2.0</td>\n",
       "    </tr>\n",
       "    <tr>\n",
       "      <th>4</th>\n",
       "      <td>Munich</td>\n",
       "      <td>621.0</td>\n",
       "      <td>4.0</td>\n",
       "      <td>84.0</td>\n",
       "      <td>1</td>\n",
       "      <td>Germany</td>\n",
       "      <td>1456039</td>\n",
       "      <td>0</td>\n",
       "      <td>3</td>\n",
       "      <td>0</td>\n",
       "      <td>...</td>\n",
       "      <td>0</td>\n",
       "      <td>0</td>\n",
       "      <td>0</td>\n",
       "      <td>0</td>\n",
       "      <td>0</td>\n",
       "      <td>0</td>\n",
       "      <td>0</td>\n",
       "      <td>0</td>\n",
       "      <td>0</td>\n",
       "      <td>2.0</td>\n",
       "    </tr>\n",
       "    <tr>\n",
       "      <th>...</th>\n",
       "      <td>...</td>\n",
       "      <td>...</td>\n",
       "      <td>...</td>\n",
       "      <td>...</td>\n",
       "      <td>...</td>\n",
       "      <td>...</td>\n",
       "      <td>...</td>\n",
       "      <td>...</td>\n",
       "      <td>...</td>\n",
       "      <td>...</td>\n",
       "      <td>...</td>\n",
       "      <td>...</td>\n",
       "      <td>...</td>\n",
       "      <td>...</td>\n",
       "      <td>...</td>\n",
       "      <td>...</td>\n",
       "      <td>...</td>\n",
       "      <td>...</td>\n",
       "      <td>...</td>\n",
       "      <td>...</td>\n",
       "      <td>...</td>\n",
       "    </tr>\n",
       "    <tr>\n",
       "      <th>9995</th>\n",
       "      <td>London</td>\n",
       "      <td>4367.0</td>\n",
       "      <td>NaN</td>\n",
       "      <td>28.0</td>\n",
       "      <td>0</td>\n",
       "      <td>UK</td>\n",
       "      <td>8908081</td>\n",
       "      <td>1</td>\n",
       "      <td>4</td>\n",
       "      <td>0</td>\n",
       "      <td>...</td>\n",
       "      <td>0</td>\n",
       "      <td>0</td>\n",
       "      <td>0</td>\n",
       "      <td>0</td>\n",
       "      <td>0</td>\n",
       "      <td>0</td>\n",
       "      <td>0</td>\n",
       "      <td>0</td>\n",
       "      <td>0</td>\n",
       "      <td>1.0</td>\n",
       "    </tr>\n",
       "    <tr>\n",
       "      <th>9996</th>\n",
       "      <td>Lisbon</td>\n",
       "      <td>2612.0</td>\n",
       "      <td>NaN</td>\n",
       "      <td>2.0</td>\n",
       "      <td>0</td>\n",
       "      <td>Portugalia</td>\n",
       "      <td>505526</td>\n",
       "      <td>1</td>\n",
       "      <td>4</td>\n",
       "      <td>0</td>\n",
       "      <td>...</td>\n",
       "      <td>0</td>\n",
       "      <td>0</td>\n",
       "      <td>0</td>\n",
       "      <td>1</td>\n",
       "      <td>0</td>\n",
       "      <td>0</td>\n",
       "      <td>0</td>\n",
       "      <td>0</td>\n",
       "      <td>0</td>\n",
       "      <td>2.0</td>\n",
       "    </tr>\n",
       "    <tr>\n",
       "      <th>9997</th>\n",
       "      <td>Milan</td>\n",
       "      <td>5562.0</td>\n",
       "      <td>NaN</td>\n",
       "      <td>2.0</td>\n",
       "      <td>0</td>\n",
       "      <td>Italy</td>\n",
       "      <td>1378689</td>\n",
       "      <td>0</td>\n",
       "      <td>1</td>\n",
       "      <td>0</td>\n",
       "      <td>...</td>\n",
       "      <td>0</td>\n",
       "      <td>0</td>\n",
       "      <td>0</td>\n",
       "      <td>0</td>\n",
       "      <td>0</td>\n",
       "      <td>0</td>\n",
       "      <td>0</td>\n",
       "      <td>0</td>\n",
       "      <td>0</td>\n",
       "      <td>2.0</td>\n",
       "    </tr>\n",
       "    <tr>\n",
       "      <th>9998</th>\n",
       "      <td>Milan</td>\n",
       "      <td>4010.0</td>\n",
       "      <td>NaN</td>\n",
       "      <td>2.0</td>\n",
       "      <td>0</td>\n",
       "      <td>Italy</td>\n",
       "      <td>1378689</td>\n",
       "      <td>0</td>\n",
       "      <td>1</td>\n",
       "      <td>0</td>\n",
       "      <td>...</td>\n",
       "      <td>0</td>\n",
       "      <td>0</td>\n",
       "      <td>0</td>\n",
       "      <td>0</td>\n",
       "      <td>0</td>\n",
       "      <td>0</td>\n",
       "      <td>0</td>\n",
       "      <td>0</td>\n",
       "      <td>0</td>\n",
       "      <td>2.0</td>\n",
       "    </tr>\n",
       "    <tr>\n",
       "      <th>9999</th>\n",
       "      <td>Paris</td>\n",
       "      <td>6791.0</td>\n",
       "      <td>NaN</td>\n",
       "      <td>14.0</td>\n",
       "      <td>0</td>\n",
       "      <td>France</td>\n",
       "      <td>2190327</td>\n",
       "      <td>1</td>\n",
       "      <td>1</td>\n",
       "      <td>0</td>\n",
       "      <td>...</td>\n",
       "      <td>0</td>\n",
       "      <td>0</td>\n",
       "      <td>0</td>\n",
       "      <td>0</td>\n",
       "      <td>0</td>\n",
       "      <td>0</td>\n",
       "      <td>0</td>\n",
       "      <td>0</td>\n",
       "      <td>0</td>\n",
       "      <td>2.0</td>\n",
       "    </tr>\n",
       "  </tbody>\n",
       "</table>\n",
       "<p>50000 rows × 135 columns</p>\n",
       "</div>"
      ],
      "text/plain": [
       "           City  Ranking  Rating  Number_of_Reviews  sample      County  \\\n",
       "0         Paris   5570.0     3.5              194.0       1      France   \n",
       "1     Stockholm   1537.0     4.0               10.0       1      Sweden   \n",
       "2        London    353.0     4.5              688.0       1          UK   \n",
       "3        Berlin   3458.0     5.0                3.0       1     Germany   \n",
       "4        Munich    621.0     4.0               84.0       1     Germany   \n",
       "...         ...      ...     ...                ...     ...         ...   \n",
       "9995     London   4367.0     NaN               28.0       0          UK   \n",
       "9996     Lisbon   2612.0     NaN                2.0       0  Portugalia   \n",
       "9997      Milan   5562.0     NaN                2.0       0       Italy   \n",
       "9998      Milan   4010.0     NaN                2.0       0       Italy   \n",
       "9999      Paris   6791.0     NaN               14.0       0      France   \n",
       "\n",
       "      Population  Capital  num_of_cuisine_styles  Pakistani  ...  Azerbaijani  \\\n",
       "0        2190327        1                      3          0  ...            0   \n",
       "1         961609        1                      1          0  ...            0   \n",
       "2        8908081        1                      7          0  ...            0   \n",
       "3        3644826        1                      1          0  ...            0   \n",
       "4        1456039        0                      3          0  ...            0   \n",
       "...          ...      ...                    ...        ...  ...          ...   \n",
       "9995     8908081        1                      4          0  ...            0   \n",
       "9996      505526        1                      4          0  ...            0   \n",
       "9997     1378689        0                      1          0  ...            0   \n",
       "9998     1378689        0                      1          0  ...            0   \n",
       "9999     2190327        1                      1          0  ...            0   \n",
       "\n",
       "      Lebanese  Argentinean  Nepali  Pizza  Mexican  New Zealand  Taiwanese  \\\n",
       "0            0            0       0      0        0            0          0   \n",
       "1            0            0       0      0        0            0          0   \n",
       "2            0            0       0      0        0            0          0   \n",
       "3            0            0       0      0        0            0          0   \n",
       "4            0            0       0      0        0            0          0   \n",
       "...        ...          ...     ...    ...      ...          ...        ...   \n",
       "9995         0            0       0      0        0            0          0   \n",
       "9996         0            0       1      0        0            0          0   \n",
       "9997         0            0       0      0        0            0          0   \n",
       "9998         0            0       0      0        0            0          0   \n",
       "9999         0            0       0      0        0            0          0   \n",
       "\n",
       "      Contemporary  Price  \n",
       "0                0    2.0  \n",
       "1                0    2.0  \n",
       "2                0    3.0  \n",
       "3                0    2.0  \n",
       "4                0    2.0  \n",
       "...            ...    ...  \n",
       "9995             0    1.0  \n",
       "9996             0    2.0  \n",
       "9997             0    2.0  \n",
       "9998             0    2.0  \n",
       "9999             0    2.0  \n",
       "\n",
       "[50000 rows x 135 columns]"
      ]
     },
     "execution_count": 431,
     "metadata": {},
     "output_type": "execute_result"
    }
   ],
   "source": [
    "data"
   ]
  },
  {
   "cell_type": "code",
   "execution_count": 391,
   "id": "interested-switzerland",
   "metadata": {
    "ExecuteTime": {
     "end_time": "2021-07-25T12:09:15.214368Z",
     "start_time": "2021-07-25T12:09:14.182692Z"
    }
   },
   "outputs": [],
   "source": [
    "data.to_csv(DATA_PATH+'prep_data.csv', index=False)"
   ]
  },
  {
   "cell_type": "markdown",
   "id": "essential-incentive",
   "metadata": {},
   "source": [
    "# Pandas profiling"
   ]
  },
  {
   "cell_type": "code",
   "execution_count": 433,
   "id": "spare-uruguay",
   "metadata": {
    "ExecuteTime": {
     "end_time": "2021-07-25T12:24:20.728317Z",
     "start_time": "2021-07-25T12:24:01.622961Z"
    }
   },
   "outputs": [
    {
     "data": {
      "application/vnd.jupyter.widget-view+json": {
       "model_id": "d23d2ff3602d46a5b1c356f35de8048c",
       "version_major": 2,
       "version_minor": 0
      },
      "text/plain": [
       "Summarize dataset:   0%|          | 0/24 [00:00<?, ?it/s]"
      ]
     },
     "metadata": {},
     "output_type": "display_data"
    },
    {
     "name": "stderr",
     "output_type": "stream",
     "text": [
      "C:\\Users\\mi\\Anaconda3\\lib\\site-packages\\pandas_profiling\\model\\correlations.py:192: RuntimeWarning: invalid value encountered in greater_equal\n",
      "  bool_index = abs(correlation_matrix.values) >= threshold\n"
     ]
    },
    {
     "data": {
      "application/vnd.jupyter.widget-view+json": {
       "model_id": "d9be311424a14042ba354bb3d111a28e",
       "version_major": 2,
       "version_minor": 0
      },
      "text/plain": [
       "Generate report structure:   0%|          | 0/1 [00:00<?, ?it/s]"
      ]
     },
     "metadata": {},
     "output_type": "display_data"
    },
    {
     "data": {
      "application/vnd.jupyter.widget-view+json": {
       "model_id": "06d632f2cb8943e2a8f0c4ad9726940a",
       "version_major": 2,
       "version_minor": 0
      },
      "text/plain": [
       "Render HTML:   0%|          | 0/1 [00:00<?, ?it/s]"
      ]
     },
     "metadata": {},
     "output_type": "display_data"
    },
    {
     "data": {
      "application/vnd.jupyter.widget-view+json": {
       "model_id": "34238effd48f4615bebc4d531bcc55c9",
       "version_major": 2,
       "version_minor": 0
      },
      "text/plain": [
       "Export report to file:   0%|          | 0/1 [00:00<?, ?it/s]"
      ]
     },
     "metadata": {},
     "output_type": "display_data"
    }
   ],
   "source": [
    "profile = ProfileReport(data.drop(columns=cuisine_styles_unique), title='Tripadvisor restaurants')\n",
    "profile.to_file('../eda/trip_rest_pandas_profiling.html')"
   ]
  },
  {
   "cell_type": "markdown",
   "id": "disabled-baking",
   "metadata": {},
   "source": [
    "# Sweetviz"
   ]
  },
  {
   "cell_type": "code",
   "execution_count": 440,
   "id": "brave-tampa",
   "metadata": {
    "ExecuteTime": {
     "end_time": "2021-07-25T12:29:32.977075Z",
     "start_time": "2021-07-25T12:29:27.046159Z"
    }
   },
   "outputs": [
    {
     "data": {
      "application/vnd.jupyter.widget-view+json": {
       "model_id": "9aa47c689732484b821510b3741057ce",
       "version_major": 2,
       "version_minor": 0
      },
      "text/plain": [
       "                                             |          | [  0%]   00:00 -> (? left)"
      ]
     },
     "metadata": {},
     "output_type": "display_data"
    },
    {
     "name": "stdout",
     "output_type": "stream",
     "text": [
      "Report ../eda/trip_rest_sweetviz.html was generated! NOTEBOOK/COLAB USERS: the web browser MAY not pop up, regardless, the report IS saved in your notebook/colab files.\n"
     ]
    }
   ],
   "source": [
    "comparison_report = sv.analyze(data.drop(columns=cuisine_styles_unique))\n",
    "comparison_report.show_html('../eda/trip_rest_sweetviz.html')"
   ]
  },
  {
   "cell_type": "code",
   "execution_count": 441,
   "id": "sized-baptist",
   "metadata": {
    "ExecuteTime": {
     "end_time": "2021-07-25T12:41:59.357084Z",
     "start_time": "2021-07-25T12:41:59.325128Z"
    }
   },
   "outputs": [
    {
     "name": "stdout",
     "output_type": "stream",
     "text": [
      "<class 'pandas.core.frame.DataFrame'>\n",
      "Int64Index: 50000 entries, 0 to 9999\n",
      "Data columns (total 10 columns):\n",
      " #   Column                 Non-Null Count  Dtype  \n",
      "---  ------                 --------------  -----  \n",
      " 0   City                   50000 non-null  object \n",
      " 1   Ranking                50000 non-null  float64\n",
      " 2   Rating                 40000 non-null  float64\n",
      " 3   Number_of_Reviews      50000 non-null  float64\n",
      " 4   sample                 50000 non-null  int64  \n",
      " 5   County                 50000 non-null  object \n",
      " 6   Population             50000 non-null  int64  \n",
      " 7   Capital                50000 non-null  int64  \n",
      " 8   num_of_cuisine_styles  50000 non-null  int64  \n",
      " 9   Price                  50000 non-null  float64\n",
      "dtypes: float64(4), int64(4), object(2)\n",
      "memory usage: 4.2+ MB\n"
     ]
    }
   ],
   "source": [
    "data.drop(columns=cuisine_styles_unique).info()"
   ]
  },
  {
   "cell_type": "code",
   "execution_count": 442,
   "id": "consistent-expansion",
   "metadata": {
    "ExecuteTime": {
     "end_time": "2021-07-25T13:06:42.072244Z",
     "start_time": "2021-07-25T13:06:42.044218Z"
    },
    "scrolled": false
   },
   "outputs": [
    {
     "data": {
      "text/plain": [
       "{'Afghani',\n",
       " 'African',\n",
       " 'Albanian',\n",
       " 'American',\n",
       " 'Arabic',\n",
       " 'Argentinean',\n",
       " 'Armenian',\n",
       " 'Asian',\n",
       " 'Australian',\n",
       " 'Austrian',\n",
       " 'Azerbaijani',\n",
       " 'Balti',\n",
       " 'Bangladeshi',\n",
       " 'Bar',\n",
       " 'Barbecue',\n",
       " 'Belgian',\n",
       " 'Brazilian',\n",
       " 'Brew Pub',\n",
       " 'British',\n",
       " 'Burmese',\n",
       " 'Cafe',\n",
       " 'Cajun & Creole',\n",
       " 'Cambodian',\n",
       " 'Canadian',\n",
       " 'Caribbean',\n",
       " 'Caucasian',\n",
       " 'Central American',\n",
       " 'Central Asian',\n",
       " 'Central European',\n",
       " 'Chilean',\n",
       " 'Chinese',\n",
       " 'Colombian',\n",
       " 'Contemporary',\n",
       " 'Croatian',\n",
       " 'Cuban',\n",
       " 'Czech',\n",
       " 'Danish',\n",
       " 'Delicatessen',\n",
       " 'Diner',\n",
       " 'Dutch',\n",
       " 'Eastern European',\n",
       " 'Ecuadorean',\n",
       " 'Egyptian',\n",
       " 'Ethiopian',\n",
       " 'European',\n",
       " 'Fast Food',\n",
       " 'Filipino',\n",
       " 'French',\n",
       " 'Fujian',\n",
       " 'Fusion',\n",
       " 'Gastropub',\n",
       " 'Georgian',\n",
       " 'German',\n",
       " 'Gluten Free Options',\n",
       " 'Greek',\n",
       " 'Grill',\n",
       " 'Halal',\n",
       " 'Hawaiian',\n",
       " 'Healthy',\n",
       " 'Hungarian',\n",
       " 'Indian',\n",
       " 'Indonesian',\n",
       " 'International',\n",
       " 'Irish',\n",
       " 'Israeli',\n",
       " 'Italian',\n",
       " 'Jamaican',\n",
       " 'Japanese',\n",
       " 'Korean',\n",
       " 'Kosher',\n",
       " 'Latin',\n",
       " 'Latvian',\n",
       " 'Lebanese',\n",
       " 'Malaysian',\n",
       " 'Mediterranean',\n",
       " 'Mexican',\n",
       " 'Middle Eastern',\n",
       " 'Minority Chinese',\n",
       " 'Mongolian',\n",
       " 'Moroccan',\n",
       " 'Native American',\n",
       " 'Nepali',\n",
       " 'New Zealand',\n",
       " 'Norwegian',\n",
       " 'Pakistani',\n",
       " 'Persian',\n",
       " 'Peruvian',\n",
       " 'Pizza',\n",
       " 'Polish',\n",
       " 'Polynesian',\n",
       " 'Portuguese',\n",
       " 'Pub',\n",
       " 'Romanian',\n",
       " 'Russian',\n",
       " 'Salvadoran',\n",
       " 'Scandinavian',\n",
       " 'Scottish',\n",
       " 'Seafood',\n",
       " 'Singaporean',\n",
       " 'Slovenian',\n",
       " 'Soups',\n",
       " 'South American',\n",
       " 'Southwestern',\n",
       " 'Spanish',\n",
       " 'Sri Lankan',\n",
       " 'Steakhouse',\n",
       " 'Street Food',\n",
       " 'Sushi',\n",
       " 'Swedish',\n",
       " 'Swiss',\n",
       " 'Taiwanese',\n",
       " 'Thai',\n",
       " 'Tibetan',\n",
       " 'Tunisian',\n",
       " 'Turkish',\n",
       " 'Ukrainian',\n",
       " 'Uzbek',\n",
       " 'Vegan Options',\n",
       " 'Vegetarian Friendly',\n",
       " 'Venezuelan',\n",
       " 'Vietnamese',\n",
       " 'Welsh',\n",
       " 'Wine Bar',\n",
       " 'Xinjiang',\n",
       " 'Yunnan'}"
      ]
     },
     "execution_count": 442,
     "metadata": {},
     "output_type": "execute_result"
    }
   ],
   "source": [
    "cuisine_styles_unique"
   ]
  },
  {
   "cell_type": "code",
   "execution_count": null,
   "id": "hungarian-trauma",
   "metadata": {},
   "outputs": [],
   "source": []
  }
 ],
 "metadata": {
  "kernelspec": {
   "display_name": "Python 3",
   "language": "python",
   "name": "python3"
  },
  "language_info": {
   "codemirror_mode": {
    "name": "ipython",
    "version": 3
   },
   "file_extension": ".py",
   "mimetype": "text/x-python",
   "name": "python",
   "nbconvert_exporter": "python",
   "pygments_lexer": "ipython3",
   "version": "3.7.7"
  },
  "toc": {
   "base_numbering": 1,
   "nav_menu": {},
   "number_sections": true,
   "sideBar": true,
   "skip_h1_title": false,
   "title_cell": "Table of Contents",
   "title_sidebar": "Contents",
   "toc_cell": false,
   "toc_position": {},
   "toc_section_display": true,
   "toc_window_display": true
  },
  "varInspector": {
   "cols": {
    "lenName": 16,
    "lenType": 16,
    "lenVar": 40
   },
   "kernels_config": {
    "python": {
     "delete_cmd_postfix": "",
     "delete_cmd_prefix": "del ",
     "library": "var_list.py",
     "varRefreshCmd": "print(var_dic_list())"
    },
    "r": {
     "delete_cmd_postfix": ") ",
     "delete_cmd_prefix": "rm(",
     "library": "var_list.r",
     "varRefreshCmd": "cat(var_dic_list()) "
    }
   },
   "types_to_exclude": [
    "module",
    "function",
    "builtin_function_or_method",
    "instance",
    "_Feature"
   ],
   "window_display": false
  }
 },
 "nbformat": 4,
 "nbformat_minor": 5
}
