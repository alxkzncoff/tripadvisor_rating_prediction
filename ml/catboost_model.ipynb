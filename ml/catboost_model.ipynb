{
 "cells": [
  {
   "cell_type": "markdown",
   "id": "adequate-incident",
   "metadata": {},
   "source": [
    "# IMPORT"
   ]
  },
  {
   "cell_type": "code",
   "execution_count": 1,
   "id": "severe-geometry",
   "metadata": {
    "ExecuteTime": {
     "end_time": "2021-07-25T13:33:57.013073Z",
     "start_time": "2021-07-25T13:33:53.030925Z"
    }
   },
   "outputs": [],
   "source": [
    "import numpy as np\n",
    "import pandas as pd\n",
    "import matplotlib.pyplot as plt\n",
    "from tqdm.notebook import tqdm\n",
    "\n",
    "pd.set_option('display.max_rows', 200)\n",
    "pd.set_option('display.max_columns', 50)\n",
    "\n",
    "from catboost import CatBoostRegressor\n",
    "from catboost import Pool\n",
    "from catboost import cv\n",
    "from sklearn.model_selection import train_test_split\n",
    "from sklearn.model_selection import KFold\n",
    "from sklearn.metrics import mean_squared_error, mean_absolute_error, r2_score, mean_absolute_percentage_error\n",
    "\n",
    "import neptune.new as neptune\n",
    "import optuna\n",
    "import neptune.new.integrations.optuna as optuna_utils\n",
    "from joblib import dump"
   ]
  },
  {
   "cell_type": "markdown",
   "id": "rocky-stevens",
   "metadata": {},
   "source": [
    "# DEFINE"
   ]
  },
  {
   "cell_type": "code",
   "execution_count": 2,
   "id": "circular-school",
   "metadata": {
    "ExecuteTime": {
     "end_time": "2021-07-25T13:33:57.029073Z",
     "start_time": "2021-07-25T13:33:57.015071Z"
    }
   },
   "outputs": [],
   "source": [
    "DATA_PATH   = '../data/'\n",
    "RANDOM_SEED = 42"
   ]
  },
  {
   "cell_type": "code",
   "execution_count": 3,
   "id": "hawaiian-letter",
   "metadata": {
    "ExecuteTime": {
     "end_time": "2021-07-25T13:33:57.547321Z",
     "start_time": "2021-07-25T13:33:57.032027Z"
    }
   },
   "outputs": [],
   "source": [
    "data = pd.read_csv(DATA_PATH+'prep_data.csv')\n",
    "train = data[data['sample']==1].drop(columns=['sample'])\n",
    "test = data[data['sample']==0].drop(columns=['sample'])"
   ]
  },
  {
   "cell_type": "code",
   "execution_count": 4,
   "id": "virtual-nigeria",
   "metadata": {
    "ExecuteTime": {
     "end_time": "2021-07-25T13:33:57.563277Z",
     "start_time": "2021-07-25T13:33:57.551311Z"
    }
   },
   "outputs": [],
   "source": [
    "def rating(prediction):\n",
    "        if prediction < 0.25:\n",
    "            return 0\n",
    "        elif 0.25 < prediction <= 0.75:\n",
    "            return 0.5\n",
    "        elif 0.75 < prediction <= 1.25:\n",
    "            return 1\n",
    "        elif 1.25 <prediction <= 1.75:\n",
    "            return 1.5\n",
    "        elif 1.75 < prediction <= 2.25:\n",
    "            return 2\n",
    "        elif 2.25 < prediction <= 2.75:\n",
    "            return 2.5\n",
    "        elif 2.75 < prediction <= 3.25:\n",
    "            return 3\n",
    "        elif 3.25 < prediction <= 3.75:\n",
    "            return 3.5\n",
    "        elif 3.75 < prediction <= 4.25:\n",
    "            return 4\n",
    "        elif 4.25 < prediction <= 4.75:\n",
    "            return 4.5\n",
    "        else:\n",
    "            return 5"
   ]
  },
  {
   "cell_type": "code",
   "execution_count": 5,
   "id": "lyric-organ",
   "metadata": {
    "ExecuteTime": {
     "end_time": "2021-07-25T13:33:57.579238Z",
     "start_time": "2021-07-25T13:33:57.566268Z"
    }
   },
   "outputs": [],
   "source": [
    "def eval_metrics(actual, pred):\n",
    "    rmse = np.sqrt(mean_squared_error(actual, pred))\n",
    "    mae = mean_absolute_error(actual, pred)\n",
    "    r2 = r2_score(actual, pred)\n",
    "    mape = mean_absolute_percentage_error(actual, pred)\n",
    "    return rmse, mae, r2, mape"
   ]
  },
  {
   "cell_type": "code",
   "execution_count": 8,
   "id": "hungry-sugar",
   "metadata": {
    "ExecuteTime": {
     "end_time": "2021-07-25T13:39:27.442229Z",
     "start_time": "2021-07-25T13:39:27.423267Z"
    }
   },
   "outputs": [],
   "source": [
    "def nt_catboost(data, lr, depth, loss_function):\n",
    "    \n",
    "    df = data.copy()\n",
    "    df.reset_index(inplace=True)\n",
    "    \n",
    "    run = neptune.init(project='alxkzncoff/trip-rating',\n",
    "                       api_token='eyJhcGlfYWRkcmVzcyI6Imh0dHBzOi8vYXBwLm5lcHR1bmUuYWkiLCJhcGlfdXJsIjoiaHR0cHM6Ly9hcHAubmVwdHVuZS5haSIsImFwaV9rZXkiOiI5ZmI4NDE1Ny03YzcyLTQwOTQtOTUwMi1kODlkYWMwY2YwOGQifQ==',\n",
    "                       name = 'catboost')\n",
    "\n",
    "\n",
    "\n",
    "    X = df.drop(['Rating'], axis=1)\n",
    "    y = df['Rating']\n",
    "\n",
    "    X_train, X_test, y_train, y_test = train_test_split(X, y, test_size=0.25, shuffle=True, random_state=RANDOM_SEED)\n",
    "    \n",
    "    train_data = Pool(data = X_train,\n",
    "                      label = y_train,\n",
    "                      cat_features =  ['City', 'County'])\n",
    "\n",
    "    test_data = Pool(data = X_test,\n",
    "                    label = y_test,\n",
    "                    cat_features =  ['City', 'County'])\n",
    "    \n",
    "    ctb = CatBoostRegressor( loss_function = loss_function,\n",
    "                             eval_metric = 'MAE',\n",
    "                             learning_rate=lr,\n",
    "                             iterations=25000, # обучаем до overfitting'a\n",
    "                             depth=depth,\n",
    "                             one_hot_max_size = 5,\n",
    "                             random_seed=RANDOM_SEED,\n",
    "                             od_type='Iter',\n",
    "                             od_wait=500,\n",
    "                             task_type='CPU')\n",
    "    \n",
    "    model = ctb.fit(train_data,\n",
    "                    eval_set=test_data,\n",
    "                    verbose_eval=500,\n",
    "                    use_best_model=True)\n",
    "\n",
    "    print(model)\n",
    "\n",
    "    predict = model.predict(X_test)\n",
    "    \n",
    "    for i in range(predict.size):\n",
    "        predict[i]=rating(predict[i])\n",
    "    \n",
    "    (rmse, mae, r2, mape) = eval_metrics(y_test, predict)\n",
    "\n",
    "    run[\"sys/tags\"].add(['catboost'])\n",
    "    run['catboost/parameters'] = {'loss_function': loss_function,\n",
    "                                             'learning_rate': lr,\n",
    "                                             'depth': depth}\n",
    "    run['catboost/rmse'] = np.round(rmse, 2)\n",
    "    run['catboost/mae'] = np.round(mae, 2)\n",
    "    run['catboost/r2'] = np.round(r2, 2)\n",
    "    run['catboost/mape'] = np.round(mape, 2)\n",
    "    run[\"catboost/model\"].upload('catboost.pkl')\n",
    "\n",
    "    print(f'RMSE: {np.round(rmse, 2)} | MAE: {np.round(mae, 2)} | R2: {np.round(r2, 2)} | MAPE: {np.round(mape, 2)}')\n",
    "\n",
    "    dump(ctb, 'catboost_model.pkl')\n",
    "\n",
    "    return "
   ]
  },
  {
   "cell_type": "code",
   "execution_count": 9,
   "id": "gothic-module",
   "metadata": {
    "ExecuteTime": {
     "end_time": "2021-07-25T13:41:36.820713Z",
     "start_time": "2021-07-25T13:39:34.348633Z"
    }
   },
   "outputs": [
    {
     "name": "stdout",
     "output_type": "stream",
     "text": [
      "https://app.neptune.ai/alxkzncoff/trip-rating/e/TRIP-19\n",
      "0:\tlearn: 0.4692842\ttest: 0.4606242\tbest: 0.4606242 (0)\ttotal: 31.7ms\tremaining: 13m 12s\n",
      "500:\tlearn: 0.2166216\ttest: 0.2228300\tbest: 0.2228300 (500)\ttotal: 13.7s\tremaining: 11m 8s\n",
      "1000:\tlearn: 0.2048091\ttest: 0.2161815\tbest: 0.2161532 (993)\ttotal: 30.2s\tremaining: 12m 4s\n",
      "1500:\tlearn: 0.1985659\ttest: 0.2146191\tbest: 0.2146169 (1498)\ttotal: 44.3s\tremaining: 11m 33s\n",
      "2000:\tlearn: 0.1943442\ttest: 0.2140768\tbest: 0.2140699 (1969)\ttotal: 58.1s\tremaining: 11m 7s\n",
      "2500:\tlearn: 0.1909094\ttest: 0.2134029\tbest: 0.2134029 (2500)\ttotal: 1m 11s\tremaining: 10m 44s\n",
      "3000:\tlearn: 0.1883650\ttest: 0.2132448\tbest: 0.2131776 (2873)\ttotal: 1m 24s\tremaining: 10m 21s\n",
      "3500:\tlearn: 0.1862784\ttest: 0.2131300\tbest: 0.2131027 (3456)\ttotal: 1m 36s\tremaining: 9m 55s\n",
      "4000:\tlearn: 0.1843467\ttest: 0.2130808\tbest: 0.2130304 (3898)\ttotal: 1m 50s\tremaining: 9m 37s\n",
      "Stopped by overfitting detector  (500 iterations wait)\n",
      "\n",
      "bestTest = 0.2130303548\n",
      "bestIteration = 3898\n",
      "\n",
      "Shrink model to first 3899 iterations.\n",
      "<catboost.core.CatBoostRegressor object at 0x00000205479F92C8>\n",
      "RMSE: 0.34 | MAE: 0.18 | R2: 0.74 | MAPE: 0.05\n"
     ]
    }
   ],
   "source": [
    "nt_catboost(train, 0.1, 5, 'MAE')"
   ]
  },
  {
   "cell_type": "code",
   "execution_count": null,
   "id": "designed-hypothetical",
   "metadata": {},
   "outputs": [],
   "source": []
  }
 ],
 "metadata": {
  "kernelspec": {
   "display_name": "Python 3",
   "language": "python",
   "name": "python3"
  },
  "language_info": {
   "codemirror_mode": {
    "name": "ipython",
    "version": 3
   },
   "file_extension": ".py",
   "mimetype": "text/x-python",
   "name": "python",
   "nbconvert_exporter": "python",
   "pygments_lexer": "ipython3",
   "version": "3.7.7"
  },
  "toc": {
   "base_numbering": 1,
   "nav_menu": {},
   "number_sections": true,
   "sideBar": true,
   "skip_h1_title": false,
   "title_cell": "Table of Contents",
   "title_sidebar": "Contents",
   "toc_cell": false,
   "toc_position": {},
   "toc_section_display": true,
   "toc_window_display": true
  },
  "varInspector": {
   "cols": {
    "lenName": 16,
    "lenType": 16,
    "lenVar": 40
   },
   "kernels_config": {
    "python": {
     "delete_cmd_postfix": "",
     "delete_cmd_prefix": "del ",
     "library": "var_list.py",
     "varRefreshCmd": "print(var_dic_list())"
    },
    "r": {
     "delete_cmd_postfix": ") ",
     "delete_cmd_prefix": "rm(",
     "library": "var_list.r",
     "varRefreshCmd": "cat(var_dic_list()) "
    }
   },
   "types_to_exclude": [
    "module",
    "function",
    "builtin_function_or_method",
    "instance",
    "_Feature"
   ],
   "window_display": false
  }
 },
 "nbformat": 4,
 "nbformat_minor": 5
}
