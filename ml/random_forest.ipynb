{
 "cells": [
  {
   "cell_type": "markdown",
   "metadata": {},
   "source": [
    "# IMPORT"
   ]
  },
  {
   "cell_type": "code",
   "execution_count": 26,
   "metadata": {
    "ExecuteTime": {
     "end_time": "2021-08-04T09:14:37.389261Z",
     "start_time": "2021-08-04T09:14:37.373261Z"
    }
   },
   "outputs": [],
   "source": [
    "import pandas as pd\n",
    "import numpy as np\n",
    "import matplotlib.pyplot as plt\n",
    "import seaborn as sns\n",
    "\n",
    "from sklearn.impute import SimpleImputer\n",
    "from sklearn.impute import KNNImputer\n",
    "from sklearn.experimental import enable_iterative_imputer\n",
    "from sklearn.impute import IterativeImputer\n",
    "\n",
    "from sklearn.preprocessing import MinMaxScaler\n",
    "from sklearn.preprocessing import StandardScaler\n",
    "\n",
    "from sklearn.metrics import mean_squared_error, mean_absolute_error, r2_score\n",
    "# , mean_absolute_percentage_error\n",
    "from sklearn.model_selection import train_test_split\n",
    "from sklearn.preprocessing import OneHotEncoder\n",
    "from sklearn.ensemble import RandomForestRegressor\n",
    "from mlxtend.feature_selection import SequentialFeatureSelector as SFS\n",
    "from mlxtend.plotting import plot_sequential_feature_selection as plot_sfs\n",
    "from sklearn.linear_model import LinearRegression\n",
    "from sklearn.metrics import SCORERS\n",
    "from joblib import dump\n",
    "\n",
    "import neptune.new as neptune\n",
    "from neptune.new.types import File\n",
    "import optuna\n",
    "import neptune.new.integrations.optuna as optuna_utils\n",
    "import uuid"
   ]
  },
  {
   "cell_type": "markdown",
   "metadata": {},
   "source": [
    "# DEFINE"
   ]
  },
  {
   "cell_type": "code",
   "execution_count": 10,
   "metadata": {
    "ExecuteTime": {
     "end_time": "2021-08-04T08:58:03.758261Z",
     "start_time": "2021-08-04T08:58:03.754261Z"
    }
   },
   "outputs": [],
   "source": [
    "DATA_PATH   = '../data/'\n",
    "RANDOM_SEED = 42"
   ]
  },
  {
   "cell_type": "code",
   "execution_count": 11,
   "metadata": {
    "ExecuteTime": {
     "end_time": "2021-08-04T08:58:04.126261Z",
     "start_time": "2021-08-04T08:58:04.048261Z"
    }
   },
   "outputs": [
    {
     "data": {
      "text/html": [
       "<div>\n",
       "<style scoped>\n",
       "    .dataframe tbody tr th:only-of-type {\n",
       "        vertical-align: middle;\n",
       "    }\n",
       "\n",
       "    .dataframe tbody tr th {\n",
       "        vertical-align: top;\n",
       "    }\n",
       "\n",
       "    .dataframe thead th {\n",
       "        text-align: right;\n",
       "    }\n",
       "</style>\n",
       "<table border=\"1\" class=\"dataframe\">\n",
       "  <thead>\n",
       "    <tr style=\"text-align: right;\">\n",
       "      <th></th>\n",
       "      <th>Ranking</th>\n",
       "      <th>Rating</th>\n",
       "      <th>Number_of_Reviews</th>\n",
       "      <th>ID_TA</th>\n",
       "      <th>sample</th>\n",
       "      <th>Restaurant_network</th>\n",
       "      <th>Country_code</th>\n",
       "      <th>City_code</th>\n",
       "      <th>Population</th>\n",
       "      <th>Capital</th>\n",
       "      <th>num_of_cuisine_styles</th>\n",
       "      <th>Price</th>\n",
       "    </tr>\n",
       "  </thead>\n",
       "  <tbody>\n",
       "    <tr>\n",
       "      <th>0</th>\n",
       "      <td>5570.0</td>\n",
       "      <td>3.5</td>\n",
       "      <td>194.0</td>\n",
       "      <td>1912643</td>\n",
       "      <td>1</td>\n",
       "      <td>1</td>\n",
       "      <td>5</td>\n",
       "      <td>24</td>\n",
       "      <td>2190327</td>\n",
       "      <td>1</td>\n",
       "      <td>3</td>\n",
       "      <td>2</td>\n",
       "    </tr>\n",
       "    <tr>\n",
       "      <th>1</th>\n",
       "      <td>1537.0</td>\n",
       "      <td>4.0</td>\n",
       "      <td>10.0</td>\n",
       "      <td>7992032</td>\n",
       "      <td>1</td>\n",
       "      <td>1</td>\n",
       "      <td>20</td>\n",
       "      <td>27</td>\n",
       "      <td>961609</td>\n",
       "      <td>1</td>\n",
       "      <td>1</td>\n",
       "      <td>2</td>\n",
       "    </tr>\n",
       "    <tr>\n",
       "      <th>2</th>\n",
       "      <td>353.0</td>\n",
       "      <td>4.5</td>\n",
       "      <td>688.0</td>\n",
       "      <td>8632781</td>\n",
       "      <td>1</td>\n",
       "      <td>1</td>\n",
       "      <td>22</td>\n",
       "      <td>16</td>\n",
       "      <td>8908081</td>\n",
       "      <td>1</td>\n",
       "      <td>7</td>\n",
       "      <td>3</td>\n",
       "    </tr>\n",
       "    <tr>\n",
       "      <th>3</th>\n",
       "      <td>3458.0</td>\n",
       "      <td>5.0</td>\n",
       "      <td>3.0</td>\n",
       "      <td>1358776</td>\n",
       "      <td>1</td>\n",
       "      <td>1</td>\n",
       "      <td>6</td>\n",
       "      <td>3</td>\n",
       "      <td>3644826</td>\n",
       "      <td>1</td>\n",
       "      <td>1</td>\n",
       "      <td>2</td>\n",
       "    </tr>\n",
       "    <tr>\n",
       "      <th>4</th>\n",
       "      <td>621.0</td>\n",
       "      <td>4.0</td>\n",
       "      <td>84.0</td>\n",
       "      <td>6864963</td>\n",
       "      <td>1</td>\n",
       "      <td>1</td>\n",
       "      <td>6</td>\n",
       "      <td>21</td>\n",
       "      <td>1456039</td>\n",
       "      <td>0</td>\n",
       "      <td>3</td>\n",
       "      <td>2</td>\n",
       "    </tr>\n",
       "    <tr>\n",
       "      <th>...</th>\n",
       "      <td>...</td>\n",
       "      <td>...</td>\n",
       "      <td>...</td>\n",
       "      <td>...</td>\n",
       "      <td>...</td>\n",
       "      <td>...</td>\n",
       "      <td>...</td>\n",
       "      <td>...</td>\n",
       "      <td>...</td>\n",
       "      <td>...</td>\n",
       "      <td>...</td>\n",
       "      <td>...</td>\n",
       "    </tr>\n",
       "    <tr>\n",
       "      <th>49995</th>\n",
       "      <td>4367.0</td>\n",
       "      <td>NaN</td>\n",
       "      <td>28.0</td>\n",
       "      <td>11916827</td>\n",
       "      <td>0</td>\n",
       "      <td>1</td>\n",
       "      <td>22</td>\n",
       "      <td>16</td>\n",
       "      <td>8908081</td>\n",
       "      <td>1</td>\n",
       "      <td>4</td>\n",
       "      <td>1</td>\n",
       "    </tr>\n",
       "    <tr>\n",
       "      <th>49996</th>\n",
       "      <td>2612.0</td>\n",
       "      <td>NaN</td>\n",
       "      <td>2.0</td>\n",
       "      <td>12701633</td>\n",
       "      <td>0</td>\n",
       "      <td>0</td>\n",
       "      <td>15</td>\n",
       "      <td>14</td>\n",
       "      <td>505526</td>\n",
       "      <td>1</td>\n",
       "      <td>4</td>\n",
       "      <td>2</td>\n",
       "    </tr>\n",
       "    <tr>\n",
       "      <th>49997</th>\n",
       "      <td>5562.0</td>\n",
       "      <td>NaN</td>\n",
       "      <td>2.0</td>\n",
       "      <td>13198194</td>\n",
       "      <td>0</td>\n",
       "      <td>0</td>\n",
       "      <td>10</td>\n",
       "      <td>20</td>\n",
       "      <td>1378689</td>\n",
       "      <td>0</td>\n",
       "      <td>1</td>\n",
       "      <td>2</td>\n",
       "    </tr>\n",
       "    <tr>\n",
       "      <th>49998</th>\n",
       "      <td>4010.0</td>\n",
       "      <td>NaN</td>\n",
       "      <td>2.0</td>\n",
       "      <td>3862815</td>\n",
       "      <td>0</td>\n",
       "      <td>0</td>\n",
       "      <td>10</td>\n",
       "      <td>20</td>\n",
       "      <td>1378689</td>\n",
       "      <td>0</td>\n",
       "      <td>1</td>\n",
       "      <td>2</td>\n",
       "    </tr>\n",
       "    <tr>\n",
       "      <th>49999</th>\n",
       "      <td>6791.0</td>\n",
       "      <td>NaN</td>\n",
       "      <td>14.0</td>\n",
       "      <td>10342814</td>\n",
       "      <td>0</td>\n",
       "      <td>0</td>\n",
       "      <td>5</td>\n",
       "      <td>24</td>\n",
       "      <td>2190327</td>\n",
       "      <td>1</td>\n",
       "      <td>1</td>\n",
       "      <td>2</td>\n",
       "    </tr>\n",
       "  </tbody>\n",
       "</table>\n",
       "<p>50000 rows × 12 columns</p>\n",
       "</div>"
      ],
      "text/plain": [
       "       Ranking  Rating  Number_of_Reviews     ID_TA  sample  \\\n",
       "0       5570.0     3.5              194.0   1912643       1   \n",
       "1       1537.0     4.0               10.0   7992032       1   \n",
       "2        353.0     4.5              688.0   8632781       1   \n",
       "3       3458.0     5.0                3.0   1358776       1   \n",
       "4        621.0     4.0               84.0   6864963       1   \n",
       "...        ...     ...                ...       ...     ...   \n",
       "49995   4367.0     NaN               28.0  11916827       0   \n",
       "49996   2612.0     NaN                2.0  12701633       0   \n",
       "49997   5562.0     NaN                2.0  13198194       0   \n",
       "49998   4010.0     NaN                2.0   3862815       0   \n",
       "49999   6791.0     NaN               14.0  10342814       0   \n",
       "\n",
       "       Restaurant_network  Country_code  City_code  Population  Capital  \\\n",
       "0                       1             5         24     2190327        1   \n",
       "1                       1            20         27      961609        1   \n",
       "2                       1            22         16     8908081        1   \n",
       "3                       1             6          3     3644826        1   \n",
       "4                       1             6         21     1456039        0   \n",
       "...                   ...           ...        ...         ...      ...   \n",
       "49995                   1            22         16     8908081        1   \n",
       "49996                   0            15         14      505526        1   \n",
       "49997                   0            10         20     1378689        0   \n",
       "49998                   0            10         20     1378689        0   \n",
       "49999                   0             5         24     2190327        1   \n",
       "\n",
       "       num_of_cuisine_styles  Price  \n",
       "0                          3      2  \n",
       "1                          1      2  \n",
       "2                          7      3  \n",
       "3                          1      2  \n",
       "4                          3      2  \n",
       "...                      ...    ...  \n",
       "49995                      4      1  \n",
       "49996                      4      2  \n",
       "49997                      1      2  \n",
       "49998                      1      2  \n",
       "49999                      1      2  \n",
       "\n",
       "[50000 rows x 12 columns]"
      ]
     },
     "execution_count": 11,
     "metadata": {},
     "output_type": "execute_result"
    }
   ],
   "source": [
    "df = pd.read_csv(DATA_PATH+'prep_data.csv')\n",
    "df"
   ]
  },
  {
   "cell_type": "markdown",
   "metadata": {},
   "source": [
    "# Usefull functions"
   ]
  },
  {
   "cell_type": "code",
   "execution_count": 12,
   "metadata": {
    "ExecuteTime": {
     "end_time": "2021-08-04T08:58:06.726261Z",
     "start_time": "2021-08-04T08:58:06.713261Z"
    }
   },
   "outputs": [],
   "source": [
    "def rating(prediction):\n",
    "    \n",
    "    \"\"\" Округляет рейтинг \"\"\"\n",
    "    \n",
    "    if prediction < 0.25:\n",
    "        return 0\n",
    "    elif 0.25 < prediction <= 0.75:\n",
    "        return 0.5\n",
    "    elif 0.75 < prediction <= 1.25:\n",
    "        return 1\n",
    "    elif 1.25 <prediction <= 1.75:\n",
    "        return 1.5\n",
    "    elif 1.75 < prediction <= 2.25:\n",
    "        return 2\n",
    "    elif 2.25 < prediction <= 2.75:\n",
    "        return 2.5\n",
    "    elif 2.75 < prediction <= 3.25:\n",
    "        return 3\n",
    "    elif 3.25 < prediction <= 3.75:\n",
    "        return 3.5\n",
    "    elif 3.75 < prediction <= 4.25:\n",
    "        return 4\n",
    "    elif 4.25 < prediction <= 4.75:\n",
    "        return 4.5\n",
    "    else:\n",
    "        return 5"
   ]
  },
  {
   "cell_type": "code",
   "execution_count": 13,
   "metadata": {
    "ExecuteTime": {
     "end_time": "2021-08-04T08:58:07.333261Z",
     "start_time": "2021-08-04T08:58:07.324261Z"
    }
   },
   "outputs": [],
   "source": [
    "def eval_metrics(actual, prediction):\n",
    "    \n",
    "    \"\"\" Метрики \"\"\"\n",
    "    \n",
    "    rmse = np.sqrt(mean_squared_error(actual, prediction))\n",
    "    mae = mean_absolute_error(actual, prediction)\n",
    "    r2 = r2_score(actual, prediction)\n",
    "#     mape = mean_absolute_percentage_error(actual, prediction)\n",
    "    \n",
    "    return rmse, mae, r2"
   ]
  },
  {
   "cell_type": "markdown",
   "metadata": {},
   "source": [
    "# Optuna hyperparams search"
   ]
  },
  {
   "cell_type": "code",
   "execution_count": 42,
   "metadata": {
    "ExecuteTime": {
     "end_time": "2021-08-03T12:47:45.857278Z",
     "start_time": "2021-08-03T12:47:45.843275Z"
    },
    "scrolled": false
   },
   "outputs": [],
   "source": [
    "# Optuna\n",
    "def objective(trial):\n",
    "    # Define\n",
    "    RANDOM_SEED = 42\n",
    "    \n",
    "    # Data\n",
    "    X = df[df['sample'] == 1].drop(['Rating'], axis=1)\n",
    "    X.drop(['sample'], axis=1, inplace=True)\n",
    "    y = df['Rating'][df['sample'] == 1]\n",
    "    \n",
    "    # Split\n",
    "    X_train, X_test, y_train, y_test = train_test_split(X, y, test_size=0.25, shuffle=True, random_state=RANDOM_SEED)\n",
    "    \n",
    "    # Params for search\n",
    "    n_estimators = trial.suggest_int('n_estimators', 10, 200, 10)\n",
    "    \n",
    "    # Model\n",
    "    RFR = RandomForestRegressor(n_estimators = n_estimators, n_jobs=-1, random_state=RANDOM_SEED)\n",
    "    RFR.fit(X_train, y_train)\n",
    "    y_pred = RFR.predict(X_test)\n",
    "    \n",
    "    for i in range(y_pred.size):\n",
    "        y_pred[i]=rating(y_pred[i])\n",
    "        \n",
    "    (rmse, mae, r2) = eval_metrics(y_test, y_pred)\n",
    "    \n",
    "    trial.set_user_attr('RANDOM_SEED', RANDOM_SEED)\n",
    "    trial.set_user_attr('rmse', rmse)\n",
    "    trial.set_user_attr('r2', r2)\n",
    "\n",
    "    return mae\n",
    "\n",
    "def callback(study, trial):\n",
    "    study.set_user_attr(key=\"RANDOM_SEED\", value=trial.user_attrs[\"RANDOM_SEED\"])\n",
    "    study.set_user_attr(key=\"rmse\", value=trial.user_attrs[\"rmse\"])\n",
    "    study.set_user_attr(key=\"r2\", value=trial.user_attrs[\"r2\"])"
   ]
  },
  {
   "cell_type": "code",
   "execution_count": 44,
   "metadata": {
    "ExecuteTime": {
     "end_time": "2021-08-03T12:50:43.006701Z",
     "start_time": "2021-08-03T12:48:20.686242Z"
    }
   },
   "outputs": [
    {
     "name": "stdout",
     "output_type": "stream",
     "text": [
      "https://app.neptune.ai/alxkzncoff/rest-rating/e/RES-12\n",
      "Remember to stop your run once you’ve finished logging your metadata (https://docs.neptune.ai/api-reference/run#stop). It will be stopped automatically only when the notebook kernel/interactive console is terminated.\n"
     ]
    },
    {
     "name": "stderr",
     "output_type": "stream",
     "text": [
      "\u001b[32m[I 2021-08-03 15:48:23,276]\u001b[0m A new study created in memory with name: no-name-e4855b0d-06a8-489e-a6ba-475f8c913093\u001b[0m\n",
      "\u001b[32m[I 2021-08-03 15:48:25,206]\u001b[0m Trial 0 finished with value: 0.1822 and parameters: {'n_estimators': 80}. Best is trial 0 with value: 0.1822.\u001b[0m\n",
      "\u001b[32m[I 2021-08-03 15:48:29,291]\u001b[0m Trial 1 finished with value: 0.18215 and parameters: {'n_estimators': 170}. Best is trial 1 with value: 0.18215.\u001b[0m\n"
     ]
    },
    {
     "name": "stdout",
     "output_type": "stream",
     "text": [
      "Shutting down background jobs, please wait a moment...\n",
      "Done!\n"
     ]
    },
    {
     "name": "stderr",
     "output_type": "stream",
     "text": [
      "Waiting for the remaining 80 operations to synchronize with Neptune. Do not kill this process.\n",
      "Still waiting for the remaining 80 operations (0.00% done). Please wait.\n",
      "Still waiting for the remaining 80 operations (0.00% done). Please wait.\n",
      "Still waiting for the remaining 31 operations (61.25% done). Please wait.\n",
      "Still waiting for the remaining 31 operations (61.25% done). Please wait.\n"
     ]
    },
    {
     "name": "stdout",
     "output_type": "stream",
     "text": [
      "All 80 operations synced, thanks for waiting!\r\n"
     ]
    }
   ],
   "source": [
    "# Start optuna search with neptune logging\n",
    "run = neptune.init(project='alxkzncoff/rest-rating',\n",
    "                       tags=['random_forest', 'optuna'],\n",
    "                       api_token='eyJhcGlfYWRkcmVzcyI6Imh0dHBzOi8vYXBwLm5lcHR1bmUuYWkiLCJhcGlfdXJsIjoiaHR0cHM6Ly9hcHAubmVwdHVuZS5haSIsImFwaV9rZXkiOiI5ZmI4NDE1Ny03YzcyLTQwOTQtOTUwMi1kODlkYWMwY2YwOGQifQ==',\n",
    "                       name = 'random_forest')\n",
    "    \n",
    "neptune_callback = optuna_utils.NeptuneCallback(run)\n",
    "    \n",
    "study = optuna.create_study(direction=\"minimize\")\n",
    "study.optimize(objective, n_trials=2, callbacks=[neptune_callback, callback])\n",
    "\n",
    "run.stop()"
   ]
  },
  {
   "cell_type": "markdown",
   "metadata": {},
   "source": [
    "# Optuna logging all trails"
   ]
  },
  {
   "cell_type": "code",
   "execution_count": 6,
   "metadata": {
    "ExecuteTime": {
     "end_time": "2021-08-03T14:04:13.056534Z",
     "start_time": "2021-08-03T14:04:13.050533Z"
    }
   },
   "outputs": [
    {
     "name": "stdout",
     "output_type": "stream",
     "text": [
      "sweep-id:  ae717ec0-f463-11eb-9b22-b42e99be5b3e\n"
     ]
    }
   ],
   "source": [
    "sweep_id = uuid.uuid1()\n",
    "print(\"sweep-id: \", sweep_id)"
   ]
  },
  {
   "cell_type": "code",
   "execution_count": 7,
   "metadata": {
    "ExecuteTime": {
     "end_time": "2021-08-03T14:04:17.070337Z",
     "start_time": "2021-08-03T14:04:14.667857Z"
    }
   },
   "outputs": [
    {
     "name": "stderr",
     "output_type": "stream",
     "text": [
      "Info (NVML): Not Supported. GPU usage metrics may not be reported. For more information, see https://docs-legacy.neptune.ai/logging-and-managing-experiment-results/logging-experiment-data.html#hardware-consumption \n"
     ]
    },
    {
     "name": "stdout",
     "output_type": "stream",
     "text": [
      "https://app.neptune.ai/alxkzncoff/rest-rating/e/RES-35\n",
      "Remember to stop your run once you’ve finished logging your metadata (https://docs.neptune.ai/api-reference/run#stop). It will be stopped automatically only when the notebook kernel/interactive console is terminated.\n"
     ]
    }
   ],
   "source": [
    "run_study_level = neptune.init(project='alxkzncoff/rest-rating',\n",
    "                        tags=['random_forest', 'optuna'],\n",
    "                        api_token='eyJhcGlfYWRkcmVzcyI6Imh0dHBzOi8vYXBwLm5lcHR1bmUuYWkiLCJhcGlfdXJsIjoiaHR0cHM6Ly9hcHAubmVwdHVuZS5haSIsImFwaV9rZXkiOiI5ZmI4NDE1Ny03YzcyLTQwOTQtOTUwMi1kODlkYWMwY2YwOGQifQ==',\n",
    "                        name = 'random_forest')\n",
    "\n",
    "run_study_level[\"sys/tags\"].add(\"study-level\")\n",
    "run_study_level[\"sweep-id\"] = sweep_id"
   ]
  },
  {
   "cell_type": "code",
   "execution_count": 10,
   "metadata": {
    "ExecuteTime": {
     "end_time": "2021-08-03T14:04:56.780277Z",
     "start_time": "2021-08-03T14:04:56.758273Z"
    }
   },
   "outputs": [],
   "source": [
    "def objective_with_logging(trial):\n",
    "    \n",
    "    # Define\n",
    "    RANDOM_SEED = 42\n",
    "    \n",
    "    X = df[df['sample'] == 1].drop(['Rating'], axis=1)\n",
    "    X.drop(['sample'], axis=1, inplace=True)\n",
    "    y = df['Rating'][df['sample'] == 1]\n",
    "\n",
    "    X_train, X_test, y_train, y_test = train_test_split(X, y, test_size=0.25, shuffle=True, random_state=RANDOM_SEED)\n",
    "    \n",
    "    n_estimators = trial.suggest_int('n_estimators', 10, 200, 10)\n",
    "\n",
    "    run_trial_level = neptune.init(project='alxkzncoff/rest-rating',\n",
    "                                   tags=['random_forest', 'optuna'],\n",
    "                                   api_token='eyJhcGlfYWRkcmVzcyI6Imh0dHBzOi8vYXBwLm5lcHR1bmUuYWkiLCJhcGlfdXJsIjoiaHR0cHM6Ly9hcHAubmVwdHVuZS5haSIsImFwaV9rZXkiOiI5ZmI4NDE1Ny03YzcyLTQwOTQtOTUwMi1kODlkYWMwY2YwOGQifQ==')\n",
    "\n",
    "\n",
    "    # log parameters of a trial-level Run\n",
    "    run_trial_level['n_estimators'] = n_estimators\n",
    "\n",
    "    # run model training\n",
    "    RFR = RandomForestRegressor(n_estimators = n_estimators, n_jobs=-1, random_state=RANDOM_SEED)\n",
    "    RFR.fit(X_train, y_train)\n",
    "    y_pred = RFR.predict(X_test)\n",
    "    \n",
    "    for i in range(y_pred.size):\n",
    "        y_pred[i]=rating(y_pred[i])\n",
    "        \n",
    "    (rmse, mae, r2) = eval_metrics(y_test, y_pred)\n",
    "\n",
    "    # log score of a trial-level Run\n",
    "    run_trial_level[\"mae\"] = mae\n",
    "    run_trial_level[\"rmse\"] = rmse\n",
    "    run_trial_level[\"r2\"] = r2\n",
    "    \n",
    "    # Plots\n",
    "    # Feature Importance\n",
    "    features = X.columns\n",
    "    importances = RFR.feature_importances_\n",
    "    indices = np.argsort(importances)\n",
    "    \n",
    "    fig = plt.figure(figsize=(10, 8))\n",
    "\n",
    "    plt.title('Feature Importances')\n",
    "    plt.barh(range(len(indices)), importances[indices], color='b', align='center')\n",
    "    plt.yticks(range(len(indices)), [features[i] for i in indices])\n",
    "    plt.xlabel('Relative Importance')\n",
    "    plt.close(fig)\n",
    "\n",
    "    run_trial_level['matplotlib-fig'].upload(fig)\n",
    "    \n",
    "\n",
    "    # stop trial-level Run\n",
    "    run_trial_level.stop()\n",
    "\n",
    "    return mae"
   ]
  },
  {
   "cell_type": "code",
   "execution_count": 11,
   "metadata": {
    "ExecuteTime": {
     "end_time": "2021-08-03T14:08:25.375988Z",
     "start_time": "2021-08-03T14:04:57.446411Z"
    },
    "scrolled": true
   },
   "outputs": [
    {
     "name": "stderr",
     "output_type": "stream",
     "text": [
      "\u001b[32m[I 2021-08-03 17:04:57,453]\u001b[0m A new study created in memory with name: no-name-a50a4f87-6923-4ac3-996f-25da51c55880\u001b[0m\n"
     ]
    },
    {
     "name": "stdout",
     "output_type": "stream",
     "text": [
      "https://app.neptune.ai/alxkzncoff/rest-rating/e/RES-37\n",
      "Remember to stop your run once you’ve finished logging your metadata (https://docs.neptune.ai/api-reference/run#stop). It will be stopped automatically only when the notebook kernel/interactive console is terminated.\n",
      "Shutting down background jobs, please wait a moment...\n",
      "Done!\n"
     ]
    },
    {
     "name": "stderr",
     "output_type": "stream",
     "text": [
      "Waiting for the remaining 20 operations to synchronize with Neptune. Do not kill this process.\n"
     ]
    },
    {
     "name": "stdout",
     "output_type": "stream",
     "text": [
      "All 20 operations synced, thanks for waiting!\r\n"
     ]
    },
    {
     "name": "stderr",
     "output_type": "stream",
     "text": [
      "\u001b[32m[I 2021-08-03 17:05:02,142]\u001b[0m Trial 0 finished with value: 0.18445 and parameters: {'n_estimators': 40}. Best is trial 0 with value: 0.18445.\u001b[0m\n"
     ]
    },
    {
     "name": "stdout",
     "output_type": "stream",
     "text": [
      "https://app.neptune.ai/alxkzncoff/rest-rating/e/RES-38\n",
      "Remember to stop your run once you’ve finished logging your metadata (https://docs.neptune.ai/api-reference/run#stop). It will be stopped automatically only when the notebook kernel/interactive console is terminated.\n",
      "Shutting down background jobs, please wait a moment...\n",
      "Done!\n"
     ]
    },
    {
     "name": "stderr",
     "output_type": "stream",
     "text": [
      "Waiting for the remaining 20 operations to synchronize with Neptune. Do not kill this process.\n"
     ]
    },
    {
     "name": "stdout",
     "output_type": "stream",
     "text": [
      "All 20 operations synced, thanks for waiting!\r\n"
     ]
    },
    {
     "name": "stderr",
     "output_type": "stream",
     "text": [
      "\u001b[32m[I 2021-08-03 17:05:09,475]\u001b[0m Trial 1 finished with value: 0.18215 and parameters: {'n_estimators': 170}. Best is trial 1 with value: 0.18215.\u001b[0m\n"
     ]
    },
    {
     "name": "stdout",
     "output_type": "stream",
     "text": [
      "https://app.neptune.ai/alxkzncoff/rest-rating/e/RES-39\n",
      "Remember to stop your run once you’ve finished logging your metadata (https://docs.neptune.ai/api-reference/run#stop). It will be stopped automatically only when the notebook kernel/interactive console is terminated.\n",
      "Shutting down background jobs, please wait a moment...\n",
      "Done!\n"
     ]
    },
    {
     "name": "stderr",
     "output_type": "stream",
     "text": [
      "Waiting for the remaining 20 operations to synchronize with Neptune. Do not kill this process.\n"
     ]
    },
    {
     "name": "stdout",
     "output_type": "stream",
     "text": [
      "All 20 operations synced, thanks for waiting!\r\n"
     ]
    },
    {
     "name": "stderr",
     "output_type": "stream",
     "text": [
      "\u001b[32m[I 2021-08-03 17:05:16,758]\u001b[0m Trial 2 finished with value: 0.18285 and parameters: {'n_estimators': 150}. Best is trial 1 with value: 0.18215.\u001b[0m\n"
     ]
    },
    {
     "name": "stdout",
     "output_type": "stream",
     "text": [
      "https://app.neptune.ai/alxkzncoff/rest-rating/e/RES-40\n",
      "Remember to stop your run once you’ve finished logging your metadata (https://docs.neptune.ai/api-reference/run#stop). It will be stopped automatically only when the notebook kernel/interactive console is terminated.\n",
      "Shutting down background jobs, please wait a moment...\n",
      "Done!\n"
     ]
    },
    {
     "name": "stderr",
     "output_type": "stream",
     "text": [
      "Waiting for the remaining 20 operations to synchronize with Neptune. Do not kill this process.\n"
     ]
    },
    {
     "name": "stdout",
     "output_type": "stream",
     "text": [
      "All 20 operations synced, thanks for waiting!\r\n"
     ]
    },
    {
     "name": "stderr",
     "output_type": "stream",
     "text": [
      "\u001b[32m[I 2021-08-03 17:05:24,617]\u001b[0m Trial 3 finished with value: 0.1824 and parameters: {'n_estimators': 190}. Best is trial 1 with value: 0.18215.\u001b[0m\n"
     ]
    },
    {
     "name": "stdout",
     "output_type": "stream",
     "text": [
      "https://app.neptune.ai/alxkzncoff/rest-rating/e/RES-41\n",
      "Remember to stop your run once you’ve finished logging your metadata (https://docs.neptune.ai/api-reference/run#stop). It will be stopped automatically only when the notebook kernel/interactive console is terminated.\n",
      "Shutting down background jobs, please wait a moment...\n",
      "Done!\n"
     ]
    },
    {
     "name": "stderr",
     "output_type": "stream",
     "text": [
      "Waiting for the remaining 20 operations to synchronize with Neptune. Do not kill this process.\n"
     ]
    },
    {
     "name": "stdout",
     "output_type": "stream",
     "text": [
      "All 20 operations synced, thanks for waiting!\r\n"
     ]
    },
    {
     "name": "stderr",
     "output_type": "stream",
     "text": [
      "\u001b[32m[I 2021-08-03 17:05:29,509]\u001b[0m Trial 4 finished with value: 0.1845 and parameters: {'n_estimators': 30}. Best is trial 1 with value: 0.18215.\u001b[0m\n"
     ]
    },
    {
     "name": "stdout",
     "output_type": "stream",
     "text": [
      "https://app.neptune.ai/alxkzncoff/rest-rating/e/RES-42\n",
      "Remember to stop your run once you’ve finished logging your metadata (https://docs.neptune.ai/api-reference/run#stop). It will be stopped automatically only when the notebook kernel/interactive console is terminated.\n",
      "Shutting down background jobs, please wait a moment...\n",
      "Done!\n"
     ]
    },
    {
     "name": "stderr",
     "output_type": "stream",
     "text": [
      "Waiting for the remaining 20 operations to synchronize with Neptune. Do not kill this process.\n"
     ]
    },
    {
     "name": "stdout",
     "output_type": "stream",
     "text": [
      "All 20 operations synced, thanks for waiting!\r\n"
     ]
    },
    {
     "name": "stderr",
     "output_type": "stream",
     "text": [
      "\u001b[32m[I 2021-08-03 17:05:35,366]\u001b[0m Trial 5 finished with value: 0.18325 and parameters: {'n_estimators': 120}. Best is trial 1 with value: 0.18215.\u001b[0m\n"
     ]
    },
    {
     "name": "stdout",
     "output_type": "stream",
     "text": [
      "https://app.neptune.ai/alxkzncoff/rest-rating/e/RES-43\n",
      "Remember to stop your run once you’ve finished logging your metadata (https://docs.neptune.ai/api-reference/run#stop). It will be stopped automatically only when the notebook kernel/interactive console is terminated.\n",
      "Shutting down background jobs, please wait a moment...\n",
      "Done!\n"
     ]
    },
    {
     "name": "stderr",
     "output_type": "stream",
     "text": [
      "Waiting for the remaining 20 operations to synchronize with Neptune. Do not kill this process.\n"
     ]
    },
    {
     "name": "stdout",
     "output_type": "stream",
     "text": [
      "All 20 operations synced, thanks for waiting!\r\n"
     ]
    },
    {
     "name": "stderr",
     "output_type": "stream",
     "text": [
      "\u001b[32m[I 2021-08-03 17:05:40,887]\u001b[0m Trial 6 finished with value: 0.1822 and parameters: {'n_estimators': 80}. Best is trial 1 with value: 0.18215.\u001b[0m\n"
     ]
    },
    {
     "name": "stdout",
     "output_type": "stream",
     "text": [
      "https://app.neptune.ai/alxkzncoff/rest-rating/e/RES-44\n",
      "Remember to stop your run once you’ve finished logging your metadata (https://docs.neptune.ai/api-reference/run#stop). It will be stopped automatically only when the notebook kernel/interactive console is terminated.\n",
      "Shutting down background jobs, please wait a moment...\n",
      "Done!\n"
     ]
    },
    {
     "name": "stderr",
     "output_type": "stream",
     "text": [
      "Waiting for the remaining 20 operations to synchronize with Neptune. Do not kill this process.\n"
     ]
    },
    {
     "name": "stdout",
     "output_type": "stream",
     "text": [
      "All 20 operations synced, thanks for waiting!\r\n"
     ]
    },
    {
     "name": "stderr",
     "output_type": "stream",
     "text": [
      "\u001b[32m[I 2021-08-03 17:05:47,674]\u001b[0m Trial 7 finished with value: 0.18285 and parameters: {'n_estimators': 150}. Best is trial 1 with value: 0.18215.\u001b[0m\n"
     ]
    },
    {
     "name": "stdout",
     "output_type": "stream",
     "text": [
      "https://app.neptune.ai/alxkzncoff/rest-rating/e/RES-45\n",
      "Remember to stop your run once you’ve finished logging your metadata (https://docs.neptune.ai/api-reference/run#stop). It will be stopped automatically only when the notebook kernel/interactive console is terminated.\n",
      "Shutting down background jobs, please wait a moment...\n",
      "Done!\n"
     ]
    },
    {
     "name": "stderr",
     "output_type": "stream",
     "text": [
      "Waiting for the remaining 20 operations to synchronize with Neptune. Do not kill this process.\n"
     ]
    },
    {
     "name": "stdout",
     "output_type": "stream",
     "text": [
      "All 20 operations synced, thanks for waiting!\r\n"
     ]
    },
    {
     "name": "stderr",
     "output_type": "stream",
     "text": [
      "\u001b[32m[I 2021-08-03 17:05:52,351]\u001b[0m Trial 8 finished with value: 0.18465 and parameters: {'n_estimators': 50}. Best is trial 1 with value: 0.18215.\u001b[0m\n"
     ]
    },
    {
     "name": "stdout",
     "output_type": "stream",
     "text": [
      "https://app.neptune.ai/alxkzncoff/rest-rating/e/RES-46\n",
      "Remember to stop your run once you’ve finished logging your metadata (https://docs.neptune.ai/api-reference/run#stop). It will be stopped automatically only when the notebook kernel/interactive console is terminated.\n",
      "Shutting down background jobs, please wait a moment...\n",
      "Done!\n"
     ]
    },
    {
     "name": "stderr",
     "output_type": "stream",
     "text": [
      "Waiting for the remaining 20 operations to synchronize with Neptune. Do not kill this process.\n"
     ]
    },
    {
     "name": "stdout",
     "output_type": "stream",
     "text": [
      "All 20 operations synced, thanks for waiting!\r\n"
     ]
    },
    {
     "name": "stderr",
     "output_type": "stream",
     "text": [
      "\u001b[32m[I 2021-08-03 17:05:56,818]\u001b[0m Trial 9 finished with value: 0.18445 and parameters: {'n_estimators': 40}. Best is trial 1 with value: 0.18215.\u001b[0m\n"
     ]
    },
    {
     "name": "stdout",
     "output_type": "stream",
     "text": [
      "https://app.neptune.ai/alxkzncoff/rest-rating/e/RES-47\n",
      "Remember to stop your run once you’ve finished logging your metadata (https://docs.neptune.ai/api-reference/run#stop). It will be stopped automatically only when the notebook kernel/interactive console is terminated.\n",
      "Shutting down background jobs, please wait a moment...\n",
      "Done!\n"
     ]
    },
    {
     "name": "stderr",
     "output_type": "stream",
     "text": [
      "Waiting for the remaining 5 operations to synchronize with Neptune. Do not kill this process.\n"
     ]
    },
    {
     "name": "stdout",
     "output_type": "stream",
     "text": [
      "All 5 operations synced, thanks for waiting!\r\n"
     ]
    },
    {
     "name": "stderr",
     "output_type": "stream",
     "text": [
      "\u001b[32m[I 2021-08-03 17:06:05,406]\u001b[0m Trial 10 finished with value: 0.1821 and parameters: {'n_estimators': 200}. Best is trial 10 with value: 0.1821.\u001b[0m\n"
     ]
    },
    {
     "name": "stdout",
     "output_type": "stream",
     "text": [
      "https://app.neptune.ai/alxkzncoff/rest-rating/e/RES-48\n",
      "Remember to stop your run once you’ve finished logging your metadata (https://docs.neptune.ai/api-reference/run#stop). It will be stopped automatically only when the notebook kernel/interactive console is terminated.\n",
      "Shutting down background jobs, please wait a moment...\n",
      "Done!\n"
     ]
    },
    {
     "name": "stderr",
     "output_type": "stream",
     "text": [
      "Waiting for the remaining 20 operations to synchronize with Neptune. Do not kill this process.\n"
     ]
    },
    {
     "name": "stdout",
     "output_type": "stream",
     "text": [
      "All 20 operations synced, thanks for waiting!\r\n"
     ]
    },
    {
     "name": "stderr",
     "output_type": "stream",
     "text": [
      "\u001b[32m[I 2021-08-03 17:06:13,532]\u001b[0m Trial 11 finished with value: 0.1824 and parameters: {'n_estimators': 190}. Best is trial 10 with value: 0.1821.\u001b[0m\n"
     ]
    },
    {
     "name": "stdout",
     "output_type": "stream",
     "text": [
      "https://app.neptune.ai/alxkzncoff/rest-rating/e/RES-49\n",
      "Remember to stop your run once you’ve finished logging your metadata (https://docs.neptune.ai/api-reference/run#stop). It will be stopped automatically only when the notebook kernel/interactive console is terminated.\n",
      "Shutting down background jobs, please wait a moment...\n",
      "Done!\n"
     ]
    },
    {
     "name": "stderr",
     "output_type": "stream",
     "text": [
      "Waiting for the remaining 20 operations to synchronize with Neptune. Do not kill this process.\n"
     ]
    },
    {
     "name": "stdout",
     "output_type": "stream",
     "text": [
      "All 20 operations synced, thanks for waiting!\r\n"
     ]
    },
    {
     "name": "stderr",
     "output_type": "stream",
     "text": [
      "\u001b[32m[I 2021-08-03 17:06:20,985]\u001b[0m Trial 12 finished with value: 0.1821 and parameters: {'n_estimators': 200}. Best is trial 10 with value: 0.1821.\u001b[0m\n"
     ]
    },
    {
     "name": "stdout",
     "output_type": "stream",
     "text": [
      "https://app.neptune.ai/alxkzncoff/rest-rating/e/RES-50\n",
      "Remember to stop your run once you’ve finished logging your metadata (https://docs.neptune.ai/api-reference/run#stop). It will be stopped automatically only when the notebook kernel/interactive console is terminated.\n",
      "Shutting down background jobs, please wait a moment...\n",
      "Done!\n"
     ]
    },
    {
     "name": "stderr",
     "output_type": "stream",
     "text": [
      "Waiting for the remaining 20 operations to synchronize with Neptune. Do not kill this process.\n"
     ]
    },
    {
     "name": "stdout",
     "output_type": "stream",
     "text": [
      "All 20 operations synced, thanks for waiting!\r\n"
     ]
    },
    {
     "name": "stderr",
     "output_type": "stream",
     "text": [
      "\u001b[32m[I 2021-08-03 17:06:29,316]\u001b[0m Trial 13 finished with value: 0.1821 and parameters: {'n_estimators': 200}. Best is trial 10 with value: 0.1821.\u001b[0m\n"
     ]
    },
    {
     "name": "stdout",
     "output_type": "stream",
     "text": [
      "https://app.neptune.ai/alxkzncoff/rest-rating/e/RES-51\n",
      "Remember to stop your run once you’ve finished logging your metadata (https://docs.neptune.ai/api-reference/run#stop). It will be stopped automatically only when the notebook kernel/interactive console is terminated.\n",
      "Shutting down background jobs, please wait a moment...\n",
      "Done!\n"
     ]
    },
    {
     "name": "stderr",
     "output_type": "stream",
     "text": [
      "Waiting for the remaining 20 operations to synchronize with Neptune. Do not kill this process.\n"
     ]
    },
    {
     "name": "stdout",
     "output_type": "stream",
     "text": [
      "All 20 operations synced, thanks for waiting!\r\n"
     ]
    },
    {
     "name": "stderr",
     "output_type": "stream",
     "text": [
      "\u001b[32m[I 2021-08-03 17:06:35,758]\u001b[0m Trial 14 finished with value: 0.18325 and parameters: {'n_estimators': 120}. Best is trial 10 with value: 0.1821.\u001b[0m\n"
     ]
    },
    {
     "name": "stdout",
     "output_type": "stream",
     "text": [
      "https://app.neptune.ai/alxkzncoff/rest-rating/e/RES-52\n",
      "Remember to stop your run once you’ve finished logging your metadata (https://docs.neptune.ai/api-reference/run#stop). It will be stopped automatically only when the notebook kernel/interactive console is terminated.\n",
      "Shutting down background jobs, please wait a moment...\n",
      "Done!\n"
     ]
    },
    {
     "name": "stderr",
     "output_type": "stream",
     "text": [
      "Waiting for the remaining 20 operations to synchronize with Neptune. Do not kill this process.\n"
     ]
    },
    {
     "name": "stdout",
     "output_type": "stream",
     "text": [
      "All 20 operations synced, thanks for waiting!\r\n"
     ]
    },
    {
     "name": "stderr",
     "output_type": "stream",
     "text": [
      "\u001b[32m[I 2021-08-03 17:06:43,854]\u001b[0m Trial 15 finished with value: 0.1822 and parameters: {'n_estimators': 160}. Best is trial 10 with value: 0.1821.\u001b[0m\n"
     ]
    },
    {
     "name": "stdout",
     "output_type": "stream",
     "text": [
      "https://app.neptune.ai/alxkzncoff/rest-rating/e/RES-53\n",
      "Remember to stop your run once you’ve finished logging your metadata (https://docs.neptune.ai/api-reference/run#stop). It will be stopped automatically only when the notebook kernel/interactive console is terminated.\n",
      "Shutting down background jobs, please wait a moment...\n",
      "Done!\n"
     ]
    },
    {
     "name": "stderr",
     "output_type": "stream",
     "text": [
      "Waiting for the remaining 20 operations to synchronize with Neptune. Do not kill this process.\n"
     ]
    },
    {
     "name": "stdout",
     "output_type": "stream",
     "text": [
      "All 20 operations synced, thanks for waiting!\r\n"
     ]
    },
    {
     "name": "stderr",
     "output_type": "stream",
     "text": [
      "\u001b[32m[I 2021-08-03 17:06:52,624]\u001b[0m Trial 16 finished with value: 0.1821 and parameters: {'n_estimators': 200}. Best is trial 10 with value: 0.1821.\u001b[0m\n"
     ]
    },
    {
     "name": "stdout",
     "output_type": "stream",
     "text": [
      "https://app.neptune.ai/alxkzncoff/rest-rating/e/RES-54\n",
      "Remember to stop your run once you’ve finished logging your metadata (https://docs.neptune.ai/api-reference/run#stop). It will be stopped automatically only when the notebook kernel/interactive console is terminated.\n",
      "Shutting down background jobs, please wait a moment...\n",
      "Done!\n"
     ]
    },
    {
     "name": "stderr",
     "output_type": "stream",
     "text": [
      "Waiting for the remaining 20 operations to synchronize with Neptune. Do not kill this process.\n"
     ]
    },
    {
     "name": "stdout",
     "output_type": "stream",
     "text": [
      "All 20 operations synced, thanks for waiting!\r\n"
     ]
    },
    {
     "name": "stderr",
     "output_type": "stream",
     "text": [
      "\u001b[32m[I 2021-08-03 17:06:58,283]\u001b[0m Trial 17 finished with value: 0.18205 and parameters: {'n_estimators': 90}. Best is trial 17 with value: 0.18205.\u001b[0m\n"
     ]
    },
    {
     "name": "stdout",
     "output_type": "stream",
     "text": [
      "https://app.neptune.ai/alxkzncoff/rest-rating/e/RES-55\n",
      "Remember to stop your run once you’ve finished logging your metadata (https://docs.neptune.ai/api-reference/run#stop). It will be stopped automatically only when the notebook kernel/interactive console is terminated.\n",
      "Shutting down background jobs, please wait a moment...\n",
      "Done!\n"
     ]
    },
    {
     "name": "stderr",
     "output_type": "stream",
     "text": [
      "Waiting for the remaining 20 operations to synchronize with Neptune. Do not kill this process.\n"
     ]
    },
    {
     "name": "stdout",
     "output_type": "stream",
     "text": [
      "All 20 operations synced, thanks for waiting!\r\n"
     ]
    },
    {
     "name": "stderr",
     "output_type": "stream",
     "text": [
      "\u001b[32m[I 2021-08-03 17:07:04,663]\u001b[0m Trial 18 finished with value: 0.18205 and parameters: {'n_estimators': 90}. Best is trial 17 with value: 0.18205.\u001b[0m\n"
     ]
    },
    {
     "name": "stdout",
     "output_type": "stream",
     "text": [
      "https://app.neptune.ai/alxkzncoff/rest-rating/e/RES-56\n",
      "Remember to stop your run once you’ve finished logging your metadata (https://docs.neptune.ai/api-reference/run#stop). It will be stopped automatically only when the notebook kernel/interactive console is terminated.\n",
      "Shutting down background jobs, please wait a moment...\n",
      "Done!\n"
     ]
    },
    {
     "name": "stderr",
     "output_type": "stream",
     "text": [
      "Waiting for the remaining 20 operations to synchronize with Neptune. Do not kill this process.\n"
     ]
    },
    {
     "name": "stdout",
     "output_type": "stream",
     "text": [
      "All 20 operations synced, thanks for waiting!\r\n"
     ]
    },
    {
     "name": "stderr",
     "output_type": "stream",
     "text": [
      "\u001b[32m[I 2021-08-03 17:07:10,515]\u001b[0m Trial 19 finished with value: 0.1822 and parameters: {'n_estimators': 80}. Best is trial 17 with value: 0.18205.\u001b[0m\n"
     ]
    },
    {
     "name": "stdout",
     "output_type": "stream",
     "text": [
      "Shutting down background jobs, please wait a moment...\n",
      "Done!\n"
     ]
    },
    {
     "name": "stderr",
     "output_type": "stream",
     "text": [
      "Waiting for the remaining 827 operations to synchronize with Neptune. Do not kill this process.\n",
      "Still waiting for the remaining 479 operations (42.08% done). Please wait.\n",
      "Still waiting for the remaining 479 operations (42.08% done). Please wait.\n"
     ]
    },
    {
     "name": "stdout",
     "output_type": "stream",
     "text": [
      "All 827 operations synced, thanks for waiting!\r\n"
     ]
    }
   ],
   "source": [
    "neptune_callback = optuna_utils.NeptuneCallback(run_study_level)\n",
    "\n",
    "study = optuna.create_study(direction=\"minimize\")\n",
    "study.optimize(objective_with_logging, n_trials=20, callbacks=[neptune_callback])\n",
    "\n",
    "run_study_level.stop()"
   ]
  },
  {
   "cell_type": "markdown",
   "metadata": {},
   "source": [
    "# Feature selection"
   ]
  },
  {
   "cell_type": "code",
   "execution_count": 14,
   "metadata": {
    "ExecuteTime": {
     "end_time": "2021-08-04T08:58:45.783261Z",
     "start_time": "2021-08-04T08:58:45.742261Z"
    }
   },
   "outputs": [],
   "source": [
    "X = df[df['sample'] == 1].drop(['Rating'], axis=1)\n",
    "X.drop(['sample'], axis=1, inplace=True)\n",
    "y = df['Rating'][df['sample'] == 1]\n",
    "\n",
    "X_train, X_test, y_train, y_test = train_test_split(X, y, test_size=0.25, shuffle=True, random_state=RANDOM_SEED)"
   ]
  },
  {
   "cell_type": "code",
   "execution_count": 28,
   "metadata": {
    "ExecuteTime": {
     "end_time": "2021-08-04T09:18:30.534261Z",
     "start_time": "2021-08-04T09:15:10.591261Z"
    }
   },
   "outputs": [
    {
     "name": "stderr",
     "output_type": "stream",
     "text": [
      "[Parallel(n_jobs=-1)]: Using backend LokyBackend with 4 concurrent workers.\n",
      "[Parallel(n_jobs=-1)]: Done  10 out of  10 | elapsed:   16.7s finished\n",
      "Features: 1/10[Parallel(n_jobs=-1)]: Using backend LokyBackend with 4 concurrent workers.\n",
      "[Parallel(n_jobs=-1)]: Done   9 out of   9 | elapsed:   15.4s finished\n",
      "Features: 2/10[Parallel(n_jobs=-1)]: Using backend LokyBackend with 4 concurrent workers.\n",
      "[Parallel(n_jobs=-1)]: Done   8 out of   8 | elapsed:   15.9s finished\n",
      "Features: 3/10[Parallel(n_jobs=-1)]: Using backend LokyBackend with 4 concurrent workers.\n",
      "[Parallel(n_jobs=-1)]: Done   7 out of   7 | elapsed:   18.0s finished\n",
      "Features: 4/10[Parallel(n_jobs=-1)]: Using backend LokyBackend with 4 concurrent workers.\n",
      "[Parallel(n_jobs=-1)]: Done   6 out of   6 | elapsed:   21.2s remaining:    0.0s\n",
      "[Parallel(n_jobs=-1)]: Done   6 out of   6 | elapsed:   21.2s finished\n",
      "Features: 5/10[Parallel(n_jobs=-1)]: Using backend LokyBackend with 4 concurrent workers.\n",
      "[Parallel(n_jobs=-1)]: Done   5 out of   5 | elapsed:   31.4s finished\n",
      "Features: 6/10[Parallel(n_jobs=-1)]: Using backend LokyBackend with 4 concurrent workers.\n",
      "[Parallel(n_jobs=-1)]: Done   2 out of   4 | elapsed:   26.6s remaining:   26.6s\n",
      "[Parallel(n_jobs=-1)]: Done   4 out of   4 | elapsed:   28.5s finished\n",
      "Features: 7/10[Parallel(n_jobs=-1)]: Using backend LokyBackend with 4 concurrent workers.\n",
      "[Parallel(n_jobs=-1)]: Done   3 out of   3 | elapsed:   23.3s finished\n",
      "Features: 8/10[Parallel(n_jobs=-1)]: Using backend LokyBackend with 4 concurrent workers.\n",
      "[Parallel(n_jobs=-1)]: Done   2 out of   2 | elapsed:   17.0s finished\n",
      "Features: 9/10[Parallel(n_jobs=-1)]: Using backend LokyBackend with 4 concurrent workers.\n",
      "[Parallel(n_jobs=-1)]: Done   1 out of   1 | elapsed:   10.6s finished\n",
      "Features: 10/10"
     ]
    },
    {
     "data": {
      "image/png": "[encoded data removed]",
      "text/plain": [
       "<Figure size 432x288 with 1 Axes>"
      ]
     },
     "metadata": {
      "needs_background": "light"
     },
     "output_type": "display_data"
    }
   ],
   "source": [
    "# Forward\n",
    "sfs = SFS(RandomForestRegressor(n_estimators = 90, n_jobs=-1, random_state=RANDOM_SEED), \n",
    "          k_features=10, \n",
    "          forward=True, \n",
    "          floating=False, \n",
    "          scoring='neg_mean_absolute_error',\n",
    "          cv=5,\n",
    "          verbose=1,\n",
    "          n_jobs=-1)\n",
    "\n",
    "sfs = sfs.fit(X, y)\n",
    "fig = plot_sfs(sfs.get_metric_dict(), kind='std_err')\n",
    "\n",
    "plt.title('Sequential Forward Selection (w. StdErr)')\n",
    "plt.grid()\n",
    "plt.show()"
   ]
  },
  {
   "cell_type": "code",
   "execution_count": 29,
   "metadata": {
    "ExecuteTime": {
     "end_time": "2021-08-04T09:18:30.604261Z",
     "start_time": "2021-08-04T09:18:30.590261Z"
    }
   },
   "outputs": [
    {
     "data": {
      "text/html": [
       "<div>\n",
       "<style scoped>\n",
       "    .dataframe tbody tr th:only-of-type {\n",
       "        vertical-align: middle;\n",
       "    }\n",
       "\n",
       "    .dataframe tbody tr th {\n",
       "        vertical-align: top;\n",
       "    }\n",
       "\n",
       "    .dataframe thead th {\n",
       "        text-align: right;\n",
       "    }\n",
       "</style>\n",
       "<table border=\"1\" class=\"dataframe\">\n",
       "  <thead>\n",
       "    <tr style=\"text-align: right;\">\n",
       "      <th></th>\n",
       "      <th>feature_idx</th>\n",
       "      <th>cv_scores</th>\n",
       "      <th>avg_score</th>\n",
       "      <th>feature_names</th>\n",
       "    </tr>\n",
       "  </thead>\n",
       "  <tbody>\n",
       "    <tr>\n",
       "      <th>1</th>\n",
       "      <td>(3,)</td>\n",
       "      <td>[-0.4657939530233878, -0.4684570667429708, -0....</td>\n",
       "      <td>-0.470998</td>\n",
       "      <td>(Restaurant_network,)</td>\n",
       "    </tr>\n",
       "    <tr>\n",
       "      <th>2</th>\n",
       "      <td>(3, 9)</td>\n",
       "      <td>[-0.46213195856339356, -0.4632381871389025, -0...</td>\n",
       "      <td>-0.465996</td>\n",
       "      <td>(Restaurant_network, Price)</td>\n",
       "    </tr>\n",
       "    <tr>\n",
       "      <th>3</th>\n",
       "      <td>(3, 8, 9)</td>\n",
       "      <td>[-0.46578042605111336, -0.46727964318938453, -...</td>\n",
       "      <td>-0.469249</td>\n",
       "      <td>(Restaurant_network, num_of_cuisine_styles, Pr...</td>\n",
       "    </tr>\n",
       "    <tr>\n",
       "      <th>4</th>\n",
       "      <td>(3, 6, 8, 9)</td>\n",
       "      <td>[-0.4716516550083351, -0.4707957132086407, -0....</td>\n",
       "      <td>-0.471733</td>\n",
       "      <td>(Restaurant_network, Population, num_of_cuisin...</td>\n",
       "    </tr>\n",
       "    <tr>\n",
       "      <th>5</th>\n",
       "      <td>(0, 3, 6, 8, 9)</td>\n",
       "      <td>[-0.3109868055555555, -0.3112055555555555, -0....</td>\n",
       "      <td>-0.309863</td>\n",
       "      <td>(Ranking, Restaurant_network, Population, num_...</td>\n",
       "    </tr>\n",
       "    <tr>\n",
       "      <th>6</th>\n",
       "      <td>(0, 1, 3, 6, 8, 9)</td>\n",
       "      <td>[-0.2136819444444444, -0.2151423611111111, -0....</td>\n",
       "      <td>-0.214857</td>\n",
       "      <td>(Ranking, Number_of_Reviews, Restaurant_networ...</td>\n",
       "    </tr>\n",
       "    <tr>\n",
       "      <th>7</th>\n",
       "      <td>(0, 1, 3, 5, 6, 8, 9)</td>\n",
       "      <td>[-0.21256875, -0.21207986111111107, -0.2169743...</td>\n",
       "      <td>-0.212941</td>\n",
       "      <td>(Ranking, Number_of_Reviews, Restaurant_networ...</td>\n",
       "    </tr>\n",
       "    <tr>\n",
       "      <th>8</th>\n",
       "      <td>(0, 1, 3, 4, 5, 6, 8, 9)</td>\n",
       "      <td>[-0.2115409722222222, -0.2111520833333333, -0....</td>\n",
       "      <td>-0.212091</td>\n",
       "      <td>(Ranking, Number_of_Reviews, Restaurant_networ...</td>\n",
       "    </tr>\n",
       "    <tr>\n",
       "      <th>9</th>\n",
       "      <td>(0, 1, 2, 3, 4, 5, 6, 8, 9)</td>\n",
       "      <td>[-0.21113819444444443, -0.21030416666666665, -...</td>\n",
       "      <td>-0.211291</td>\n",
       "      <td>(Ranking, Number_of_Reviews, ID_TA, Restaurant...</td>\n",
       "    </tr>\n",
       "    <tr>\n",
       "      <th>10</th>\n",
       "      <td>(0, 1, 2, 3, 4, 5, 6, 7, 8, 9)</td>\n",
       "      <td>[-0.21096874999999998, -0.21005069444444438, -...</td>\n",
       "      <td>-0.211087</td>\n",
       "      <td>(Ranking, Number_of_Reviews, ID_TA, Restaurant...</td>\n",
       "    </tr>\n",
       "  </tbody>\n",
       "</table>\n",
       "</div>"
      ],
      "text/plain": [
       "                       feature_idx  \\\n",
       "1                             (3,)   \n",
       "2                           (3, 9)   \n",
       "3                        (3, 8, 9)   \n",
       "4                     (3, 6, 8, 9)   \n",
       "5                  (0, 3, 6, 8, 9)   \n",
       "6               (0, 1, 3, 6, 8, 9)   \n",
       "7            (0, 1, 3, 5, 6, 8, 9)   \n",
       "8         (0, 1, 3, 4, 5, 6, 8, 9)   \n",
       "9      (0, 1, 2, 3, 4, 5, 6, 8, 9)   \n",
       "10  (0, 1, 2, 3, 4, 5, 6, 7, 8, 9)   \n",
       "\n",
       "                                            cv_scores avg_score  \\\n",
       "1   [-0.4657939530233878, -0.4684570667429708, -0.... -0.470998   \n",
       "2   [-0.46213195856339356, -0.4632381871389025, -0... -0.465996   \n",
       "3   [-0.46578042605111336, -0.46727964318938453, -... -0.469249   \n",
       "4   [-0.4716516550083351, -0.4707957132086407, -0.... -0.471733   \n",
       "5   [-0.3109868055555555, -0.3112055555555555, -0.... -0.309863   \n",
       "6   [-0.2136819444444444, -0.2151423611111111, -0.... -0.214857   \n",
       "7   [-0.21256875, -0.21207986111111107, -0.2169743... -0.212941   \n",
       "8   [-0.2115409722222222, -0.2111520833333333, -0.... -0.212091   \n",
       "9   [-0.21113819444444443, -0.21030416666666665, -... -0.211291   \n",
       "10  [-0.21096874999999998, -0.21005069444444438, -... -0.211087   \n",
       "\n",
       "                                        feature_names  \n",
       "1                               (Restaurant_network,)  \n",
       "2                         (Restaurant_network, Price)  \n",
       "3   (Restaurant_network, num_of_cuisine_styles, Pr...  \n",
       "4   (Restaurant_network, Population, num_of_cuisin...  \n",
       "5   (Ranking, Restaurant_network, Population, num_...  \n",
       "6   (Ranking, Number_of_Reviews, Restaurant_networ...  \n",
       "7   (Ranking, Number_of_Reviews, Restaurant_networ...  \n",
       "8   (Ranking, Number_of_Reviews, Restaurant_networ...  \n",
       "9   (Ranking, Number_of_Reviews, ID_TA, Restaurant...  \n",
       "10  (Ranking, Number_of_Reviews, ID_TA, Restaurant...  "
      ]
     },
     "execution_count": 29,
     "metadata": {},
     "output_type": "execute_result"
    }
   ],
   "source": [
    "df_SFS_results = pd.DataFrame(sfs.subsets_).transpose()\n",
    "df_SFS_results"
   ]
  },
  {
   "cell_type": "code",
   "execution_count": 34,
   "metadata": {
    "ExecuteTime": {
     "end_time": "2021-08-04T10:21:57.317261Z",
     "start_time": "2021-08-04T10:08:52.942261Z"
    }
   },
   "outputs": [
    {
     "name": "stderr",
     "output_type": "stream",
     "text": [
      "[Parallel(n_jobs=-1)]: Using backend LokyBackend with 4 concurrent workers.\n",
      "[Parallel(n_jobs=-1)]: Done  10 out of  10 | elapsed:   16.9s finished\n",
      "Features: 1/10[Parallel(n_jobs=-1)]: Using backend LokyBackend with 4 concurrent workers.\n",
      "[Parallel(n_jobs=-1)]: Done   9 out of   9 | elapsed:   15.5s finished\n",
      "[Parallel(n_jobs=-1)]: Using backend LokyBackend with 4 concurrent workers.\n",
      "[Parallel(n_jobs=-1)]: Done   1 out of   1 | elapsed:    0.5s finished\n",
      "Features: 2/10[Parallel(n_jobs=-1)]: Using backend LokyBackend with 4 concurrent workers.\n",
      "[Parallel(n_jobs=-1)]: Done   8 out of   8 | elapsed:   16.4s finished\n",
      "[Parallel(n_jobs=-1)]: Using backend LokyBackend with 4 concurrent workers.\n",
      "[Parallel(n_jobs=-1)]: Done   2 out of   2 | elapsed:    1.0s finished\n",
      "Features: 3/10[Parallel(n_jobs=-1)]: Using backend LokyBackend with 4 concurrent workers.\n",
      "[Parallel(n_jobs=-1)]: Done   7 out of   7 | elapsed:   18.5s finished\n",
      "[Parallel(n_jobs=-1)]: Using backend LokyBackend with 4 concurrent workers.\n",
      "[Parallel(n_jobs=-1)]: Done   3 out of   3 | elapsed:    3.0s finished\n",
      "Features: 4/10[Parallel(n_jobs=-1)]: Using backend LokyBackend with 4 concurrent workers.\n",
      "[Parallel(n_jobs=-1)]: Done   6 out of   6 | elapsed:   20.6s remaining:    0.0s\n",
      "[Parallel(n_jobs=-1)]: Done   6 out of   6 | elapsed:   20.6s finished\n",
      "[Parallel(n_jobs=-1)]: Using backend LokyBackend with 4 concurrent workers.\n",
      "[Parallel(n_jobs=-1)]: Done   2 out of   4 | elapsed:   19.4s remaining:   19.4s\n",
      "[Parallel(n_jobs=-1)]: Done   4 out of   4 | elapsed:   20.1s finished\n",
      "Features: 5/10[Parallel(n_jobs=-1)]: Using backend LokyBackend with 4 concurrent workers.\n",
      "[Parallel(n_jobs=-1)]: Done   5 out of   5 | elapsed:   31.3s finished\n",
      "[Parallel(n_jobs=-1)]: Using backend LokyBackend with 4 concurrent workers.\n",
      "[Parallel(n_jobs=-1)]: Done   5 out of   5 | elapsed:   28.3s finished\n",
      "Features: 6/10[Parallel(n_jobs=-1)]: Using backend LokyBackend with 4 concurrent workers.\n",
      "[Parallel(n_jobs=-1)]: Done   2 out of   4 | elapsed:   26.6s remaining:   26.6s\n",
      "[Parallel(n_jobs=-1)]: Done   4 out of   4 | elapsed:   28.5s finished\n",
      "[Parallel(n_jobs=-1)]: Using backend LokyBackend with 4 concurrent workers.\n",
      "[Parallel(n_jobs=-1)]: Done   6 out of   6 | elapsed:   35.7s remaining:    0.0s\n",
      "[Parallel(n_jobs=-1)]: Done   6 out of   6 | elapsed:   35.7s finished\n",
      "Features: 7/10[Parallel(n_jobs=-1)]: Using backend LokyBackend with 4 concurrent workers.\n",
      "[Parallel(n_jobs=-1)]: Done   3 out of   3 | elapsed:   23.2s finished\n",
      "[Parallel(n_jobs=-1)]: Using backend LokyBackend with 4 concurrent workers.\n",
      "[Parallel(n_jobs=-1)]: Done   7 out of   7 | elapsed:   44.5s finished\n",
      "Features: 8/10[Parallel(n_jobs=-1)]: Using backend LokyBackend with 4 concurrent workers.\n",
      "[Parallel(n_jobs=-1)]: Done   2 out of   2 | elapsed:   16.9s finished\n",
      "[Parallel(n_jobs=-1)]: Using backend LokyBackend with 4 concurrent workers.\n",
      "[Parallel(n_jobs=-1)]: Done   8 out of   8 | elapsed:  1.2min finished\n",
      "[Parallel(n_jobs=-1)]: Using backend LokyBackend with 4 concurrent workers.\n",
      "[Parallel(n_jobs=-1)]: Done   7 out of   7 | elapsed:  1.0min finished\n",
      "[Parallel(n_jobs=-1)]: Using backend LokyBackend with 4 concurrent workers.\n",
      "[Parallel(n_jobs=-1)]: Done   6 out of   6 | elapsed:   51.8s remaining:    0.0s\n",
      "[Parallel(n_jobs=-1)]: Done   6 out of   6 | elapsed:   51.8s finished\n",
      "Features: 7/10[Parallel(n_jobs=-1)]: Using backend LokyBackend with 4 concurrent workers.\n",
      "[Parallel(n_jobs=-1)]: Done   3 out of   3 | elapsed:   27.7s finished\n",
      "[Parallel(n_jobs=-1)]: Using backend LokyBackend with 4 concurrent workers.\n",
      "[Parallel(n_jobs=-1)]: Done   7 out of   7 | elapsed:  1.0min finished\n",
      "Features: 8/10[Parallel(n_jobs=-1)]: Using backend LokyBackend with 4 concurrent workers.\n",
      "[Parallel(n_jobs=-1)]: Done   2 out of   2 | elapsed:   18.8s finished\n",
      "[Parallel(n_jobs=-1)]: Using backend LokyBackend with 4 concurrent workers.\n",
      "[Parallel(n_jobs=-1)]: Done   8 out of   8 | elapsed:  1.2min finished\n",
      "Features: 9/10[Parallel(n_jobs=-1)]: Using backend LokyBackend with 4 concurrent workers.\n",
      "[Parallel(n_jobs=-1)]: Done   1 out of   1 | elapsed:   10.6s finished\n",
      "[Parallel(n_jobs=-1)]: Using backend LokyBackend with 4 concurrent workers.\n",
      "[Parallel(n_jobs=-1)]: Done   9 out of   9 | elapsed:  1.4min finished\n",
      "Features: 10/10"
     ]
    },
    {
     "data": {
      "image/png": "[encoded data removed]",
      "text/plain": [
       "<Figure size 432x288 with 1 Axes>"
      ]
     },
     "metadata": {
      "needs_background": "light"
     },
     "output_type": "display_data"
    },
    {
     "data": {
      "text/html": [
       "<div>\n",
       "<style scoped>\n",
       "    .dataframe tbody tr th:only-of-type {\n",
       "        vertical-align: middle;\n",
       "    }\n",
       "\n",
       "    .dataframe tbody tr th {\n",
       "        vertical-align: top;\n",
       "    }\n",
       "\n",
       "    .dataframe thead th {\n",
       "        text-align: right;\n",
       "    }\n",
       "</style>\n",
       "<table border=\"1\" class=\"dataframe\">\n",
       "  <thead>\n",
       "    <tr style=\"text-align: right;\">\n",
       "      <th></th>\n",
       "      <th>feature_idx</th>\n",
       "      <th>cv_scores</th>\n",
       "      <th>avg_score</th>\n",
       "      <th>feature_names</th>\n",
       "    </tr>\n",
       "  </thead>\n",
       "  <tbody>\n",
       "    <tr>\n",
       "      <th>1</th>\n",
       "      <td>(3,)</td>\n",
       "      <td>[-0.4657939530233878, -0.4684570667429708, -0....</td>\n",
       "      <td>-0.470998</td>\n",
       "      <td>(Restaurant_network,)</td>\n",
       "    </tr>\n",
       "    <tr>\n",
       "      <th>2</th>\n",
       "      <td>(3, 9)</td>\n",
       "      <td>[-0.46213195856339345, -0.4632381871389025, -0...</td>\n",
       "      <td>-0.465996</td>\n",
       "      <td>(Restaurant_network, Price)</td>\n",
       "    </tr>\n",
       "    <tr>\n",
       "      <th>3</th>\n",
       "      <td>(3, 8, 9)</td>\n",
       "      <td>[-0.4657804260511135, -0.4672796431893845, -0....</td>\n",
       "      <td>-0.469249</td>\n",
       "      <td>(Restaurant_network, num_of_cuisine_styles, Pr...</td>\n",
       "    </tr>\n",
       "    <tr>\n",
       "      <th>4</th>\n",
       "      <td>(3, 6, 8, 9)</td>\n",
       "      <td>[-0.47165165500833506, -0.4707957132086408, -0...</td>\n",
       "      <td>-0.471733</td>\n",
       "      <td>(Restaurant_network, Population, num_of_cuisin...</td>\n",
       "    </tr>\n",
       "    <tr>\n",
       "      <th>5</th>\n",
       "      <td>(0, 3, 6, 8, 9)</td>\n",
       "      <td>[-0.3109868055555555, -0.3112055555555555, -0....</td>\n",
       "      <td>-0.309863</td>\n",
       "      <td>(Ranking, Restaurant_network, Population, num_...</td>\n",
       "    </tr>\n",
       "    <tr>\n",
       "      <th>6</th>\n",
       "      <td>(0, 1, 3, 6, 8, 9)</td>\n",
       "      <td>[-0.2136819444444444, -0.2151423611111111, -0....</td>\n",
       "      <td>-0.214857</td>\n",
       "      <td>(Ranking, Number_of_Reviews, Restaurant_networ...</td>\n",
       "    </tr>\n",
       "    <tr>\n",
       "      <th>7</th>\n",
       "      <td>(0, 1, 2, 4, 5, 6, 8)</td>\n",
       "      <td>[-0.21119791666666662, -0.2099069444444444, -0...</td>\n",
       "      <td>-0.211217</td>\n",
       "      <td>(Ranking, Number_of_Reviews, ID_TA, Country_co...</td>\n",
       "    </tr>\n",
       "    <tr>\n",
       "      <th>8</th>\n",
       "      <td>(0, 1, 2, 4, 5, 6, 7, 8)</td>\n",
       "      <td>[-0.21068263888888888, -0.20934930555555553, -...</td>\n",
       "      <td>-0.210821</td>\n",
       "      <td>(Ranking, Number_of_Reviews, ID_TA, Country_co...</td>\n",
       "    </tr>\n",
       "    <tr>\n",
       "      <th>9</th>\n",
       "      <td>(0, 1, 2, 3, 4, 5, 6, 7, 8)</td>\n",
       "      <td>[-0.2107208333333333, -0.2094847222222222, -0....</td>\n",
       "      <td>-0.210916</td>\n",
       "      <td>(Ranking, Number_of_Reviews, ID_TA, Restaurant...</td>\n",
       "    </tr>\n",
       "    <tr>\n",
       "      <th>10</th>\n",
       "      <td>(0, 1, 2, 3, 4, 5, 6, 7, 8, 9)</td>\n",
       "      <td>[-0.21096874999999998, -0.21005069444444438, -...</td>\n",
       "      <td>-0.211087</td>\n",
       "      <td>(Ranking, Number_of_Reviews, ID_TA, Restaurant...</td>\n",
       "    </tr>\n",
       "  </tbody>\n",
       "</table>\n",
       "</div>"
      ],
      "text/plain": [
       "                       feature_idx  \\\n",
       "1                             (3,)   \n",
       "2                           (3, 9)   \n",
       "3                        (3, 8, 9)   \n",
       "4                     (3, 6, 8, 9)   \n",
       "5                  (0, 3, 6, 8, 9)   \n",
       "6               (0, 1, 3, 6, 8, 9)   \n",
       "7            (0, 1, 2, 4, 5, 6, 8)   \n",
       "8         (0, 1, 2, 4, 5, 6, 7, 8)   \n",
       "9      (0, 1, 2, 3, 4, 5, 6, 7, 8)   \n",
       "10  (0, 1, 2, 3, 4, 5, 6, 7, 8, 9)   \n",
       "\n",
       "                                            cv_scores avg_score  \\\n",
       "1   [-0.4657939530233878, -0.4684570667429708, -0.... -0.470998   \n",
       "2   [-0.46213195856339345, -0.4632381871389025, -0... -0.465996   \n",
       "3   [-0.4657804260511135, -0.4672796431893845, -0.... -0.469249   \n",
       "4   [-0.47165165500833506, -0.4707957132086408, -0... -0.471733   \n",
       "5   [-0.3109868055555555, -0.3112055555555555, -0.... -0.309863   \n",
       "6   [-0.2136819444444444, -0.2151423611111111, -0.... -0.214857   \n",
       "7   [-0.21119791666666662, -0.2099069444444444, -0... -0.211217   \n",
       "8   [-0.21068263888888888, -0.20934930555555553, -... -0.210821   \n",
       "9   [-0.2107208333333333, -0.2094847222222222, -0.... -0.210916   \n",
       "10  [-0.21096874999999998, -0.21005069444444438, -... -0.211087   \n",
       "\n",
       "                                        feature_names  \n",
       "1                               (Restaurant_network,)  \n",
       "2                         (Restaurant_network, Price)  \n",
       "3   (Restaurant_network, num_of_cuisine_styles, Pr...  \n",
       "4   (Restaurant_network, Population, num_of_cuisin...  \n",
       "5   (Ranking, Restaurant_network, Population, num_...  \n",
       "6   (Ranking, Number_of_Reviews, Restaurant_networ...  \n",
       "7   (Ranking, Number_of_Reviews, ID_TA, Country_co...  \n",
       "8   (Ranking, Number_of_Reviews, ID_TA, Country_co...  \n",
       "9   (Ranking, Number_of_Reviews, ID_TA, Restaurant...  \n",
       "10  (Ranking, Number_of_Reviews, ID_TA, Restaurant...  "
      ]
     },
     "execution_count": 34,
     "metadata": {},
     "output_type": "execute_result"
    }
   ],
   "source": [
    "# Step-wise Selection\n",
    "sffs = SFS(RandomForestRegressor(n_estimators = 90, n_jobs=-1, random_state=RANDOM_SEED), \n",
    "          k_features=10, \n",
    "          forward=True, \n",
    "          floating=True, \n",
    "          scoring='neg_mean_absolute_error',\n",
    "          cv=5,\n",
    "          verbose=1,\n",
    "          n_jobs=-1)\n",
    "\n",
    "sffs = sffs.fit(X, y, custom_feature_names=X.columns)\n",
    "fig = plot_sfs(sffs.get_metric_dict(), kind='std_err')\n",
    "\n",
    "plt.title('Sequential Forward Selection (w. StdErr)')\n",
    "plt.grid()\n",
    "plt.show()\n",
    "\n",
    "df_SFFS_results = pd.DataFrame(sffs.subsets_).transpose()\n",
    "df_SFFS_results"
   ]
  },
  {
   "cell_type": "markdown",
   "metadata": {},
   "source": [
    "# Predict"
   ]
  },
  {
   "cell_type": "code",
   "execution_count": 49,
   "metadata": {
    "ExecuteTime": {
     "end_time": "2021-08-03T14:27:16.924253Z",
     "start_time": "2021-08-03T14:27:16.895247Z"
    }
   },
   "outputs": [],
   "source": [
    "sample_submission = pd.read_csv('../data/sample_submission.csv')"
   ]
  },
  {
   "cell_type": "code",
   "execution_count": 50,
   "metadata": {
    "ExecuteTime": {
     "end_time": "2021-08-03T14:27:17.151298Z",
     "start_time": "2021-08-03T14:27:17.134295Z"
    }
   },
   "outputs": [
    {
     "data": {
      "text/html": [
       "<div>\n",
       "<style scoped>\n",
       "    .dataframe tbody tr th:only-of-type {\n",
       "        vertical-align: middle;\n",
       "    }\n",
       "\n",
       "    .dataframe tbody tr th {\n",
       "        vertical-align: top;\n",
       "    }\n",
       "\n",
       "    .dataframe thead th {\n",
       "        text-align: right;\n",
       "    }\n",
       "</style>\n",
       "<table border=\"1\" class=\"dataframe\">\n",
       "  <thead>\n",
       "    <tr style=\"text-align: right;\">\n",
       "      <th></th>\n",
       "      <th>Restaurant_id</th>\n",
       "      <th>Rating</th>\n",
       "    </tr>\n",
       "  </thead>\n",
       "  <tbody>\n",
       "    <tr>\n",
       "      <th>0</th>\n",
       "      <td>id_0</td>\n",
       "      <td>3.210</td>\n",
       "    </tr>\n",
       "    <tr>\n",
       "      <th>1</th>\n",
       "      <td>id_1</td>\n",
       "      <td>4.330</td>\n",
       "    </tr>\n",
       "    <tr>\n",
       "      <th>2</th>\n",
       "      <td>id_2</td>\n",
       "      <td>4.355</td>\n",
       "    </tr>\n",
       "    <tr>\n",
       "      <th>3</th>\n",
       "      <td>id_3</td>\n",
       "      <td>4.375</td>\n",
       "    </tr>\n",
       "    <tr>\n",
       "      <th>4</th>\n",
       "      <td>id_4</td>\n",
       "      <td>4.410</td>\n",
       "    </tr>\n",
       "    <tr>\n",
       "      <th>...</th>\n",
       "      <td>...</td>\n",
       "      <td>...</td>\n",
       "    </tr>\n",
       "    <tr>\n",
       "      <th>9995</th>\n",
       "      <td>id_9995</td>\n",
       "      <td>4.470</td>\n",
       "    </tr>\n",
       "    <tr>\n",
       "      <th>9996</th>\n",
       "      <td>id_9996</td>\n",
       "      <td>4.120</td>\n",
       "    </tr>\n",
       "    <tr>\n",
       "      <th>9997</th>\n",
       "      <td>id_9997</td>\n",
       "      <td>3.005</td>\n",
       "    </tr>\n",
       "    <tr>\n",
       "      <th>9998</th>\n",
       "      <td>id_9998</td>\n",
       "      <td>4.500</td>\n",
       "    </tr>\n",
       "    <tr>\n",
       "      <th>9999</th>\n",
       "      <td>id_9999</td>\n",
       "      <td>4.160</td>\n",
       "    </tr>\n",
       "  </tbody>\n",
       "</table>\n",
       "<p>10000 rows × 2 columns</p>\n",
       "</div>"
      ],
      "text/plain": [
       "     Restaurant_id  Rating\n",
       "0             id_0   3.210\n",
       "1             id_1   4.330\n",
       "2             id_2   4.355\n",
       "3             id_3   4.375\n",
       "4             id_4   4.410\n",
       "...            ...     ...\n",
       "9995       id_9995   4.470\n",
       "9996       id_9996   4.120\n",
       "9997       id_9997   3.005\n",
       "9998       id_9998   4.500\n",
       "9999       id_9999   4.160\n",
       "\n",
       "[10000 rows x 2 columns]"
      ]
     },
     "execution_count": 50,
     "metadata": {},
     "output_type": "execute_result"
    }
   ],
   "source": [
    "sample_submission"
   ]
  },
  {
   "cell_type": "code",
   "execution_count": 51,
   "metadata": {
    "ExecuteTime": {
     "end_time": "2021-08-03T14:27:18.274523Z",
     "start_time": "2021-08-03T14:27:18.249518Z"
    }
   },
   "outputs": [],
   "source": [
    "X = df[df['sample'] == 1].drop(['Rating'], axis=1)\n",
    "X.drop(['sample'], axis=1, inplace=True)\n",
    "y = df['Rating'][df['sample'] == 1]\n",
    "\n",
    "X_train, X_test, y_train, y_test = train_test_split(X, y, test_size=0.25, shuffle=True, random_state=RANDOM_SEED)"
   ]
  },
  {
   "cell_type": "code",
   "execution_count": 52,
   "metadata": {
    "ExecuteTime": {
     "end_time": "2021-08-03T14:27:20.582984Z",
     "start_time": "2021-08-03T14:27:18.737615Z"
    }
   },
   "outputs": [
    {
     "name": "stdout",
     "output_type": "stream",
     "text": [
      "RMSE: 0.337231 | MAE: 0.18205 | R2: 0.739697\n"
     ]
    }
   ],
   "source": [
    "RFR = RandomForestRegressor(n_estimators = 90, n_jobs=-1, random_state=RANDOM_SEED)\n",
    "RFR.fit(X_train, y_train)\n",
    "y_pred = RFR.predict(X_test)\n",
    "\n",
    "for i in range(y_pred.size):\n",
    "    y_pred[i]=rating(y_pred[i])\n",
    "        \n",
    "(rmse, mae, r2) = eval_metrics(y_test, y_pred)\n",
    "\n",
    "print(f'RMSE: {np.round(rmse, 6)} | MAE: {np.round(mae, 6)} | R2: {np.round(r2, 6)}')"
   ]
  },
  {
   "cell_type": "code",
   "execution_count": 53,
   "metadata": {
    "ExecuteTime": {
     "end_time": "2021-08-03T14:27:22.864440Z",
     "start_time": "2021-08-03T14:27:22.852438Z"
    }
   },
   "outputs": [],
   "source": [
    "test = df[df['sample']==0]"
   ]
  },
  {
   "cell_type": "code",
   "execution_count": 54,
   "metadata": {
    "ExecuteTime": {
     "end_time": "2021-08-03T14:27:23.777623Z",
     "start_time": "2021-08-03T14:27:23.747617Z"
    }
   },
   "outputs": [
    {
     "data": {
      "text/html": [
       "<div>\n",
       "<style scoped>\n",
       "    .dataframe tbody tr th:only-of-type {\n",
       "        vertical-align: middle;\n",
       "    }\n",
       "\n",
       "    .dataframe tbody tr th {\n",
       "        vertical-align: top;\n",
       "    }\n",
       "\n",
       "    .dataframe thead th {\n",
       "        text-align: right;\n",
       "    }\n",
       "</style>\n",
       "<table border=\"1\" class=\"dataframe\">\n",
       "  <thead>\n",
       "    <tr style=\"text-align: right;\">\n",
       "      <th></th>\n",
       "      <th>Ranking</th>\n",
       "      <th>Rating</th>\n",
       "      <th>Number_of_Reviews</th>\n",
       "      <th>ID_TA</th>\n",
       "      <th>sample</th>\n",
       "      <th>Restaurant_network</th>\n",
       "      <th>Country_code</th>\n",
       "      <th>City_code</th>\n",
       "      <th>Population</th>\n",
       "      <th>Capital</th>\n",
       "      <th>num_of_cuisine_styles</th>\n",
       "      <th>Price</th>\n",
       "    </tr>\n",
       "  </thead>\n",
       "  <tbody>\n",
       "    <tr>\n",
       "      <th>40000</th>\n",
       "      <td>12963.0</td>\n",
       "      <td>NaN</td>\n",
       "      <td>4.0</td>\n",
       "      <td>10746918</td>\n",
       "      <td>0</td>\n",
       "      <td>1</td>\n",
       "      <td>5</td>\n",
       "      <td>24</td>\n",
       "      <td>2190327</td>\n",
       "      <td>1</td>\n",
       "      <td>2</td>\n",
       "      <td>2</td>\n",
       "    </tr>\n",
       "    <tr>\n",
       "      <th>40001</th>\n",
       "      <td>106.0</td>\n",
       "      <td>NaN</td>\n",
       "      <td>97.0</td>\n",
       "      <td>6674944</td>\n",
       "      <td>0</td>\n",
       "      <td>1</td>\n",
       "      <td>4</td>\n",
       "      <td>12</td>\n",
       "      <td>643272</td>\n",
       "      <td>1</td>\n",
       "      <td>5</td>\n",
       "      <td>2</td>\n",
       "    </tr>\n",
       "    <tr>\n",
       "      <th>40002</th>\n",
       "      <td>810.0</td>\n",
       "      <td>NaN</td>\n",
       "      <td>28.0</td>\n",
       "      <td>13129638</td>\n",
       "      <td>0</td>\n",
       "      <td>1</td>\n",
       "      <td>16</td>\n",
       "      <td>9</td>\n",
       "      <td>488100</td>\n",
       "      <td>1</td>\n",
       "      <td>1</td>\n",
       "      <td>2</td>\n",
       "    </tr>\n",
       "    <tr>\n",
       "      <th>40003</th>\n",
       "      <td>1669.0</td>\n",
       "      <td>NaN</td>\n",
       "      <td>202.0</td>\n",
       "      <td>680417</td>\n",
       "      <td>0</td>\n",
       "      <td>1</td>\n",
       "      <td>22</td>\n",
       "      <td>16</td>\n",
       "      <td>8908081</td>\n",
       "      <td>1</td>\n",
       "      <td>5</td>\n",
       "      <td>3</td>\n",
       "    </tr>\n",
       "    <tr>\n",
       "      <th>40004</th>\n",
       "      <td>37.0</td>\n",
       "      <td>NaN</td>\n",
       "      <td>162.0</td>\n",
       "      <td>1112354</td>\n",
       "      <td>0</td>\n",
       "      <td>1</td>\n",
       "      <td>17</td>\n",
       "      <td>4</td>\n",
       "      <td>432864</td>\n",
       "      <td>1</td>\n",
       "      <td>6</td>\n",
       "      <td>3</td>\n",
       "    </tr>\n",
       "    <tr>\n",
       "      <th>...</th>\n",
       "      <td>...</td>\n",
       "      <td>...</td>\n",
       "      <td>...</td>\n",
       "      <td>...</td>\n",
       "      <td>...</td>\n",
       "      <td>...</td>\n",
       "      <td>...</td>\n",
       "      <td>...</td>\n",
       "      <td>...</td>\n",
       "      <td>...</td>\n",
       "      <td>...</td>\n",
       "      <td>...</td>\n",
       "    </tr>\n",
       "    <tr>\n",
       "      <th>49995</th>\n",
       "      <td>4367.0</td>\n",
       "      <td>NaN</td>\n",
       "      <td>28.0</td>\n",
       "      <td>11916827</td>\n",
       "      <td>0</td>\n",
       "      <td>1</td>\n",
       "      <td>22</td>\n",
       "      <td>16</td>\n",
       "      <td>8908081</td>\n",
       "      <td>1</td>\n",
       "      <td>4</td>\n",
       "      <td>1</td>\n",
       "    </tr>\n",
       "    <tr>\n",
       "      <th>49996</th>\n",
       "      <td>2612.0</td>\n",
       "      <td>NaN</td>\n",
       "      <td>2.0</td>\n",
       "      <td>12701633</td>\n",
       "      <td>0</td>\n",
       "      <td>0</td>\n",
       "      <td>15</td>\n",
       "      <td>14</td>\n",
       "      <td>505526</td>\n",
       "      <td>1</td>\n",
       "      <td>4</td>\n",
       "      <td>2</td>\n",
       "    </tr>\n",
       "    <tr>\n",
       "      <th>49997</th>\n",
       "      <td>5562.0</td>\n",
       "      <td>NaN</td>\n",
       "      <td>2.0</td>\n",
       "      <td>13198194</td>\n",
       "      <td>0</td>\n",
       "      <td>0</td>\n",
       "      <td>10</td>\n",
       "      <td>20</td>\n",
       "      <td>1378689</td>\n",
       "      <td>0</td>\n",
       "      <td>1</td>\n",
       "      <td>2</td>\n",
       "    </tr>\n",
       "    <tr>\n",
       "      <th>49998</th>\n",
       "      <td>4010.0</td>\n",
       "      <td>NaN</td>\n",
       "      <td>2.0</td>\n",
       "      <td>3862815</td>\n",
       "      <td>0</td>\n",
       "      <td>0</td>\n",
       "      <td>10</td>\n",
       "      <td>20</td>\n",
       "      <td>1378689</td>\n",
       "      <td>0</td>\n",
       "      <td>1</td>\n",
       "      <td>2</td>\n",
       "    </tr>\n",
       "    <tr>\n",
       "      <th>49999</th>\n",
       "      <td>6791.0</td>\n",
       "      <td>NaN</td>\n",
       "      <td>14.0</td>\n",
       "      <td>10342814</td>\n",
       "      <td>0</td>\n",
       "      <td>0</td>\n",
       "      <td>5</td>\n",
       "      <td>24</td>\n",
       "      <td>2190327</td>\n",
       "      <td>1</td>\n",
       "      <td>1</td>\n",
       "      <td>2</td>\n",
       "    </tr>\n",
       "  </tbody>\n",
       "</table>\n",
       "<p>10000 rows × 12 columns</p>\n",
       "</div>"
      ],
      "text/plain": [
       "       Ranking  Rating  Number_of_Reviews     ID_TA  sample  \\\n",
       "40000  12963.0     NaN                4.0  10746918       0   \n",
       "40001    106.0     NaN               97.0   6674944       0   \n",
       "40002    810.0     NaN               28.0  13129638       0   \n",
       "40003   1669.0     NaN              202.0    680417       0   \n",
       "40004     37.0     NaN              162.0   1112354       0   \n",
       "...        ...     ...                ...       ...     ...   \n",
       "49995   4367.0     NaN               28.0  11916827       0   \n",
       "49996   2612.0     NaN                2.0  12701633       0   \n",
       "49997   5562.0     NaN                2.0  13198194       0   \n",
       "49998   4010.0     NaN                2.0   3862815       0   \n",
       "49999   6791.0     NaN               14.0  10342814       0   \n",
       "\n",
       "       Restaurant_network  Country_code  City_code  Population  Capital  \\\n",
       "40000                   1             5         24     2190327        1   \n",
       "40001                   1             4         12      643272        1   \n",
       "40002                   1            16          9      488100        1   \n",
       "40003                   1            22         16     8908081        1   \n",
       "40004                   1            17          4      432864        1   \n",
       "...                   ...           ...        ...         ...      ...   \n",
       "49995                   1            22         16     8908081        1   \n",
       "49996                   0            15         14      505526        1   \n",
       "49997                   0            10         20     1378689        0   \n",
       "49998                   0            10         20     1378689        0   \n",
       "49999                   0             5         24     2190327        1   \n",
       "\n",
       "       num_of_cuisine_styles  Price  \n",
       "40000                      2      2  \n",
       "40001                      5      2  \n",
       "40002                      1      2  \n",
       "40003                      5      3  \n",
       "40004                      6      3  \n",
       "...                      ...    ...  \n",
       "49995                      4      1  \n",
       "49996                      4      2  \n",
       "49997                      1      2  \n",
       "49998                      1      2  \n",
       "49999                      1      2  \n",
       "\n",
       "[10000 rows x 12 columns]"
      ]
     },
     "execution_count": 54,
     "metadata": {},
     "output_type": "execute_result"
    }
   ],
   "source": [
    "test"
   ]
  },
  {
   "cell_type": "code",
   "execution_count": 55,
   "metadata": {
    "ExecuteTime": {
     "end_time": "2021-08-03T14:27:24.687805Z",
     "start_time": "2021-08-03T14:27:24.593786Z"
    }
   },
   "outputs": [],
   "source": [
    "X_submission = test.drop(['Rating', 'sample'], axis=1)\n",
    "y_submission = RFR.predict(X_submission)"
   ]
  },
  {
   "cell_type": "code",
   "execution_count": 56,
   "metadata": {
    "ExecuteTime": {
     "end_time": "2021-08-03T14:27:25.387945Z",
     "start_time": "2021-08-03T14:27:25.368941Z"
    }
   },
   "outputs": [],
   "source": [
    "for i in range(y_pred.size):\n",
    "    y_submission[i]=rating(y_submission[i])"
   ]
  },
  {
   "cell_type": "code",
   "execution_count": 57,
   "metadata": {
    "ExecuteTime": {
     "end_time": "2021-08-03T14:27:28.042476Z",
     "start_time": "2021-08-03T14:27:28.000467Z"
    }
   },
   "outputs": [],
   "source": [
    "sample_submission['Rating'] = y_submission\n",
    "sample_submission.to_csv('../data/random_forest_90.csv', index=False)"
   ]
  },
  {
   "cell_type": "code",
   "execution_count": 60,
   "metadata": {
    "ExecuteTime": {
     "end_time": "2021-08-03T14:39:35.986035Z",
     "start_time": "2021-08-03T14:39:35.964031Z"
    }
   },
   "outputs": [
    {
     "data": {
      "text/html": [
       "<div>\n",
       "<style scoped>\n",
       "    .dataframe tbody tr th:only-of-type {\n",
       "        vertical-align: middle;\n",
       "    }\n",
       "\n",
       "    .dataframe tbody tr th {\n",
       "        vertical-align: top;\n",
       "    }\n",
       "\n",
       "    .dataframe thead th {\n",
       "        text-align: right;\n",
       "    }\n",
       "</style>\n",
       "<table border=\"1\" class=\"dataframe\">\n",
       "  <thead>\n",
       "    <tr style=\"text-align: right;\">\n",
       "      <th></th>\n",
       "      <th>Restaurant_id</th>\n",
       "      <th>Rating</th>\n",
       "    </tr>\n",
       "  </thead>\n",
       "  <tbody>\n",
       "    <tr>\n",
       "      <th>0</th>\n",
       "      <td>id_0</td>\n",
       "      <td>3.5</td>\n",
       "    </tr>\n",
       "    <tr>\n",
       "      <th>1</th>\n",
       "      <td>id_1</td>\n",
       "      <td>4.5</td>\n",
       "    </tr>\n",
       "    <tr>\n",
       "      <th>2</th>\n",
       "      <td>id_2</td>\n",
       "      <td>4.5</td>\n",
       "    </tr>\n",
       "    <tr>\n",
       "      <th>3</th>\n",
       "      <td>id_3</td>\n",
       "      <td>4.5</td>\n",
       "    </tr>\n",
       "    <tr>\n",
       "      <th>4</th>\n",
       "      <td>id_4</td>\n",
       "      <td>4.5</td>\n",
       "    </tr>\n",
       "    <tr>\n",
       "      <th>...</th>\n",
       "      <td>...</td>\n",
       "      <td>...</td>\n",
       "    </tr>\n",
       "    <tr>\n",
       "      <th>9995</th>\n",
       "      <td>id_9995</td>\n",
       "      <td>4.5</td>\n",
       "    </tr>\n",
       "    <tr>\n",
       "      <th>9996</th>\n",
       "      <td>id_9996</td>\n",
       "      <td>4.0</td>\n",
       "    </tr>\n",
       "    <tr>\n",
       "      <th>9997</th>\n",
       "      <td>id_9997</td>\n",
       "      <td>3.0</td>\n",
       "    </tr>\n",
       "    <tr>\n",
       "      <th>9998</th>\n",
       "      <td>id_9998</td>\n",
       "      <td>4.5</td>\n",
       "    </tr>\n",
       "    <tr>\n",
       "      <th>9999</th>\n",
       "      <td>id_9999</td>\n",
       "      <td>4.0</td>\n",
       "    </tr>\n",
       "  </tbody>\n",
       "</table>\n",
       "<p>10000 rows × 2 columns</p>\n",
       "</div>"
      ],
      "text/plain": [
       "     Restaurant_id  Rating\n",
       "0             id_0     3.5\n",
       "1             id_1     4.5\n",
       "2             id_2     4.5\n",
       "3             id_3     4.5\n",
       "4             id_4     4.5\n",
       "...            ...     ...\n",
       "9995       id_9995     4.5\n",
       "9996       id_9996     4.0\n",
       "9997       id_9997     3.0\n",
       "9998       id_9998     4.5\n",
       "9999       id_9999     4.0\n",
       "\n",
       "[10000 rows x 2 columns]"
      ]
     },
     "execution_count": 60,
     "metadata": {},
     "output_type": "execute_result"
    }
   ],
   "source": [
    "sample_submission"
   ]
  },
  {
   "cell_type": "code",
   "execution_count": 17,
   "metadata": {
    "ExecuteTime": {
     "end_time": "2021-08-03T12:03:04.851184Z",
     "start_time": "2021-08-03T12:03:04.831180Z"
    }
   },
   "outputs": [],
   "source": [
    "def neptune_random_forest(data, n_estimators, RANDOM_SEED):\n",
    "    \n",
    "    df = data.copy()\n",
    "    df.reset_index(inplace=True)\n",
    "    \n",
    "    run = neptune.init(project='alxkzncoff/rest-rating',\n",
    "                       tags='random_forest',\n",
    "                       api_token='eyJhcGlfYWRkcmVzcyI6Imh0dHBzOi8vYXBwLm5lcHR1bmUuYWkiLCJhcGlfdXJsIjoiaHR0cHM6Ly9hcHAubmVwdHVuZS5haSIsImFwaV9rZXkiOiI5ZmI4NDE1Ny03YzcyLTQwOTQtOTUwMi1kODlkYWMwY2YwOGQifQ==',\n",
    "                       name = 'random_forest')\n",
    "    \n",
    "    neptune_callback = optuna_utils.NeptuneCallback(run)\n",
    "    \n",
    "    ######################## Split #########################\n",
    "    \n",
    "    X = df[df['sample'] == 1].drop(['Rating'], axis=1)\n",
    "    X.drop(['sample'], axis=1, inplace=True)\n",
    "    y = df['Rating'][df['sample'] == 1]\n",
    "    \n",
    "    X_train, X_test, y_train, y_test = train_test_split(X, y, test_size=0.25, shuffle=True, random_state=RANDOM_SEED)\n",
    "    \n",
    "    ######################## Model #########################\n",
    "    \n",
    "    RFR = RandomForestRegressor(n_estimators=n_estimators, n_jobs=-1, random_state=RANDOM_SEED)\n",
    "    \n",
    "    ######################## Fit #########################\n",
    "    \n",
    "    RFR.fit(X_train, y_train)\n",
    "    \n",
    "    ######################## Predict #########################\n",
    "    \n",
    "    y_pred = RFR.predict(X_test)\n",
    "    \n",
    "    for i in range(y_pred.size):\n",
    "        y_pred[i]=rating(y_pred[i])\n",
    "        \n",
    "    (rmse, mae, r2) = eval_metrics(y_test, y_pred)\n",
    "    \n",
    "    ######################## Neptune logs #########################\n",
    "    \n",
    "    # Metrics\n",
    "    run['metric/rmse'].log(np.round(rmse, 3))\n",
    "    run['metric/mae'].log(np.round(mae, 3))\n",
    "    run['metric/r2'].log(np.round(r2, 3))\n",
    "    \n",
    "    # Parameters \n",
    "    PARAMS = RFR.get_params()\n",
    "    \n",
    "    run['parameters'] = PARAMS\n",
    "\n",
    "    # Plots\n",
    "    # Feature Importance\n",
    "    features = X.columns\n",
    "    importances = RFR.feature_importances_\n",
    "    indices = np.argsort(importances)\n",
    "    \n",
    "    fig = plt.figure(figsize=(10, 8))\n",
    "\n",
    "    plt.title('Feature Importances')\n",
    "    plt.barh(range(len(indices)), importances[indices], color='b', align='center')\n",
    "    plt.yticks(range(len(indices)), [features[i] for i in indices])\n",
    "    plt.xlabel('Relative Importance')\n",
    "\n",
    "    run['matplotlib-fig'].upload(fig)\n",
    "    \n",
    "    print(f'RMSE: {np.round(rmse, 3)} | MAE: {np.round(mae, 3)} | R2: {np.round(r2, 3)}')\n",
    "\n",
    "    run.stop()\n",
    "    \n",
    "    return y_pred"
   ]
  },
  {
   "cell_type": "code",
   "execution_count": 18,
   "metadata": {
    "ExecuteTime": {
     "end_time": "2021-08-03T12:03:13.012816Z",
     "start_time": "2021-08-03T12:03:06.414497Z"
    }
   },
   "outputs": [
    {
     "name": "stdout",
     "output_type": "stream",
     "text": [
      "https://app.neptune.ai/alxkzncoff/rest-rating/e/RES-1\n",
      "Remember to stop your run once you’ve finished logging your metadata (https://docs.neptune.ai/api-reference/run#stop). It will be stopped automatically only when the notebook kernel/interactive console is terminated.\n",
      "RMSE: 0.339 | MAE: 0.183 | R2: 0.736\n",
      "Shutting down background jobs, please wait a moment...\n",
      "Done!\n"
     ]
    },
    {
     "name": "stderr",
     "output_type": "stream",
     "text": [
      "Waiting for the remaining 40 operations to synchronize with Neptune. Do not kill this process.\n"
     ]
    },
    {
     "name": "stdout",
     "output_type": "stream",
     "text": [
      "All 40 operations synced, thanks for waiting!\r\n"
     ]
    },
    {
     "data": {
      "image/png": "[encoded data removed]",
      "text/plain": [
       "<Figure size 720x576 with 1 Axes>"
      ]
     },
     "metadata": {
      "needs_background": "light"
     },
     "output_type": "display_data"
    }
   ],
   "source": [
    "y_pred = neptune_random_forest(df, 100, RANDOM_SEED)"
   ]
  },
  {
   "cell_type": "code",
   "execution_count": null,
   "metadata": {},
   "outputs": [],
   "source": []
  }
 ],
 "metadata": {
  "kernelspec": {
   "display_name": "Python 3",
   "language": "python",
   "name": "python3"
  },
  "language_info": {
   "codemirror_mode": {
    "name": "ipython",
    "version": 3
   },
   "file_extension": ".py",
   "mimetype": "text/x-python",
   "name": "python",
   "nbconvert_exporter": "python",
   "pygments_lexer": "ipython3",
   "version": "3.8.3"
  },
  "toc": {
   "base_numbering": 1,
   "nav_menu": {},
   "number_sections": true,
   "sideBar": true,
   "skip_h1_title": false,
   "title_cell": "Table of Contents",
   "title_sidebar": "Contents",
   "toc_cell": false,
   "toc_position": {},
   "toc_section_display": true,
   "toc_window_display": true
  },
  "varInspector": {
   "cols": {
    "lenName": 16,
    "lenType": 16,
    "lenVar": 40
   },
   "kernels_config": {
    "python": {
     "delete_cmd_postfix": "",
     "delete_cmd_prefix": "del ",
     "library": "var_list.py",
     "varRefreshCmd": "print(var_dic_list())"
    },
    "r": {
     "delete_cmd_postfix": ") ",
     "delete_cmd_prefix": "rm(",
     "library": "var_list.r",
     "varRefreshCmd": "cat(var_dic_list()) "
    }
   },
   "types_to_exclude": [
    "module",
    "function",
    "builtin_function_or_method",
    "instance",
    "_Feature"
   ],
   "window_display": false
  }
 },
 "nbformat": 4,
 "nbformat_minor": 5
}
